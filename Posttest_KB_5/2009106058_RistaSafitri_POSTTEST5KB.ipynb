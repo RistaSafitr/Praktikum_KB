{
 "cells": [
  {
   "cell_type": "markdown",
   "id": "6ceb111a",
   "metadata": {},
   "source": [
    "# POSTTEST 5 KECERDASAN BUATAN\n",
    "Dataset: https://www.kaggle.com/datasets/sameepvani/nasa-nearest-earth-objects?select=neo.csv"
   ]
  },
  {
   "cell_type": "markdown",
   "id": "6e278554",
   "metadata": {},
   "source": [
    "Nama : Rista Safitri\n",
    "NIM  : 2009106058"
   ]
  },
  {
   "cell_type": "markdown",
   "id": "e8a477a0",
   "metadata": {},
   "source": [
    "import library yang dibutuhkan"
   ]
  },
  {
   "cell_type": "code",
   "execution_count": 1,
   "id": "b331b01b",
   "metadata": {},
   "outputs": [],
   "source": [
    "import numpy as np\n",
    "import pandas as pd\n",
    "import seaborn as sns\n",
    "import matplotlib.pyplot as plt\n",
    "from sklearn import preprocessing, svm\n",
    "from sklearn.model_selection import train_test_split\n",
    "from sklearn.linear_model import LinearRegression\n",
    "from sklearn.naive_bayes import GaussianNB\n",
    "from sklearn.metrics import accuracy_score\n",
    "from sklearn.metrics import mean_squared_error, r2_score\n",
    "from sklearn.metrics import classification_report, ConfusionMatrixDisplay\n",
    "from sklearn.neighbors import KNeighborsClassifier\n",
    "from sklearn import datasets, linear_model\n",
    "from sklearn.metrics import mean_absolute_error"
   ]
  },
  {
   "cell_type": "markdown",
   "id": "b8286d39",
   "metadata": {},
   "source": [
    "Membaca data dari dataset"
   ]
  },
  {
   "cell_type": "code",
   "execution_count": 2,
   "id": "c1120ff1",
   "metadata": {},
   "outputs": [],
   "source": [
    "df = pd.read_csv(\"Nasa_neo_2022.csv\")"
   ]
  },
  {
   "cell_type": "markdown",
   "id": "3cc409c8",
   "metadata": {},
   "source": [
    "Melihat dimensi dari dataset"
   ]
  },
  {
   "cell_type": "code",
   "execution_count": 3,
   "id": "b57df9c2",
   "metadata": {},
   "outputs": [
    {
     "data": {
      "text/plain": [
       "(2899, 10)"
      ]
     },
     "execution_count": 3,
     "metadata": {},
     "output_type": "execute_result"
    }
   ],
   "source": [
    "df.shape"
   ]
  },
  {
   "cell_type": "markdown",
   "id": "a80f036b",
   "metadata": {},
   "source": [
    "Melihat informasi tentang dataset yang digunakan"
   ]
  },
  {
   "cell_type": "code",
   "execution_count": 4,
   "id": "b4b4ea4f",
   "metadata": {},
   "outputs": [
    {
     "name": "stdout",
     "output_type": "stream",
     "text": [
      "<class 'pandas.core.frame.DataFrame'>\n",
      "Int64Index: 2899 entries, 0 to 2963\n",
      "Data columns (total 10 columns):\n",
      " #   Column              Non-Null Count  Dtype  \n",
      "---  ------              --------------  -----  \n",
      " 0   id                  2899 non-null   int64  \n",
      " 1   name                2899 non-null   object \n",
      " 2   est_diameter_min    2899 non-null   float64\n",
      " 3   est_diameter_max    2899 non-null   float64\n",
      " 4   relative_velocity   2899 non-null   float64\n",
      " 5   miss_distance       2899 non-null   float64\n",
      " 6   orbiting_body       2899 non-null   object \n",
      " 7   sentry_object       2899 non-null   bool   \n",
      " 8   absolute_magnitude  2899 non-null   float64\n",
      " 9   hazardous           2899 non-null   bool   \n",
      "dtypes: bool(2), float64(5), int64(1), object(2)\n",
      "memory usage: 209.5+ KB\n"
     ]
    }
   ],
   "source": [
    "df.info()"
   ]
  },
  {
   "cell_type": "markdown",
   "id": "f52a1d4b",
   "metadata": {},
   "source": [
    "Memeriksa jumlah data null di dalam dataset"
   ]
  },
  {
   "cell_type": "code",
   "execution_count": 5,
   "id": "7c1116df",
   "metadata": {},
   "outputs": [
    {
     "data": {
      "text/plain": [
       "id                    0\n",
       "name                  0\n",
       "est_diameter_min      0\n",
       "est_diameter_max      0\n",
       "relative_velocity     0\n",
       "miss_distance         0\n",
       "orbiting_body         0\n",
       "sentry_object         0\n",
       "absolute_magnitude    0\n",
       "hazardous             0\n",
       "dtype: int64"
      ]
     },
     "execution_count": 5,
     "metadata": {},
     "output_type": "execute_result"
    }
   ],
   "source": [
    "df.isnull().sum()"
   ]
  },
  {
   "cell_type": "markdown",
   "id": "2b7b0ca9",
   "metadata": {},
   "source": [
    "Memeriksa tipe-tipe data dalam dataset yang digunakan"
   ]
  },
  {
   "cell_type": "code",
   "execution_count": 6,
   "id": "c29dcc73",
   "metadata": {},
   "outputs": [
    {
     "data": {
      "text/plain": [
       "id                      int64\n",
       "name                   object\n",
       "est_diameter_min      float64\n",
       "est_diameter_max      float64\n",
       "relative_velocity     float64\n",
       "miss_distance         float64\n",
       "orbiting_body          object\n",
       "sentry_object            bool\n",
       "absolute_magnitude    float64\n",
       "hazardous                bool\n",
       "dtype: object"
      ]
     },
     "execution_count": 6,
     "metadata": {},
     "output_type": "execute_result"
    }
   ],
   "source": [
    "df.dtypes"
   ]
  },
  {
   "cell_type": "markdown",
   "id": "9dd9c6ed",
   "metadata": {},
   "source": [
    "Linear Regression"
   ]
  },
  {
   "cell_type": "code",
   "execution_count": 7,
   "id": "3855fb7c",
   "metadata": {},
   "outputs": [],
   "source": [
    "df_X = np.array(df['est_diameter_min']).reshape(-1, 1)"
   ]
  },
  {
   "cell_type": "code",
   "execution_count": 8,
   "id": "66fcaf04",
   "metadata": {},
   "outputs": [],
   "source": [
    "df_y = np.array(df['est_diameter_max']).reshape(-1, 1)"
   ]
  },
  {
   "cell_type": "code",
   "execution_count": 9,
   "id": "9a53c762",
   "metadata": {},
   "outputs": [],
   "source": [
    "X_train, X_test, y_train, y_test = train_test_split(df_X, df_y, random_state=0, test_size = .2)"
   ]
  },
  {
   "cell_type": "code",
   "execution_count": 10,
   "id": "c7cbcb25",
   "metadata": {},
   "outputs": [
    {
     "data": {
      "text/plain": [
       "(<function sklearn.metrics._regression.mean_absolute_error(y_true, y_pred, *, sample_weight=None, multioutput='uniform_average')>,\n",
       " <function sklearn.metrics._regression.r2_score(y_true, y_pred, *, sample_weight=None, multioutput='uniform_average', force_finite=True)>,\n",
       " <function sklearn.metrics._regression.mean_squared_error(y_true, y_pred, *, sample_weight=None, multioutput='uniform_average', squared=True)>)"
      ]
     },
     "execution_count": 10,
     "metadata": {},
     "output_type": "execute_result"
    }
   ],
   "source": [
    "mean_absolute_error, r2_score, mean_squared_error"
   ]
  },
  {
   "cell_type": "code",
   "execution_count": 11,
   "id": "6c011128",
   "metadata": {},
   "outputs": [],
   "source": [
    "regresi = LinearRegression()"
   ]
  },
  {
   "cell_type": "code",
   "execution_count": 12,
   "id": "1259ada7",
   "metadata": {},
   "outputs": [
    {
     "data": {
      "text/html": [
       "<style>#sk-container-id-1 {color: black;background-color: white;}#sk-container-id-1 pre{padding: 0;}#sk-container-id-1 div.sk-toggleable {background-color: white;}#sk-container-id-1 label.sk-toggleable__label {cursor: pointer;display: block;width: 100%;margin-bottom: 0;padding: 0.3em;box-sizing: border-box;text-align: center;}#sk-container-id-1 label.sk-toggleable__label-arrow:before {content: \"▸\";float: left;margin-right: 0.25em;color: #696969;}#sk-container-id-1 label.sk-toggleable__label-arrow:hover:before {color: black;}#sk-container-id-1 div.sk-estimator:hover label.sk-toggleable__label-arrow:before {color: black;}#sk-container-id-1 div.sk-toggleable__content {max-height: 0;max-width: 0;overflow: hidden;text-align: left;background-color: #f0f8ff;}#sk-container-id-1 div.sk-toggleable__content pre {margin: 0.2em;color: black;border-radius: 0.25em;background-color: #f0f8ff;}#sk-container-id-1 input.sk-toggleable__control:checked~div.sk-toggleable__content {max-height: 200px;max-width: 100%;overflow: auto;}#sk-container-id-1 input.sk-toggleable__control:checked~label.sk-toggleable__label-arrow:before {content: \"▾\";}#sk-container-id-1 div.sk-estimator input.sk-toggleable__control:checked~label.sk-toggleable__label {background-color: #d4ebff;}#sk-container-id-1 div.sk-label input.sk-toggleable__control:checked~label.sk-toggleable__label {background-color: #d4ebff;}#sk-container-id-1 input.sk-hidden--visually {border: 0;clip: rect(1px 1px 1px 1px);clip: rect(1px, 1px, 1px, 1px);height: 1px;margin: -1px;overflow: hidden;padding: 0;position: absolute;width: 1px;}#sk-container-id-1 div.sk-estimator {font-family: monospace;background-color: #f0f8ff;border: 1px dotted black;border-radius: 0.25em;box-sizing: border-box;margin-bottom: 0.5em;}#sk-container-id-1 div.sk-estimator:hover {background-color: #d4ebff;}#sk-container-id-1 div.sk-parallel-item::after {content: \"\";width: 100%;border-bottom: 1px solid gray;flex-grow: 1;}#sk-container-id-1 div.sk-label:hover label.sk-toggleable__label {background-color: #d4ebff;}#sk-container-id-1 div.sk-serial::before {content: \"\";position: absolute;border-left: 1px solid gray;box-sizing: border-box;top: 0;bottom: 0;left: 50%;z-index: 0;}#sk-container-id-1 div.sk-serial {display: flex;flex-direction: column;align-items: center;background-color: white;padding-right: 0.2em;padding-left: 0.2em;position: relative;}#sk-container-id-1 div.sk-item {position: relative;z-index: 1;}#sk-container-id-1 div.sk-parallel {display: flex;align-items: stretch;justify-content: center;background-color: white;position: relative;}#sk-container-id-1 div.sk-item::before, #sk-container-id-1 div.sk-parallel-item::before {content: \"\";position: absolute;border-left: 1px solid gray;box-sizing: border-box;top: 0;bottom: 0;left: 50%;z-index: -1;}#sk-container-id-1 div.sk-parallel-item {display: flex;flex-direction: column;z-index: 1;position: relative;background-color: white;}#sk-container-id-1 div.sk-parallel-item:first-child::after {align-self: flex-end;width: 50%;}#sk-container-id-1 div.sk-parallel-item:last-child::after {align-self: flex-start;width: 50%;}#sk-container-id-1 div.sk-parallel-item:only-child::after {width: 0;}#sk-container-id-1 div.sk-dashed-wrapped {border: 1px dashed gray;margin: 0 0.4em 0.5em 0.4em;box-sizing: border-box;padding-bottom: 0.4em;background-color: white;}#sk-container-id-1 div.sk-label label {font-family: monospace;font-weight: bold;display: inline-block;line-height: 1.2em;}#sk-container-id-1 div.sk-label-container {text-align: center;}#sk-container-id-1 div.sk-container {/* jupyter's `normalize.less` sets `[hidden] { display: none; }` but bootstrap.min.css set `[hidden] { display: none !important; }` so we also need the `!important` here to be able to override the default hidden behavior on the sphinx rendered scikit-learn.org. See: https://github.com/scikit-learn/scikit-learn/issues/21755 */display: inline-block !important;position: relative;}#sk-container-id-1 div.sk-text-repr-fallback {display: none;}</style><div id=\"sk-container-id-1\" class=\"sk-top-container\"><div class=\"sk-text-repr-fallback\"><pre>LinearRegression()</pre><b>In a Jupyter environment, please rerun this cell to show the HTML representation or trust the notebook. <br />On GitHub, the HTML representation is unable to render, please try loading this page with nbviewer.org.</b></div><div class=\"sk-container\" hidden><div class=\"sk-item\"><div class=\"sk-estimator sk-toggleable\"><input class=\"sk-toggleable__control sk-hidden--visually\" id=\"sk-estimator-id-1\" type=\"checkbox\" checked><label for=\"sk-estimator-id-1\" class=\"sk-toggleable__label sk-toggleable__label-arrow\">LinearRegression</label><div class=\"sk-toggleable__content\"><pre>LinearRegression()</pre></div></div></div></div></div>"
      ],
      "text/plain": [
       "LinearRegression()"
      ]
     },
     "execution_count": 12,
     "metadata": {},
     "output_type": "execute_result"
    }
   ],
   "source": [
    "regresi.fit(X_train, y_train)"
   ]
  },
  {
   "cell_type": "code",
   "execution_count": 13,
   "id": "f2701615",
   "metadata": {},
   "outputs": [
    {
     "name": "stdout",
     "output_type": "stream",
     "text": [
      "1.0\n"
     ]
    }
   ],
   "source": [
    "print(regresi.score(X_test, y_test))"
   ]
  },
  {
   "cell_type": "code",
   "execution_count": 14,
   "id": "ad31c3f8",
   "metadata": {},
   "outputs": [],
   "source": [
    "prediksi_y = regresi.predict(X_test)"
   ]
  },
  {
   "cell_type": "code",
   "execution_count": 15,
   "id": "218d264e",
   "metadata": {},
   "outputs": [
    {
     "data": {
      "image/png": "[encoded data removed]",
      "text/plain": [
       "<Figure size 432x288 with 1 Axes>"
      ]
     },
     "metadata": {},
     "output_type": "display_data"
    }
   ],
   "source": [
    "plt.scatter(X_test, y_test, color ='b')\n",
    "plt.plot(X_test, prediksi_y, color ='k')\n",
    "plt.xticks(())\n",
    "plt.yticks(())\n",
    "plt.show()"
   ]
  },
  {
   "cell_type": "markdown",
   "id": "faa5a174",
   "metadata": {},
   "source": [
    "Hasil Output Regression"
   ]
  },
  {
   "cell_type": "code",
   "execution_count": 16,
   "id": "33ae7309",
   "metadata": {},
   "outputs": [
    {
     "name": "stdout",
     "output_type": "stream",
     "text": [
      "R^2 :  1.0\n",
      "MAE : 5.9523938584319e-11\n",
      "RMSE: 7.108019494008796e-11\n"
     ]
    }
   ],
   "source": [
    "print(\"R^2 : \", r2_score(y_test, prediksi_y))\n",
    "print(\"MAE :\", mean_absolute_error(y_test, prediksi_y))\n",
    "print(\"RMSE:\",np.sqrt(mean_squared_error(y_test, prediksi_y)))"
   ]
  },
  {
   "cell_type": "markdown",
   "id": "be612240",
   "metadata": {},
   "source": [
    "KNN Algorithm"
   ]
  },
  {
   "cell_type": "code",
   "execution_count": 17,
   "id": "c7acd520",
   "metadata": {},
   "outputs": [],
   "source": [
    "data_X = df[['est_diameter_min', 'est_diameter_max', 'relative_velocity', 'miss_distance','absolute_magnitude']]\n",
    "data_Y = df['name']"
   ]
  },
  {
   "cell_type": "code",
   "execution_count": 18,
   "id": "1c4f4f58",
   "metadata": {},
   "outputs": [],
   "source": [
    "x_train, x_test, y_train, y_test = train_test_split(data_X, data_Y, random_state = 0, test_size=.2)"
   ]
  },
  {
   "cell_type": "code",
   "execution_count": 19,
   "id": "289d5e67",
   "metadata": {},
   "outputs": [
    {
     "name": "stdout",
     "output_type": "stream",
     "text": [
      "the length of data train is 2319 row\n",
      "the length of label train is 2319 row\n",
      "the length of data test is 580 row\n",
      "the length of label test is 580 row\n",
      "the length of total dataset is 2899 row\n"
     ]
    }
   ],
   "source": [
    "print(f'the length of data train is {len(x_train)} row',\n",
    "      f'the length of label train is {len(y_train)} row',\n",
    "      f'the length of data test is {len(x_test)} row',\n",
    "      f'the length of label test is {len(y_test)} row',\n",
    "      f'the length of total dataset is {len(df)} row',\n",
    "      sep='\\n')"
   ]
  },
  {
   "cell_type": "code",
   "execution_count": 20,
   "id": "856a3a00",
   "metadata": {},
   "outputs": [],
   "source": [
    "klasifikasi = GaussianNB()"
   ]
  },
  {
   "cell_type": "code",
   "execution_count": 21,
   "id": "f36f2b38",
   "metadata": {},
   "outputs": [
    {
     "data": {
      "text/html": [
       "<style>#sk-container-id-2 {color: black;background-color: white;}#sk-container-id-2 pre{padding: 0;}#sk-container-id-2 div.sk-toggleable {background-color: white;}#sk-container-id-2 label.sk-toggleable__label {cursor: pointer;display: block;width: 100%;margin-bottom: 0;padding: 0.3em;box-sizing: border-box;text-align: center;}#sk-container-id-2 label.sk-toggleable__label-arrow:before {content: \"▸\";float: left;margin-right: 0.25em;color: #696969;}#sk-container-id-2 label.sk-toggleable__label-arrow:hover:before {color: black;}#sk-container-id-2 div.sk-estimator:hover label.sk-toggleable__label-arrow:before {color: black;}#sk-container-id-2 div.sk-toggleable__content {max-height: 0;max-width: 0;overflow: hidden;text-align: left;background-color: #f0f8ff;}#sk-container-id-2 div.sk-toggleable__content pre {margin: 0.2em;color: black;border-radius: 0.25em;background-color: #f0f8ff;}#sk-container-id-2 input.sk-toggleable__control:checked~div.sk-toggleable__content {max-height: 200px;max-width: 100%;overflow: auto;}#sk-container-id-2 input.sk-toggleable__control:checked~label.sk-toggleable__label-arrow:before {content: \"▾\";}#sk-container-id-2 div.sk-estimator input.sk-toggleable__control:checked~label.sk-toggleable__label {background-color: #d4ebff;}#sk-container-id-2 div.sk-label input.sk-toggleable__control:checked~label.sk-toggleable__label {background-color: #d4ebff;}#sk-container-id-2 input.sk-hidden--visually {border: 0;clip: rect(1px 1px 1px 1px);clip: rect(1px, 1px, 1px, 1px);height: 1px;margin: -1px;overflow: hidden;padding: 0;position: absolute;width: 1px;}#sk-container-id-2 div.sk-estimator {font-family: monospace;background-color: #f0f8ff;border: 1px dotted black;border-radius: 0.25em;box-sizing: border-box;margin-bottom: 0.5em;}#sk-container-id-2 div.sk-estimator:hover {background-color: #d4ebff;}#sk-container-id-2 div.sk-parallel-item::after {content: \"\";width: 100%;border-bottom: 1px solid gray;flex-grow: 1;}#sk-container-id-2 div.sk-label:hover label.sk-toggleable__label {background-color: #d4ebff;}#sk-container-id-2 div.sk-serial::before {content: \"\";position: absolute;border-left: 1px solid gray;box-sizing: border-box;top: 0;bottom: 0;left: 50%;z-index: 0;}#sk-container-id-2 div.sk-serial {display: flex;flex-direction: column;align-items: center;background-color: white;padding-right: 0.2em;padding-left: 0.2em;position: relative;}#sk-container-id-2 div.sk-item {position: relative;z-index: 1;}#sk-container-id-2 div.sk-parallel {display: flex;align-items: stretch;justify-content: center;background-color: white;position: relative;}#sk-container-id-2 div.sk-item::before, #sk-container-id-2 div.sk-parallel-item::before {content: \"\";position: absolute;border-left: 1px solid gray;box-sizing: border-box;top: 0;bottom: 0;left: 50%;z-index: -1;}#sk-container-id-2 div.sk-parallel-item {display: flex;flex-direction: column;z-index: 1;position: relative;background-color: white;}#sk-container-id-2 div.sk-parallel-item:first-child::after {align-self: flex-end;width: 50%;}#sk-container-id-2 div.sk-parallel-item:last-child::after {align-self: flex-start;width: 50%;}#sk-container-id-2 div.sk-parallel-item:only-child::after {width: 0;}#sk-container-id-2 div.sk-dashed-wrapped {border: 1px dashed gray;margin: 0 0.4em 0.5em 0.4em;box-sizing: border-box;padding-bottom: 0.4em;background-color: white;}#sk-container-id-2 div.sk-label label {font-family: monospace;font-weight: bold;display: inline-block;line-height: 1.2em;}#sk-container-id-2 div.sk-label-container {text-align: center;}#sk-container-id-2 div.sk-container {/* jupyter's `normalize.less` sets `[hidden] { display: none; }` but bootstrap.min.css set `[hidden] { display: none !important; }` so we also need the `!important` here to be able to override the default hidden behavior on the sphinx rendered scikit-learn.org. See: https://github.com/scikit-learn/scikit-learn/issues/21755 */display: inline-block !important;position: relative;}#sk-container-id-2 div.sk-text-repr-fallback {display: none;}</style><div id=\"sk-container-id-2\" class=\"sk-top-container\"><div class=\"sk-text-repr-fallback\"><pre>GaussianNB()</pre><b>In a Jupyter environment, please rerun this cell to show the HTML representation or trust the notebook. <br />On GitHub, the HTML representation is unable to render, please try loading this page with nbviewer.org.</b></div><div class=\"sk-container\" hidden><div class=\"sk-item\"><div class=\"sk-estimator sk-toggleable\"><input class=\"sk-toggleable__control sk-hidden--visually\" id=\"sk-estimator-id-2\" type=\"checkbox\" checked><label for=\"sk-estimator-id-2\" class=\"sk-toggleable__label sk-toggleable__label-arrow\">GaussianNB</label><div class=\"sk-toggleable__content\"><pre>GaussianNB()</pre></div></div></div></div></div>"
      ],
      "text/plain": [
       "GaussianNB()"
      ]
     },
     "execution_count": 21,
     "metadata": {},
     "output_type": "execute_result"
    }
   ],
   "source": [
    "klasifikasi.fit(x_train, y_train)"
   ]
  },
  {
   "cell_type": "code",
   "execution_count": 22,
   "id": "3d16507f",
   "metadata": {},
   "outputs": [
    {
     "data": {
      "text/plain": [
       "0.013793103448275862"
      ]
     },
     "execution_count": 22,
     "metadata": {},
     "output_type": "execute_result"
    }
   ],
   "source": [
    "klasifikasi.score(x_test, y_test)"
   ]
  },
  {
   "cell_type": "code",
   "execution_count": 23,
   "id": "3ddaf445",
   "metadata": {},
   "outputs": [],
   "source": [
    "nilai_prediksi = klasifikasi.predict(x_test)\n",
    "akurasi = accuracy_score(y_test,nilai_prediksi)"
   ]
  },
  {
   "cell_type": "code",
   "execution_count": 24,
   "id": "5e9f2287",
   "metadata": {},
   "outputs": [
    {
     "name": "stdout",
     "output_type": "stream",
     "text": [
      "              precision    recall  f1-score   support\n",
      "\n",
      "  (2022 AA4)       0.00      0.00      0.00         2\n",
      "  (2022 AA5)       0.00      0.00      0.00         1\n",
      "  (2022 AB1)       0.00      0.00      0.00         1\n",
      "  (2022 AB2)       0.00      0.00      0.00         1\n",
      "  (2022 AB4)       0.00      0.00      0.00         2\n",
      "  (2022 AB5)       0.00      0.00      0.00         0\n",
      "  (2022 AB6)       0.00      0.00      0.00         1\n",
      "  (2022 AB7)       0.00      0.00      0.00         1\n",
      "   (2022 AC)       0.00      0.00      0.00         2\n",
      "  (2022 AC7)       0.00      0.00      0.00         1\n",
      "   (2022 AD)       0.00      0.00      0.00         2\n",
      "  (2022 AD1)       0.00      0.00      0.00         2\n",
      "  (2022 AD6)       0.00      0.00      0.00         1\n",
      "   (2022 AE)       0.00      0.00      0.00         1\n",
      "  (2022 AE4)       0.00      0.00      0.00         2\n",
      "   (2022 AF)       0.00      0.00      0.00         1\n",
      "  (2022 AF2)       0.00      0.00      0.00         1\n",
      "  (2022 AF5)       0.00      0.00      0.00         2\n",
      "   (2022 AG)       0.00      0.00      0.00         3\n",
      "  (2022 AG1)       0.00      0.00      0.00         4\n",
      "  (2022 AH1)       0.00      0.00      0.00         1\n",
      "  (2022 AH2)       0.00      0.00      0.00         0\n",
      "  (2022 AH3)       0.00      0.00      0.00         1\n",
      "   (2022 AK)       0.00      0.00      0.00         0\n",
      "  (2022 AK2)       0.00      0.00      0.00         3\n",
      "  (2022 AL1)       0.00      0.00      0.00         1\n",
      "  (2022 AL2)       0.00      0.00      0.00         0\n",
      "  (2022 AL3)       0.00      0.00      0.00         3\n",
      "   (2022 AM)       0.00      0.00      0.00         1\n",
      "  (2022 AM3)       0.00      0.00      0.00         1\n",
      "  (2022 AM5)       0.00      0.00      0.00         1\n",
      "  (2022 AN5)       0.00      0.00      0.00         1\n",
      "   (2022 AO)       0.00      0.00      0.00         1\n",
      "  (2022 AO2)       0.00      0.00      0.00         1\n",
      "  (2022 AO3)       0.00      0.00      0.00         1\n",
      "  (2022 AO5)       0.00      0.00      0.00         1\n",
      "  (2022 AO6)       0.00      0.00      0.00         1\n",
      "   (2022 AP)       0.00      0.00      0.00         0\n",
      "  (2022 AP1)       0.00      0.00      0.00         3\n",
      "  (2022 AP3)       0.00      0.00      0.00         1\n",
      "  (2022 AP5)       0.00      0.00      0.00         1\n",
      "   (2022 AQ)       0.00      0.00      0.00         2\n",
      "  (2022 AQ2)       0.00      0.00      0.00         2\n",
      "  (2022 AQ3)       0.00      0.00      0.00         1\n",
      "  (2022 AR2)       0.00      0.00      0.00         0\n",
      "   (2022 AS)       0.00      0.00      0.00         1\n",
      "  (2022 AS2)       0.00      0.00      0.00         1\n",
      "  (2022 AS3)       0.00      0.00      0.00         1\n",
      "  (2022 AS4)       0.00      0.00      0.00         1\n",
      "  (2022 AS6)       0.00      0.00      0.00         3\n",
      "  (2022 AT1)       0.00      0.00      0.00         1\n",
      "  (2022 AT3)       0.00      0.00      0.00         1\n",
      "  (2022 AT5)       0.00      0.00      0.00         2\n",
      "  (2022 AU2)       0.00      0.00      0.00         1\n",
      "  (2022 AU3)       0.00      0.00      0.00         1\n",
      " (2022 AV13)       0.00      0.00      0.00         1\n",
      "  (2022 AV2)       0.00      0.00      0.00         1\n",
      "  (2022 AV4)       0.00      0.00      0.00         2\n",
      "  (2022 AW4)       0.00      0.00      0.00         1\n",
      "   (2022 AX)       0.00      0.00      0.00         1\n",
      "  (2022 AX4)       0.00      0.00      0.00         1\n",
      "  (2022 AY1)       0.00      0.00      0.00         1\n",
      "  (2022 AZ4)       0.00      0.00      0.00         1\n",
      "   (2022 BA)       0.00      0.00      0.00         2\n",
      "  (2022 BA1)       0.00      0.00      0.00         4\n",
      "  (2022 BA3)       0.00      0.00      0.00         1\n",
      "  (2022 BA6)       0.00      0.00      0.00         0\n",
      "  (2022 BB1)       0.00      0.00      0.00         1\n",
      "  (2022 BB2)       0.00      0.00      0.00         2\n",
      "  (2022 BB5)       0.00      0.00      0.00         2\n",
      "  (2022 BC2)       0.00      0.00      0.00         1\n",
      "  (2022 BC3)       0.00      0.00      0.00         0\n",
      "  (2022 BC6)       0.00      0.00      0.00         1\n",
      "  (2022 BD1)       0.00      0.00      0.00         1\n",
      "  (2022 BD6)       0.00      0.00      0.00         2\n",
      "   (2022 BE)       0.00      0.00      0.00         1\n",
      "  (2022 BE1)       0.00      0.00      0.00         2\n",
      "  (2022 BE3)       0.00      0.00      0.00         1\n",
      "  (2022 BF1)       0.00      0.00      0.00         1\n",
      "  (2022 BF2)       0.00      0.00      0.00         1\n",
      "  (2022 BG3)       0.00      0.00      0.00         1\n",
      "  (2022 BG7)       0.00      0.00      0.00         0\n",
      "  (2022 BG9)       0.00      0.00      0.00         0\n",
      "  (2022 BH2)       0.00      0.00      0.00         1\n",
      "  (2022 BH3)       0.00      0.00      0.00         1\n",
      "  (2022 BH4)       0.00      0.00      0.00         0\n",
      "  (2022 BH7)       0.00      0.00      0.00         1\n",
      "  (2022 BJ3)       0.00      0.00      0.00         1\n",
      "  (2022 BJ4)       0.00      0.00      0.00         1\n",
      "  (2022 BJ8)       0.00      0.00      0.00         4\n",
      "   (2022 BL)       0.00      0.00      0.00         1\n",
      "  (2022 BL1)       0.00      0.00      0.00         2\n",
      "  (2022 BL2)       0.00      0.00      0.00         2\n",
      "  (2022 BL3)       0.00      0.00      0.00         0\n",
      "  (2022 BL5)       0.00      0.00      0.00         5\n",
      "  (2022 BM1)       0.00      0.00      0.00         1\n",
      "  (2022 BM5)       0.00      0.00      0.00         1\n",
      "   (2022 BN)       0.00      0.00      0.00         0\n",
      "  (2022 BN2)       0.00      0.00      0.00         2\n",
      "  (2022 BN5)       0.00      0.00      0.00         3\n",
      "  (2022 BO2)       0.00      0.00      0.00         1\n",
      "  (2022 BO4)       0.00      0.00      0.00         1\n",
      "  (2022 BO7)       0.00      0.00      0.00         1\n",
      "  (2022 BP1)       0.00      0.00      0.00         1\n",
      "  (2022 BP2)       0.00      0.00      0.00         1\n",
      "  (2022 BP3)       0.00      0.00      0.00         3\n",
      "  (2022 BP4)       0.00      0.00      0.00         2\n",
      "   (2022 BQ)       0.00      0.00      0.00         2\n",
      "  (2022 BQ2)       0.00      0.00      0.00         1\n",
      "  (2022 BQ3)       0.00      0.00      0.00         1\n",
      "  (2022 BQ4)       0.00      0.00      0.00         1\n",
      "  (2022 BQ7)       0.00      0.00      0.00         1\n",
      "   (2022 BR)       0.00      0.00      0.00         1\n",
      "  (2022 BR2)       0.00      0.00      0.00         1\n",
      "  (2022 BR5)       0.00      0.00      0.00         1\n",
      "   (2022 BS)       0.00      0.00      0.00         1\n",
      "  (2022 BS2)       0.00      0.00      0.00         2\n",
      "   (2022 BT)       0.00      0.00      0.00         1\n",
      "  (2022 BT4)       0.00      0.00      0.00         2\n",
      "   (2022 BU)       0.00      0.00      0.00         1\n",
      "  (2022 BU2)       0.00      0.00      0.00         1\n",
      "  (2022 BU4)       0.00      0.00      0.00         3\n",
      "  (2022 BU6)       0.00      0.00      0.00         3\n",
      "  (2022 BV3)       0.00      0.00      0.00         2\n",
      "  (2022 BV4)       0.00      0.00      0.00         1\n",
      "  (2022 BV6)       0.00      0.00      0.00         4\n",
      "  (2022 BW1)       0.00      0.00      0.00         1\n",
      "  (2022 BW3)       0.00      0.00      0.00         1\n",
      "  (2022 BX4)       0.00      0.00      0.00         1\n",
      "  (2022 BX5)       0.00      0.00      0.00         1\n",
      "  (2022 BX6)       0.00      0.00      0.00         2\n",
      " (2022 BY39)       0.06      0.29      0.10         7\n",
      "   (2022 BZ)       0.00      0.00      0.00         1\n",
      "  (2022 BZ1)       0.00      0.00      0.00         1\n",
      "  (2022 BZ4)       0.00      0.00      0.00         1\n",
      "  (2022 CA1)       0.00      0.00      0.00         3\n",
      "  (2022 CA2)       0.00      0.00      0.00         1\n",
      "  (2022 CA5)       0.00      0.00      0.00         0\n",
      "  (2022 CB1)       0.00      0.00      0.00         1\n",
      "  (2022 CB2)       0.00      0.00      0.00         3\n",
      "  (2022 CB3)       0.00      0.00      0.00         0\n",
      "  (2022 CC1)       0.00      0.00      0.00         2\n",
      "  (2022 CC7)       0.00      0.00      0.00         1\n",
      "   (2022 CD)       0.00      0.00      0.00         2\n",
      "  (2022 CD2)       0.00      0.00      0.00         2\n",
      "   (2022 CE)       0.00      0.00      0.00         1\n",
      "  (2022 CE2)       0.00      0.00      0.00         2\n",
      "   (2022 CF)       0.00      0.00      0.00         1\n",
      "  (2022 CF1)       0.00      0.00      0.00         1\n",
      "  (2022 CF2)       0.00      0.00      0.00         1\n",
      "  (2022 CF3)       0.00      0.00      0.00         3\n",
      "  (2022 CF7)       0.00      0.00      0.00         1\n",
      "  (2022 CG1)       0.00      0.00      0.00         1\n",
      "   (2022 CH)       0.00      0.00      0.00         0\n",
      "  (2022 CH2)       0.00      0.00      0.00         1\n",
      "  (2022 CH3)       0.00      0.00      0.00         0\n",
      "  (2022 CH5)       0.00      0.00      0.00         1\n",
      "  (2022 CH7)       0.00      0.00      0.00         1\n",
      "  (2022 CJ1)       0.00      0.00      0.00         0\n",
      "  (2022 CJ5)       0.00      0.00      0.00         1\n",
      "   (2022 CK)       0.00      0.00      0.00         2\n",
      "  (2022 CK1)       0.00      0.00      0.00         1\n",
      "  (2022 CK4)       0.00      0.00      0.00         1\n",
      "  (2022 CK6)       0.00      0.00      0.00         7\n",
      "  (2022 CL1)       0.00      0.00      0.00         1\n",
      " (2022 CL12)       0.00      0.00      0.00         2\n",
      "  (2022 CL6)       0.00      0.00      0.00         1\n",
      "  (2022 CM2)       0.00      0.00      0.00         1\n",
      "  (2022 CM3)       0.00      0.00      0.00         1\n",
      "  (2022 CM5)       0.00      0.00      0.00         0\n",
      "  (2022 CM6)       0.00      0.00      0.00         2\n",
      "  (2022 CN5)       0.00      0.00      0.00         1\n",
      "  (2022 CO1)       0.00      0.00      0.00         1\n",
      "  (2022 CO3)       0.00      0.00      0.00         1\n",
      "  (2022 CO6)       0.00      0.00      0.00         4\n",
      "  (2022 CO7)       0.00      0.00      0.00         1\n",
      "  (2022 CP1)       0.00      0.00      0.00         4\n",
      "  (2022 CP5)       0.00      0.00      0.00         1\n",
      "  (2022 CP7)       0.00      0.00      0.00         2\n",
      "   (2022 CQ)       0.00      0.00      0.00         1\n",
      "  (2022 CQ1)       0.00      0.00      0.00         2\n",
      "  (2022 CQ2)       0.00      0.00      0.00         5\n",
      "  (2022 CQ3)       0.00      0.00      0.00         1\n",
      "  (2022 CQ5)       0.00      0.00      0.00         1\n",
      "  (2022 CR1)       0.00      0.00      0.00         1\n",
      "  (2022 CR2)       0.00      0.00      0.00         1\n",
      "  (2022 CR4)       0.00      0.00      0.00         1\n",
      "  (2022 CS1)       0.00      0.00      0.00         1\n",
      "  (2022 CS3)       0.00      0.00      0.00         1\n",
      "  (2022 CS5)       0.00      0.00      0.00         0\n",
      "   (2022 CT)       0.00      0.00      0.00         1\n",
      " (2022 CT19)       0.00      0.00      0.00         1\n",
      "  (2022 CT4)       0.00      0.00      0.00         1\n",
      "   (2022 CU)       0.00      0.00      0.00         1\n",
      "  (2022 CU1)       0.00      0.00      0.00         1\n",
      "  (2022 CU4)       0.00      0.00      0.00         2\n",
      "   (2022 CV)       0.33      1.00      0.50         1\n",
      "  (2022 CV1)       0.00      0.00      0.00         1\n",
      "  (2022 CV2)       0.25      1.00      0.40         1\n",
      "  (2022 CV5)       0.00      0.00      0.00         1\n",
      "  (2022 CW1)       0.00      0.00      0.00         2\n",
      "  (2022 CW2)       0.00      0.00      0.00         1\n",
      "  (2022 CW4)       0.03      0.50      0.05         2\n",
      "  (2022 CW5)       0.00      0.00      0.00         2\n",
      "  (2022 CX1)       0.02      0.25      0.03         4\n",
      "  (2022 CX2)       0.00      0.00      0.00         3\n",
      "  (2022 CX4)       0.00      0.00      0.00         3\n",
      "  (2022 CX6)       0.00      0.00      0.00         1\n",
      "   (2022 CY)       0.00      0.00      0.00         1\n",
      "  (2022 CY1)       0.00      0.00      0.00         1\n",
      "   (2022 CZ)       0.00      0.00      0.00         1\n",
      "  (2022 CZ4)       0.00      0.00      0.00         0\n",
      "   (2022 DA)       0.00      0.00      0.00         0\n",
      "  (2022 DA3)       0.00      0.00      0.00         1\n",
      "  (2022 DA4)       0.00      0.00      0.00         2\n",
      "   (2022 DB)       0.00      0.00      0.00         1\n",
      "  (2022 DD2)       1.00      1.00      1.00         1\n",
      "   (2022 DE)       0.00      0.00      0.00         1\n",
      "  (2022 DE2)       0.00      0.00      0.00         1\n",
      "  (2022 DE3)       0.00      0.00      0.00         2\n",
      "   (2022 DF)       0.00      0.00      0.00         3\n",
      "  (2022 DF1)       0.00      0.00      0.00         1\n",
      "   (2022 DG)       0.00      0.00      0.00         2\n",
      "  (2022 DG2)       0.00      0.00      0.00         3\n",
      "  (2022 DH3)       0.00      0.00      0.00         3\n",
      "  (2022 DH4)       0.00      0.00      0.00         1\n",
      "  (2022 DJ1)       0.00      0.00      0.00         1\n",
      "  (2022 DJ4)       0.00      0.00      0.00         1\n",
      "   (2022 DL)       0.00      0.00      0.00         2\n",
      "  (2022 DL1)       0.00      0.00      0.00         1\n",
      "  (2022 DL4)       0.00      0.00      0.00         2\n",
      "  (2022 DM1)       0.00      0.00      0.00         1\n",
      "  (2022 DM2)       0.00      0.00      0.00         1\n",
      "  (2022 DM4)       0.00      0.00      0.00         1\n",
      "   (2022 DN)       0.00      0.00      0.00         1\n",
      "  (2022 DN1)       0.00      0.00      0.00         4\n",
      "  (2022 DN3)       0.00      0.00      0.00         0\n",
      "  (2022 DN4)       0.00      0.00      0.00         1\n",
      "  (2022 DP2)       0.00      0.00      0.00         1\n",
      "  (2022 DP3)       0.00      0.00      0.00         1\n",
      "  (2022 DP8)       0.00      0.00      0.00         1\n",
      "  (2022 DQ2)       0.00      0.00      0.00         1\n",
      "  (2022 DQ4)       0.00      0.00      0.00         2\n",
      "  (2022 DR1)       0.00      0.00      0.00         2\n",
      "  (2022 DR2)       0.00      0.00      0.00         2\n",
      "  (2022 DR4)       0.00      0.00      0.00         1\n",
      "  (2022 DT1)       0.00      0.00      0.00         0\n",
      "  (2022 DT4)       0.00      0.00      0.00         1\n",
      "  (2022 DU2)       0.00      0.00      0.00         1\n",
      "  (2022 DU4)       0.00      0.00      0.00         1\n",
      "  (2022 DV1)       0.00      0.00      0.00         2\n",
      "  (2022 DV3)       0.00      0.00      0.00         1\n",
      "  (2022 DV4)       0.00      0.00      0.00         1\n",
      "  (2022 DW1)       0.00      0.00      0.00         1\n",
      "   (2022 DX)       0.00      0.00      0.00         1\n",
      "  (2022 DX4)       0.00      0.00      0.00         2\n",
      "  (2022 DY1)       0.00      0.00      0.00         1\n",
      "  (2022 DY2)       0.00      0.00      0.00         1\n",
      "  (2022 DY3)       0.00      0.00      0.00         1\n",
      "  (2022 DZ3)       0.00      0.00      0.00         0\n",
      "   (2022 EA)       0.00      0.00      0.00         0\n",
      "  (2022 EA1)       0.00      0.00      0.00         1\n",
      "  (2022 EA5)       0.00      0.00      0.00         1\n",
      "   (2022 EB)       0.00      0.00      0.00         1\n",
      "  (2022 EB3)       0.00      0.00      0.00         2\n",
      "  (2022 EC1)       0.25      1.00      0.40         1\n",
      "  (2022 EC3)       0.00      0.00      0.00         1\n",
      "  (2022 EC5)       0.00      0.00      0.00         1\n",
      "  (2022 ED2)       0.00      0.00      0.00         0\n",
      "  (2022 ED3)       0.00      0.00      0.00         2\n",
      "   (2022 EE)       0.00      0.00      0.00         1\n",
      "  (2022 EE2)       0.00      0.00      0.00         1\n",
      "  (2022 EE5)       0.00      0.00      0.00         3\n",
      "  (2022 EE6)       0.00      0.00      0.00         1\n",
      "  (2022 EF1)       0.00      0.00      0.00         2\n",
      "  (2022 EF2)       0.00      0.00      0.00         1\n",
      "  (2022 EF3)       0.00      0.00      0.00         1\n",
      "  (2022 EF4)       0.00      0.00      0.00         1\n",
      "  (2022 EF5)       0.00      0.00      0.00         2\n",
      "  (2022 EG1)       0.00      0.00      0.00         0\n",
      "  (2022 EH4)       0.00      0.00      0.00         2\n",
      "   (2022 EJ)       0.00      0.00      0.00         1\n",
      "  (2022 EJ1)       0.00      0.00      0.00         1\n",
      "  (2022 EJ5)       0.00      0.00      0.00         0\n",
      "  (2022 EK1)       0.00      0.00      0.00         1\n",
      "  (2022 EK3)       0.00      0.00      0.00         1\n",
      "  (2022 EK4)       0.00      0.00      0.00         2\n",
      "  (2022 EK6)       0.00      0.00      0.00         5\n",
      "   (2022 EL)       0.00      0.00      0.00         1\n",
      "  (2022 EL5)       0.00      0.00      0.00         1\n",
      "  (2022 EL6)       0.00      0.00      0.00         1\n",
      "  (2022 EM4)       0.00      0.00      0.00         1\n",
      "  (2022 EM6)       0.00      0.00      0.00         1\n",
      "  (2022 EN1)       0.00      0.00      0.00         1\n",
      "  (2022 EN2)       0.00      0.00      0.00         0\n",
      "  (2022 EN5)       0.00      0.00      0.00         1\n",
      "  (2022 EN6)       0.00      0.00      0.00         1\n",
      "   (2022 EO)       0.00      0.00      0.00         1\n",
      "  (2022 EO1)       0.00      0.00      0.00         2\n",
      "  (2022 EO4)       0.00      0.00      0.00         1\n",
      "  (2022 EP2)       0.00      0.00      0.00         1\n",
      "   (2022 EQ)       0.00      0.00      0.00         1\n",
      "  (2022 EQ4)       0.00      0.00      0.00         0\n",
      "  (2022 EQ6)       0.00      0.00      0.00         2\n",
      "   (2022 ER)       0.00      0.00      0.00         1\n",
      "  (2022 ER1)       0.00      0.00      0.00         0\n",
      "   (2022 ES)       0.00      0.00      0.00         1\n",
      " (2022 ES11)       0.00      0.00      0.00         2\n",
      "  (2022 ET2)       0.00      0.00      0.00         3\n",
      "  (2022 ET4)       0.00      0.00      0.00         0\n",
      "  (2022 ET5)       0.00      0.00      0.00         1\n",
      "  (2022 EU4)       0.00      0.00      0.00         1\n",
      "  (2022 EU5)       0.00      0.00      0.00         1\n",
      "  (2022 EV1)       0.00      0.00      0.00         1\n",
      "  (2022 EV3)       0.00      0.00      0.00         1\n",
      "  (2022 EV4)       0.00      0.00      0.00         4\n",
      "  (2022 EV5)       0.00      0.00      0.00         0\n",
      "  (2022 EW2)       0.00      0.00      0.00         1\n",
      "  (2022 EW3)       0.00      0.00      0.00         1\n",
      "  (2022 EW8)       0.00      0.00      0.00         1\n",
      "   (2022 EX)       0.00      0.00      0.00         0\n",
      "  (2022 EX1)       0.00      0.00      0.00         0\n",
      "  (2022 EY5)       0.00      0.00      0.00         0\n",
      "  (2022 EY6)       0.00      0.00      0.00         0\n",
      "  (2022 EZ4)       0.00      0.00      0.00         0\n",
      "  (2022 EZ6)       0.00      0.00      0.00         2\n",
      "  (2022 FA1)       0.00      0.00      0.00         1\n",
      "  (2022 FA3)       0.00      0.00      0.00         1\n",
      "   (2022 FB)       0.00      0.00      0.00         1\n",
      "  (2022 FB2)       0.00      0.00      0.00         1\n",
      "   (2022 FC)       0.00      0.00      0.00         1\n",
      "  (2022 FC2)       0.00      0.00      0.00         1\n",
      "  (2022 FC3)       0.00      0.00      0.00         2\n",
      "  (2022 FD4)       0.00      0.00      0.00         2\n",
      "  (2022 FE1)       0.00      0.00      0.00         1\n",
      "  (2022 FE2)       0.00      0.00      0.00         2\n",
      "   (2022 FF)       0.00      0.00      0.00         4\n",
      "  (2022 FF1)       0.00      0.00      0.00         2\n",
      "  (2022 FF2)       0.00      0.00      0.00         1\n",
      "  (2022 FF3)       0.00      0.00      0.00         2\n",
      "   (2022 FG)       0.00      0.00      0.00         1\n",
      "  (2022 FG2)       0.00      0.00      0.00         2\n",
      "  (2022 FG3)       0.00      0.00      0.00         1\n",
      "  (2022 FH1)       0.00      0.00      0.00         1\n",
      "   (2022 FJ)       0.00      0.00      0.00         1\n",
      "  (2022 FJ1)       0.00      0.00      0.00         1\n",
      "  (2022 FJ2)       0.00      0.00      0.00         1\n",
      "  (2022 FK1)       0.00      0.00      0.00         3\n",
      "  (2022 FL1)       0.00      0.00      0.00         4\n",
      "  (2022 FL2)       0.00      0.00      0.00         2\n",
      "   (2022 FM)       0.00      0.00      0.00         1\n",
      "  (2022 FM1)       0.00      0.00      0.00         1\n",
      "  (2022 FM2)       0.00      0.00      0.00         1\n",
      "  (2022 FM3)       0.00      0.00      0.00         1\n",
      "   (2022 FN)       0.00      0.00      0.00         4\n",
      "  (2022 FN1)       0.00      0.00      0.00         0\n",
      "  (2022 FO1)       0.00      0.00      0.00         1\n",
      "  (2022 FO3)       0.00      0.00      0.00         1\n",
      "   (2022 FP)       0.00      0.00      0.00         2\n",
      "  (2022 FP2)       0.00      0.00      0.00         2\n",
      "  (2022 FQ1)       0.00      0.00      0.00         3\n",
      "  (2022 FQ2)       0.00      0.00      0.00         1\n",
      "  (2022 FQ4)       0.00      0.00      0.00         1\n",
      "  (2022 FR1)       0.00      0.00      0.00         1\n",
      "  (2022 FR2)       0.00      0.00      0.00         1\n",
      "  (2022 FR3)       0.00      0.00      0.00         1\n",
      "  (2022 FR4)       0.00      0.00      0.00         1\n",
      "  (2022 FS2)       0.00      0.00      0.00         2\n",
      "   (2022 FT)       0.00      0.00      0.00         2\n",
      "  (2022 FT4)       0.00      0.00      0.00         1\n",
      "  (2022 FU2)       0.00      0.00      0.00         0\n",
      "  (2022 FU4)       0.00      0.00      0.00         1\n",
      "   (2022 FV)       0.00      0.00      0.00         1\n",
      "  (2022 FW4)       0.00      0.00      0.00         1\n",
      "  (2022 FX1)       0.00      0.00      0.00         1\n",
      "  (2022 FY1)       0.00      0.00      0.00         1\n",
      "  (2022 FY2)       0.00      0.00      0.00         1\n",
      "  (2022 FY4)       0.00      0.00      0.00         1\n",
      "   (2022 FZ)       0.00      0.00      0.00         1\n",
      "  (2022 FZ1)       0.00      0.00      0.00         3\n",
      "  (2022 FZ2)       0.00      0.00      0.00         1\n",
      "  (2022 GA1)       0.00      0.00      0.00         1\n",
      "  (2022 GA2)       0.00      0.00      0.00         1\n",
      "  (2022 GA3)       0.00      0.00      0.00         1\n",
      "  (2022 GB3)       0.00      0.00      0.00         1\n",
      "  (2022 GC1)       0.00      0.00      0.00         1\n",
      "  (2022 GC3)       0.00      0.00      0.00         1\n",
      "   (2022 GE)       0.00      0.00      0.00         1\n",
      "  (2022 GE3)       0.00      0.00      0.00         1\n",
      "  (2022 GE4)       0.00      0.00      0.00         1\n",
      "  (2022 GF3)       0.00      0.00      0.00         1\n",
      "  (2022 GF4)       0.00      0.00      0.00         2\n",
      "  (2022 GG2)       0.00      0.00      0.00         2\n",
      "  (2022 GG3)       0.00      0.00      0.00         1\n",
      "  (2022 GG5)       0.00      0.00      0.00         1\n",
      "   (2022 GH)       0.00      0.00      0.00         1\n",
      "  (2022 GJ1)       0.00      0.00      0.00         2\n",
      "   (2022 GK)       0.00      0.00      0.00         2\n",
      "  (2022 GK1)       0.00      0.00      0.00         1\n",
      "  (2022 GK4)       0.00      0.00      0.00         1\n",
      "   (2022 GL)       0.00      0.00      0.00         1\n",
      "  (2022 GL1)       0.00      0.00      0.00         3\n",
      "  (2022 GL2)       0.00      0.00      0.00         1\n",
      "  (2022 GL4)       0.00      0.00      0.00         2\n",
      "   (2022 GM)       0.00      0.00      0.00         1\n",
      "  (2022 GM1)       0.00      0.00      0.00         3\n",
      "  (2022 GM2)       0.00      0.00      0.00         1\n",
      "   (2022 GN)       0.00      0.00      0.00         1\n",
      "   (2022 GO)       0.00      0.00      0.00         3\n",
      "  (2022 GO1)       0.00      0.00      0.00         1\n",
      "  (2022 GO2)       0.00      0.00      0.00         2\n",
      "  (2022 GO3)       0.00      0.00      0.00         5\n",
      "  (2022 GP3)       0.00      0.00      0.00         4\n",
      "   (2022 GQ)       0.00      0.00      0.00         1\n",
      "  (2022 GQ3)       0.00      0.00      0.00         1\n",
      "  (2022 GQ5)       0.00      0.00      0.00         0\n",
      "  (2022 GR2)       0.00      0.00      0.00         1\n",
      "  (2022 GS2)       0.00      0.00      0.00         1\n",
      "  (2022 GS3)       0.00      0.00      0.00         1\n",
      "  (2022 GT2)       0.00      0.00      0.00         1\n",
      "  (2022 GU1)       0.00      0.00      0.00         3\n",
      "  (2022 GU2)       0.00      0.00      0.00         1\n",
      "  (2022 GV2)       0.00      0.00      0.00         1\n",
      "  (2022 GW1)       0.00      0.00      0.00         0\n",
      "  (2022 GW3)       0.00      0.00      0.00         1\n",
      "  (2022 GX2)       0.00      0.00      0.00         3\n",
      "  (2022 GY1)       0.00      0.00      0.00         1\n",
      "\n",
      "    accuracy                           0.01       580\n",
      "   macro avg       0.00      0.01      0.01       580\n",
      "weighted avg       0.00      0.01      0.01       580\n",
      "\n"
     ]
    },
    {
     "name": "stderr",
     "output_type": "stream",
     "text": [
      "C:\\Users\\HP\\AppData\\Roaming\\Python\\Python39\\site-packages\\sklearn\\metrics\\_classification.py:1327: UndefinedMetricWarning: Precision and F-score are ill-defined and being set to 0.0 in labels with no predicted samples. Use `zero_division` parameter to control this behavior.\n",
      "  _warn_prf(average, modifier, msg_start, len(result))\n",
      "C:\\Users\\HP\\AppData\\Roaming\\Python\\Python39\\site-packages\\sklearn\\metrics\\_classification.py:1327: UndefinedMetricWarning: Recall and F-score are ill-defined and being set to 0.0 in labels with no true samples. Use `zero_division` parameter to control this behavior.\n",
      "  _warn_prf(average, modifier, msg_start, len(result))\n",
      "C:\\Users\\HP\\AppData\\Roaming\\Python\\Python39\\site-packages\\sklearn\\metrics\\_classification.py:1327: UndefinedMetricWarning: Precision and F-score are ill-defined and being set to 0.0 in labels with no predicted samples. Use `zero_division` parameter to control this behavior.\n",
      "  _warn_prf(average, modifier, msg_start, len(result))\n",
      "C:\\Users\\HP\\AppData\\Roaming\\Python\\Python39\\site-packages\\sklearn\\metrics\\_classification.py:1327: UndefinedMetricWarning: Recall and F-score are ill-defined and being set to 0.0 in labels with no true samples. Use `zero_division` parameter to control this behavior.\n",
      "  _warn_prf(average, modifier, msg_start, len(result))\n",
      "C:\\Users\\HP\\AppData\\Roaming\\Python\\Python39\\site-packages\\sklearn\\metrics\\_classification.py:1327: UndefinedMetricWarning: Precision and F-score are ill-defined and being set to 0.0 in labels with no predicted samples. Use `zero_division` parameter to control this behavior.\n",
      "  _warn_prf(average, modifier, msg_start, len(result))\n",
      "C:\\Users\\HP\\AppData\\Roaming\\Python\\Python39\\site-packages\\sklearn\\metrics\\_classification.py:1327: UndefinedMetricWarning: Recall and F-score are ill-defined and being set to 0.0 in labels with no true samples. Use `zero_division` parameter to control this behavior.\n",
      "  _warn_prf(average, modifier, msg_start, len(result))\n"
     ]
    }
   ],
   "source": [
    "print(classification_report(y_test,nilai_prediksi))"
   ]
  },
  {
   "cell_type": "code",
   "execution_count": 25,
   "id": "b6157b5a",
   "metadata": {},
   "outputs": [
    {
     "name": "stdout",
     "output_type": "stream",
     "text": [
      "hasil prediksi: ['(2022 CW4)' '(2022 AR2)' '(2022 EA)' '(2022 FP)' '(2022 GP3)'\n",
      " '(2022 AR2)' '(2022 CW4)' '(2022 CX1)' '(2022 BW3)' '(2022 CM5)'\n",
      " '(2022 BQ7)' '(2022 CW4)' '(2022 AA4)' '(2022 FP)' '(2022 FP)'\n",
      " '(2022 BY39)' '(2022 BG9)' '(2022 CW4)' '(2022 EV1)' '(2022 DN3)'\n",
      " '(2022 DA)' '(2022 EX1)' '(2022 CV2)' '(2022 CX1)' '(2022 CT19)'\n",
      " '(2022 AR2)' '(2022 BY39)' '(2022 GP3)' '(2022 BL3)' '(2022 CT19)'\n",
      " '(2022 FK1)' '(2022 EX1)' '(2022 ET4)' '(2022 BN)' '(2022 FC)'\n",
      " '(2022 BA1)' '(2022 CX1)' '(2022 GL)' '(2022 EX1)' '(2022 EV1)'\n",
      " '(2022 CX1)' '(2022 ET2)' '(2022 DE2)' '(2022 EV1)' '(2022 EQ4)'\n",
      " '(2022 CX1)' '(2022 BN)' '(2022 DA)' '(2022 FP)' '(2022 DH3)'\n",
      " '(2022 CW4)' '(2022 FU2)' '(2022 GQ5)' '(2022 BY39)' '(2022 EV1)'\n",
      " '(2022 BY39)' '(2022 CW4)' '(2022 BX6)' '(2022 DE2)' '(2022 CX1)'\n",
      " '(2022 CW4)' '(2022 CB3)' '(2022 GW1)' '(2022 FO3)' '(2022 GL)'\n",
      " '(2022 BX6)' '(2022 CU4)' '(2022 DE2)' '(2022 GL)' '(2022 EQ4)'\n",
      " '(2022 GL)' '(2022 BW3)' '(2022 BC3)' '(2022 BA6)' '(2022 EX1)'\n",
      " '(2022 BH4)' '(2022 CV5)' '(2022 AR2)' '(2022 AR2)' '(2022 CX1)'\n",
      " '(2022 GW1)' '(2022 AR2)' '(2022 CX1)' '(2022 CW4)' '(2022 DA)'\n",
      " '(2022 CD)' '(2022 EC1)' '(2022 CW4)' '(2022 GL)' '(2022 DE2)'\n",
      " '(2022 CV2)' '(2022 DE2)' '(2022 BW3)' '(2022 FO3)' '(2022 BA6)'\n",
      " '(2022 DA)' '(2022 BY39)' '(2022 EB3)' '(2022 FO3)' '(2022 CA5)'\n",
      " '(2022 CW4)' '(2022 DH3)' '(2022 AR2)' '(2022 FC)' '(2022 CU4)'\n",
      " '(2022 BN)' '(2022 DA)' '(2022 EX1)' '(2022 AR2)' '(2022 FO3)'\n",
      " '(2022 BH4)' '(2022 AA4)' '(2022 BY39)' '(2022 DA)' '(2022 EZ4)'\n",
      " '(2022 BY39)' '(2022 DA)' '(2022 DD2)' '(2022 DH3)' '(2022 CW4)'\n",
      " '(2022 GL)' '(2022 DE2)' '(2022 AL2)' '(2022 CW4)' '(2022 AL2)'\n",
      " '(2022 AL2)' '(2022 EX1)' '(2022 FP)' '(2022 EB3)' '(2022 CW4)'\n",
      " '(2022 EX)' '(2022 EX1)' '(2022 CX1)' '(2022 CW4)' '(2022 CX1)'\n",
      " '(2022 DA)' '(2022 BX6)' '(2022 FC)' '(2022 GL)' '(2022 CX1)'\n",
      " '(2022 AL2)' '(2022 DA)' '(2022 CX1)' '(2022 GL)' '(2022 DE2)'\n",
      " '(2022 EV1)' '(2022 CW4)' '(2022 BX6)' '(2022 DA)' '(2022 AL2)'\n",
      " '(2022 BX6)' '(2022 BN)' '(2022 AR2)' '(2022 CW4)' '(2022 AP)'\n",
      " '(2022 EY6)' '(2022 DE2)' '(2022 CV)' '(2022 GL)' '(2022 AR2)'\n",
      " '(2022 BA1)' '(2022 CW4)' '(2022 EX1)' '(2022 FC)' '(2022 AH2)'\n",
      " '(2022 FP)' '(2022 GL)' '(2022 DA)' '(2022 AA4)' '(2022 DA)' '(2022 CW4)'\n",
      " '(2022 CA5)' '(2022 BN)' '(2022 EB3)' '(2022 CW4)' '(2022 BG7)'\n",
      " '(2022 CX1)' '(2022 CW4)' '(2022 DA)' '(2022 CJ1)' '(2022 BY39)'\n",
      " '(2022 CH3)' '(2022 CX1)' '(2022 EC1)' '(2022 EB3)' '(2022 CT19)'\n",
      " '(2022 EQ4)' '(2022 AR2)' '(2022 CB3)' '(2022 CX1)' '(2022 EN2)'\n",
      " '(2022 BY39)' '(2022 AO3)' '(2022 FP)' '(2022 CD)' '(2022 FC)'\n",
      " '(2022 FO3)' '(2022 FO3)' '(2022 CX1)' '(2022 EV1)' '(2022 EY6)'\n",
      " '(2022 DN3)' '(2022 AO3)' '(2022 FC)' '(2022 AR2)' '(2022 BX6)'\n",
      " '(2022 GQ5)' '(2022 DA)' '(2022 AR2)' '(2022 DW1)' '(2022 BY39)'\n",
      " '(2022 BY39)' '(2022 DA)' '(2022 DH3)' '(2022 EX1)' '(2022 CZ4)'\n",
      " '(2022 CD)' '(2022 BA1)' '(2022 BY39)' '(2022 DE2)' '(2022 DA)'\n",
      " '(2022 CM5)' '(2022 CX1)' '(2022 FK1)' '(2022 AR2)' '(2022 EY5)'\n",
      " '(2022 CX1)' '(2022 FC)' '(2022 EW8)' '(2022 GW1)' '(2022 CX1)'\n",
      " '(2022 CU4)' '(2022 FO3)' '(2022 GL)' '(2022 ED2)' '(2022 BN)'\n",
      " '(2022 CH)' '(2022 GL)' '(2022 CX1)' '(2022 DQ2)' '(2022 EY5)'\n",
      " '(2022 BN)' '(2022 FO3)' '(2022 EX1)' '(2022 CT19)' '(2022 DA)'\n",
      " '(2022 EX1)' '(2022 FP)' '(2022 BX6)' '(2022 FK1)' '(2022 CU4)'\n",
      " '(2022 CX1)' '(2022 DN3)' '(2022 EC1)' '(2022 AR2)' '(2022 GL)'\n",
      " '(2022 CW4)' '(2022 DE2)' '(2022 EJ5)' '(2022 DA)' '(2022 CV2)'\n",
      " '(2022 ER1)' '(2022 BX6)' '(2022 CX1)' '(2022 GU1)' '(2022 CT19)'\n",
      " '(2022 DA)' '(2022 CX1)' '(2022 DN3)' '(2022 BA1)' '(2022 AL2)'\n",
      " '(2022 FC)' '(2022 DA)' '(2022 CX1)' '(2022 DQ2)' '(2022 CW4)'\n",
      " '(2022 AR2)' '(2022 CW4)' '(2022 BY39)' '(2022 EX1)' '(2022 ER1)'\n",
      " '(2022 AR2)' '(2022 CX1)' '(2022 EB3)' '(2022 DA)' '(2022 EB3)'\n",
      " '(2022 CX1)' '(2022 FO3)' '(2022 CW4)' '(2022 BX6)' '(2022 DH3)'\n",
      " '(2022 DA)' '(2022 BG7)' '(2022 EX1)' '(2022 GL)' '(2022 CX1)'\n",
      " '(2022 DA)' '(2022 DH3)' '(2022 CX1)' '(2022 BN)' '(2022 CW4)'\n",
      " '(2022 ET2)' '(2022 DH3)' '(2022 AW4)' '(2022 CX1)' '(2022 CX1)'\n",
      " '(2022 CX1)' '(2022 CD)' '(2022 AO3)' '(2022 EN2)' '(2022 CX1)'\n",
      " '(2022 CX1)' '(2022 CJ1)' '(2022 CX1)' '(2022 FC)' '(2022 CB3)'\n",
      " '(2022 FP)' '(2022 EV5)' '(2022 GU1)' '(2022 FC)' '(2022 EX1)'\n",
      " '(2022 FO3)' '(2022 AA4)' '(2022 DA)' '(2022 CV)' '(2022 EX)'\n",
      " '(2022 CX1)' '(2022 CW4)' '(2022 CB3)' '(2022 CX1)' '(2022 CB3)'\n",
      " '(2022 CW4)' '(2022 CX1)' '(2022 AL2)' '(2022 CX1)' '(2022 DZ3)'\n",
      " '(2022 BY39)' '(2022 FN1)' '(2022 DH3)' '(2022 CX1)' '(2022 EV1)'\n",
      " '(2022 EZ4)' '(2022 GL)' '(2022 AA4)' '(2022 BY39)' '(2022 DA)'\n",
      " '(2022 AR2)' '(2022 CW4)' '(2022 BN)' '(2022 BX6)' '(2022 CT19)'\n",
      " '(2022 CW4)' '(2022 GL)' '(2022 DH3)' '(2022 BY39)' '(2022 FP)'\n",
      " '(2022 AR2)' '(2022 FP)' '(2022 GL)' '(2022 CX1)' '(2022 CW4)'\n",
      " '(2022 CW4)' '(2022 CX1)' '(2022 CV)' '(2022 EQ4)' '(2022 DN3)'\n",
      " '(2022 BH2)' '(2022 GU1)' '(2022 CD)' '(2022 CX1)' '(2022 EY6)'\n",
      " '(2022 BG7)' '(2022 GL)' '(2022 CU4)' '(2022 BA1)' '(2022 AR2)'\n",
      " '(2022 CX1)' '(2022 CW4)' '(2022 BY39)' '(2022 EX1)' '(2022 BN)'\n",
      " '(2022 ET4)' '(2022 EW8)' '(2022 EB3)' '(2022 GP3)' '(2022 DH3)'\n",
      " '(2022 AR2)' '(2022 EV1)' '(2022 GL)' '(2022 EB3)' '(2022 BY39)'\n",
      " '(2022 BA6)' '(2022 CA5)' '(2022 AR2)' '(2022 DA)' '(2022 BY39)'\n",
      " '(2022 DA)' '(2022 BH4)' '(2022 CW4)' '(2022 ET4)' '(2022 CD)'\n",
      " '(2022 DA)' '(2022 DA)' '(2022 CX1)' '(2022 DN3)' '(2022 BG7)'\n",
      " '(2022 FO3)' '(2022 BY39)' '(2022 BX6)' '(2022 FP)' '(2022 EN2)'\n",
      " '(2022 EX1)' '(2022 FO3)' '(2022 EX1)' '(2022 BX6)' '(2022 DA)'\n",
      " '(2022 BY39)' '(2022 AW4)' '(2022 CW4)' '(2022 DH3)' '(2022 BY39)'\n",
      " '(2022 EX)' '(2022 CW4)' '(2022 BA1)' '(2022 FC)' '(2022 CX1)'\n",
      " '(2022 AO3)' '(2022 GU1)' '(2022 CD)' '(2022 DA)' '(2022 CV2)'\n",
      " '(2022 CV5)' '(2022 DT1)' '(2022 CT19)' '(2022 FC)' '(2022 BH4)'\n",
      " '(2022 EJ5)' '(2022 FP)' '(2022 DA)' '(2022 GL)' '(2022 CX1)'\n",
      " '(2022 CX1)' '(2022 CD)' '(2022 CX1)' '(2022 BX6)' '(2022 AW4)'\n",
      " '(2022 EV1)' '(2022 BY39)' '(2022 BX6)' '(2022 BY39)' '(2022 EY6)'\n",
      " '(2022 DH3)' '(2022 EX1)' '(2022 ET2)' '(2022 FO3)' '(2022 BX6)'\n",
      " '(2022 BH4)' '(2022 FC)' '(2022 FO3)' '(2022 CX1)' '(2022 ET2)'\n",
      " '(2022 AL3)' '(2022 DZ3)' '(2022 BN)' '(2022 EX1)' '(2022 BX6)'\n",
      " '(2022 AP)' '(2022 DH3)' '(2022 BY39)' '(2022 EX)' '(2022 DH3)'\n",
      " '(2022 DH3)' '(2022 CT19)' '(2022 AR2)' '(2022 AR2)' '(2022 EN2)'\n",
      " '(2022 EX1)' '(2022 EX)' '(2022 GL)' '(2022 GU1)' '(2022 FO3)'\n",
      " '(2022 BX6)' '(2022 AR2)' '(2022 CW4)' '(2022 BY39)' '(2022 CX1)'\n",
      " '(2022 BY39)' '(2022 CX1)' '(2022 EX1)' '(2022 CB3)' '(2022 DH3)'\n",
      " '(2022 BN)' '(2022 CB3)' '(2022 BY39)' '(2022 DA)' '(2022 ET2)'\n",
      " '(2022 GP3)' '(2022 GL)' '(2022 BN)' '(2022 FO3)' '(2022 BY39)'\n",
      " '(2022 BX6)' '(2022 BY39)' '(2022 AL2)' '(2022 DE2)' '(2022 CX1)'\n",
      " '(2022 BG7)' '(2022 EV1)' '(2022 AK)' '(2022 GQ5)' '(2022 ET2)'\n",
      " '(2022 BY39)' '(2022 AH2)' '(2022 BX6)' '(2022 BA1)' '(2022 DE2)'\n",
      " '(2022 DQ2)' '(2022 CW4)' '(2022 EX1)' '(2022 EX1)' '(2022 BY39)'\n",
      " '(2022 DH3)' '(2022 CX1)' '(2022 CX1)' '(2022 AH2)' '(2022 EX1)'\n",
      " '(2022 DA)' '(2022 FK1)' '(2022 CW4)' '(2022 DT1)' '(2022 FP)'\n",
      " '(2022 GL)' '(2022 FK1)' '(2022 FP)' '(2022 EJ5)' '(2022 CX1)'\n",
      " '(2022 CD)' '(2022 FO3)' '(2022 CX1)' '(2022 EQ4)' '(2022 FZ)'\n",
      " '(2022 DA)' '(2022 CX1)' '(2022 EX)' '(2022 GL)' '(2022 AR2)'\n",
      " '(2022 AB5)' '(2022 DE2)' '(2022 DA)' '(2022 CW4)' '(2022 ET2)'\n",
      " '(2022 CV5)' '(2022 CX1)' '(2022 GL)' '(2022 EX1)' '(2022 FP)'\n",
      " '(2022 GP3)' '(2022 DE2)' '(2022 CX1)' '(2022 CX1)' '(2022 CS5)'\n",
      " '(2022 DH3)' '(2022 DH3)' '(2022 DA)' '(2022 CD)' '(2022 CU4)'\n",
      " '(2022 CW4)' '(2022 CB3)' '(2022 CR1)' '(2022 DA)' '(2022 FC)'\n",
      " '(2022 CX1)' '(2022 EX1)' '(2022 EG1)' '(2022 FO3)' '(2022 DA)'\n",
      " '(2022 EC1)' '(2022 CX1)' '(2022 DA)' '(2022 BY39)']\n",
      "Class: 2185     (2022 EQ6)\n",
      "679      (2022 BT4)\n",
      "23        (2022 AE)\n",
      "109      (2022 AD1)\n",
      "715      (2022 BN5)\n",
      "           ...     \n",
      "699      (2022 BZ4)\n",
      "862       (2022 CK)\n",
      "2850    (2022 ES11)\n",
      "576      (2022 BN2)\n",
      "654      (2022 BW3)\n",
      "Name: name, Length: 580, dtype: object\n",
      "akurasi: 0.013793103448275862\n"
     ]
    }
   ],
   "source": [
    "print(f'hasil prediksi: {nilai_prediksi}',\n",
    "f'Class: {y_test}',\n",
    "f'akurasi: {akurasi}',\n",
    "sep = '\\n'\n",
    ")"
   ]
  },
  {
   "cell_type": "code",
   "execution_count": null,
   "id": "f5eb2721",
   "metadata": {},
   "outputs": [],
   "source": []
  }
 ],
 "metadata": {
  "kernelspec": {
   "display_name": "Python 3 (ipykernel)",
   "language": "python",
   "name": "python3"
  },
  "language_info": {
   "codemirror_mode": {
    "name": "ipython",
    "version": 3
   },
   "file_extension": ".py",
   "mimetype": "text/x-python",
   "name": "python",
   "nbconvert_exporter": "python",
   "pygments_lexer": "ipython3",
   "version": "3.9.12"
  }
 },
 "nbformat": 4,
 "nbformat_minor": 5
}
