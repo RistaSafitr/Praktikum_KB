{
 "cells": [
  {
   "cell_type": "markdown",
   "id": "6ceb111a",
   "metadata": {},
   "source": [
    "# POSTTEST 5 KECERDASAN BUATAN\n",
    "Dataset: https://www.kaggle.com/datasets/sameepvani/nasa-nearest-earth-objects?select=neo.csv"
   ]
  },
  {
   "cell_type": "markdown",
   "id": "6e278554",
   "metadata": {},
   "source": [
    "Nama : Rista Safitri\n",
    "NIM  : 2009106058"
   ]
  },
  {
   "cell_type": "markdown",
   "id": "e8a477a0",
   "metadata": {},
   "source": [
    "import library yang dibutuhkan"
   ]
  },
  {
   "cell_type": "code",
   "execution_count": 69,
   "id": "b331b01b",
   "metadata": {},
   "outputs": [],
   "source": [
    "import numpy as np\n",
    "import pandas as pd\n",
    "import seaborn as sns\n",
    "import matplotlib.pyplot as plt\n",
    "from sklearn import preprocessing, svm\n",
    "from sklearn.model_selection import train_test_split\n",
    "from sklearn.linear_model import LinearRegression\n",
    "from sklearn.naive_bayes import GaussianNB\n",
    "from sklearn.metrics import accuracy_score\n",
    "from sklearn.metrics import mean_squared_error, r2_score\n",
    "from sklearn.metrics import classification_report, ConfusionMatrixDisplay\n",
    "from sklearn.neighbors import KNeighborsClassifier\n",
    "from sklearn import datasets, linear_model\n",
    "from sklearn.metrics import mean_absolute_error"
   ]
  },
  {
   "cell_type": "markdown",
   "id": "b8286d39",
   "metadata": {},
   "source": [
    "Membaca data dari dataset"
   ]
  },
  {
   "cell_type": "code",
   "execution_count": 24,
   "id": "c1120ff1",
   "metadata": {},
   "outputs": [],
   "source": [
    "df = pd.read_csv(\"Nasa_neo_2022.csv\")"
   ]
  },
  {
   "cell_type": "markdown",
   "id": "3cc409c8",
   "metadata": {},
   "source": [
    "Melihat dimensi dari dataset"
   ]
  },
  {
   "cell_type": "code",
   "execution_count": 3,
   "id": "b57df9c2",
   "metadata": {},
   "outputs": [
    {
     "data": {
      "text/plain": [
       "(2951, 10)"
      ]
     },
     "execution_count": 3,
     "metadata": {},
     "output_type": "execute_result"
    }
   ],
   "source": [
    "df.shape"
   ]
  },
  {
   "cell_type": "markdown",
   "id": "a80f036b",
   "metadata": {},
   "source": [
    "Melihat informasi tentang dataset yang digunakan"
   ]
  },
  {
   "cell_type": "code",
   "execution_count": 4,
   "id": "b4b4ea4f",
   "metadata": {},
   "outputs": [
    {
     "name": "stdout",
     "output_type": "stream",
     "text": [
      "<class 'pandas.core.frame.DataFrame'>\n",
      "Int64Index: 2951 entries, 0 to 2963\n",
      "Data columns (total 10 columns):\n",
      " #   Column              Non-Null Count  Dtype  \n",
      "---  ------              --------------  -----  \n",
      " 0   id                  2951 non-null   int64  \n",
      " 1   name                2951 non-null   object \n",
      " 2   est_diameter_min    2951 non-null   float64\n",
      " 3   est_diameter_max    2951 non-null   float64\n",
      " 4   relative_velocity   2951 non-null   float64\n",
      " 5   miss_distance       2951 non-null   float64\n",
      " 6   orbiting_body       2951 non-null   object \n",
      " 7   sentry_object       2951 non-null   bool   \n",
      " 8   absolute_magnitude  2951 non-null   float64\n",
      " 9   hazardous           2951 non-null   bool   \n",
      "dtypes: bool(2), float64(5), int64(1), object(2)\n",
      "memory usage: 213.3+ KB\n"
     ]
    }
   ],
   "source": [
    "df.info()"
   ]
  },
  {
   "cell_type": "markdown",
   "id": "f52a1d4b",
   "metadata": {},
   "source": [
    "Memeriksa jumlah data null di dalam dataset"
   ]
  },
  {
   "cell_type": "code",
   "execution_count": 5,
   "id": "7c1116df",
   "metadata": {},
   "outputs": [
    {
     "data": {
      "text/plain": [
       "id                    0\n",
       "name                  0\n",
       "est_diameter_min      0\n",
       "est_diameter_max      0\n",
       "relative_velocity     0\n",
       "miss_distance         0\n",
       "orbiting_body         0\n",
       "sentry_object         0\n",
       "absolute_magnitude    0\n",
       "hazardous             0\n",
       "dtype: int64"
      ]
     },
     "execution_count": 5,
     "metadata": {},
     "output_type": "execute_result"
    }
   ],
   "source": [
    "df.isnull().sum()"
   ]
  },
  {
   "cell_type": "markdown",
   "id": "2b7b0ca9",
   "metadata": {},
   "source": [
    "Memeriksa tipe-tipe data dalam dataset yang digunakan"
   ]
  },
  {
   "cell_type": "code",
   "execution_count": 8,
   "id": "c29dcc73",
   "metadata": {},
   "outputs": [
    {
     "data": {
      "text/plain": [
       "id                      int64\n",
       "name                   object\n",
       "est_diameter_min      float64\n",
       "est_diameter_max      float64\n",
       "relative_velocity     float64\n",
       "miss_distance         float64\n",
       "orbiting_body          object\n",
       "sentry_object            bool\n",
       "absolute_magnitude    float64\n",
       "hazardous                bool\n",
       "dtype: object"
      ]
     },
     "execution_count": 8,
     "metadata": {},
     "output_type": "execute_result"
    }
   ],
   "source": [
    "df.dtypes"
   ]
  },
  {
   "cell_type": "markdown",
   "id": "9dd9c6ed",
   "metadata": {},
   "source": [
    "Linear Regression"
   ]
  },
  {
   "cell_type": "code",
   "execution_count": 29,
   "id": "3855fb7c",
   "metadata": {},
   "outputs": [],
   "source": [
    "df_X = np.array(df['est_diameter_min']).reshape(-1, 1)"
   ]
  },
  {
   "cell_type": "code",
   "execution_count": 30,
   "id": "66fcaf04",
   "metadata": {},
   "outputs": [],
   "source": [
    "df_y = np.array(df['est_diameter_max']).reshape(-1, 1)"
   ]
  },
  {
   "cell_type": "code",
   "execution_count": 82,
   "id": "9a53c762",
   "metadata": {},
   "outputs": [],
   "source": [
    "X_train, X_test, y_train, y_test = train_test_split(df_X, df_y, random_state=0, test_size = .2)"
   ]
  },
  {
   "cell_type": "code",
   "execution_count": 83,
   "id": "c7cbcb25",
   "metadata": {},
   "outputs": [
    {
     "data": {
      "text/plain": [
       "(<function sklearn.metrics._regression.mean_absolute_error(y_true, y_pred, *, sample_weight=None, multioutput='uniform_average')>,\n",
       " <function sklearn.metrics._regression.r2_score(y_true, y_pred, *, sample_weight=None, multioutput='uniform_average', force_finite=True)>,\n",
       " <function sklearn.metrics._regression.mean_squared_error(y_true, y_pred, *, sample_weight=None, multioutput='uniform_average', squared=True)>)"
      ]
     },
     "execution_count": 83,
     "metadata": {},
     "output_type": "execute_result"
    }
   ],
   "source": [
    "mean_absolute_error, r2_score, mean_squared_error"
   ]
  },
  {
   "cell_type": "code",
   "execution_count": 84,
   "id": "6c011128",
   "metadata": {},
   "outputs": [],
   "source": [
    "regresi = LinearRegression()"
   ]
  },
  {
   "cell_type": "code",
   "execution_count": 85,
   "id": "1259ada7",
   "metadata": {},
   "outputs": [
    {
     "data": {
      "text/html": [
       "<style>#sk-container-id-4 {color: black;background-color: white;}#sk-container-id-4 pre{padding: 0;}#sk-container-id-4 div.sk-toggleable {background-color: white;}#sk-container-id-4 label.sk-toggleable__label {cursor: pointer;display: block;width: 100%;margin-bottom: 0;padding: 0.3em;box-sizing: border-box;text-align: center;}#sk-container-id-4 label.sk-toggleable__label-arrow:before {content: \"▸\";float: left;margin-right: 0.25em;color: #696969;}#sk-container-id-4 label.sk-toggleable__label-arrow:hover:before {color: black;}#sk-container-id-4 div.sk-estimator:hover label.sk-toggleable__label-arrow:before {color: black;}#sk-container-id-4 div.sk-toggleable__content {max-height: 0;max-width: 0;overflow: hidden;text-align: left;background-color: #f0f8ff;}#sk-container-id-4 div.sk-toggleable__content pre {margin: 0.2em;color: black;border-radius: 0.25em;background-color: #f0f8ff;}#sk-container-id-4 input.sk-toggleable__control:checked~div.sk-toggleable__content {max-height: 200px;max-width: 100%;overflow: auto;}#sk-container-id-4 input.sk-toggleable__control:checked~label.sk-toggleable__label-arrow:before {content: \"▾\";}#sk-container-id-4 div.sk-estimator input.sk-toggleable__control:checked~label.sk-toggleable__label {background-color: #d4ebff;}#sk-container-id-4 div.sk-label input.sk-toggleable__control:checked~label.sk-toggleable__label {background-color: #d4ebff;}#sk-container-id-4 input.sk-hidden--visually {border: 0;clip: rect(1px 1px 1px 1px);clip: rect(1px, 1px, 1px, 1px);height: 1px;margin: -1px;overflow: hidden;padding: 0;position: absolute;width: 1px;}#sk-container-id-4 div.sk-estimator {font-family: monospace;background-color: #f0f8ff;border: 1px dotted black;border-radius: 0.25em;box-sizing: border-box;margin-bottom: 0.5em;}#sk-container-id-4 div.sk-estimator:hover {background-color: #d4ebff;}#sk-container-id-4 div.sk-parallel-item::after {content: \"\";width: 100%;border-bottom: 1px solid gray;flex-grow: 1;}#sk-container-id-4 div.sk-label:hover label.sk-toggleable__label {background-color: #d4ebff;}#sk-container-id-4 div.sk-serial::before {content: \"\";position: absolute;border-left: 1px solid gray;box-sizing: border-box;top: 0;bottom: 0;left: 50%;z-index: 0;}#sk-container-id-4 div.sk-serial {display: flex;flex-direction: column;align-items: center;background-color: white;padding-right: 0.2em;padding-left: 0.2em;position: relative;}#sk-container-id-4 div.sk-item {position: relative;z-index: 1;}#sk-container-id-4 div.sk-parallel {display: flex;align-items: stretch;justify-content: center;background-color: white;position: relative;}#sk-container-id-4 div.sk-item::before, #sk-container-id-4 div.sk-parallel-item::before {content: \"\";position: absolute;border-left: 1px solid gray;box-sizing: border-box;top: 0;bottom: 0;left: 50%;z-index: -1;}#sk-container-id-4 div.sk-parallel-item {display: flex;flex-direction: column;z-index: 1;position: relative;background-color: white;}#sk-container-id-4 div.sk-parallel-item:first-child::after {align-self: flex-end;width: 50%;}#sk-container-id-4 div.sk-parallel-item:last-child::after {align-self: flex-start;width: 50%;}#sk-container-id-4 div.sk-parallel-item:only-child::after {width: 0;}#sk-container-id-4 div.sk-dashed-wrapped {border: 1px dashed gray;margin: 0 0.4em 0.5em 0.4em;box-sizing: border-box;padding-bottom: 0.4em;background-color: white;}#sk-container-id-4 div.sk-label label {font-family: monospace;font-weight: bold;display: inline-block;line-height: 1.2em;}#sk-container-id-4 div.sk-label-container {text-align: center;}#sk-container-id-4 div.sk-container {/* jupyter's `normalize.less` sets `[hidden] { display: none; }` but bootstrap.min.css set `[hidden] { display: none !important; }` so we also need the `!important` here to be able to override the default hidden behavior on the sphinx rendered scikit-learn.org. See: https://github.com/scikit-learn/scikit-learn/issues/21755 */display: inline-block !important;position: relative;}#sk-container-id-4 div.sk-text-repr-fallback {display: none;}</style><div id=\"sk-container-id-4\" class=\"sk-top-container\"><div class=\"sk-text-repr-fallback\"><pre>LinearRegression()</pre><b>In a Jupyter environment, please rerun this cell to show the HTML representation or trust the notebook. <br />On GitHub, the HTML representation is unable to render, please try loading this page with nbviewer.org.</b></div><div class=\"sk-container\" hidden><div class=\"sk-item\"><div class=\"sk-estimator sk-toggleable\"><input class=\"sk-toggleable__control sk-hidden--visually\" id=\"sk-estimator-id-4\" type=\"checkbox\" checked><label for=\"sk-estimator-id-4\" class=\"sk-toggleable__label sk-toggleable__label-arrow\">LinearRegression</label><div class=\"sk-toggleable__content\"><pre>LinearRegression()</pre></div></div></div></div></div>"
      ],
      "text/plain": [
       "LinearRegression()"
      ]
     },
     "execution_count": 85,
     "metadata": {},
     "output_type": "execute_result"
    }
   ],
   "source": [
    "regresi.fit(X_train, y_train)"
   ]
  },
  {
   "cell_type": "code",
   "execution_count": 86,
   "id": "f2701615",
   "metadata": {},
   "outputs": [
    {
     "name": "stdout",
     "output_type": "stream",
     "text": [
      "1.0\n"
     ]
    }
   ],
   "source": [
    "print(regresi.score(X_test, y_test))"
   ]
  },
  {
   "cell_type": "code",
   "execution_count": 87,
   "id": "ad31c3f8",
   "metadata": {},
   "outputs": [],
   "source": [
    "prediksi_y = regresi.predict(X_test)"
   ]
  },
  {
   "cell_type": "code",
   "execution_count": 88,
   "id": "218d264e",
   "metadata": {},
   "outputs": [
    {
     "data": {
      "image/png": "[encoded data removed]",
      "text/plain": [
       "<Figure size 432x288 with 1 Axes>"
      ]
     },
     "metadata": {},
     "output_type": "display_data"
    }
   ],
   "source": [
    "plt.scatter(X_test, y_test, color ='b')\n",
    "plt.plot(X_test, prediksi_y, color ='k')\n",
    "plt.xticks(())\n",
    "plt.yticks(())\n",
    "plt.show()"
   ]
  },
  {
   "cell_type": "markdown",
   "id": "faa5a174",
   "metadata": {},
   "source": [
    "Hasil Output Regression"
   ]
  },
  {
   "cell_type": "code",
   "execution_count": 89,
   "id": "33ae7309",
   "metadata": {},
   "outputs": [
    {
     "name": "stdout",
     "output_type": "stream",
     "text": [
      "R^2 :  1.0\n",
      "MAE : 5.938798439040262e-11\n",
      "RMSE: 7.123871689820265e-11\n"
     ]
    }
   ],
   "source": [
    "print(\"R^2 : \", r2_score(y_test, prediksi_y))\n",
    "print(\"MAE :\", mean_absolute_error(y_test, prediksi_y))\n",
    "print(\"RMSE:\",np.sqrt(mean_squared_error(y_test, prediksi_y)))"
   ]
  },
  {
   "cell_type": "markdown",
   "id": "be612240",
   "metadata": {},
   "source": [
    "KNN Algorithm"
   ]
  },
  {
   "cell_type": "code",
   "execution_count": 40,
   "id": "c7acd520",
   "metadata": {},
   "outputs": [],
   "source": [
    "data_X = df[['est_diameter_min', 'est_diameter_max', 'relative_velocity', 'miss_distance','absolute_magnitude']]\n",
    "data_Y = df['name']"
   ]
  },
  {
   "cell_type": "code",
   "execution_count": 54,
   "id": "1c4f4f58",
   "metadata": {},
   "outputs": [],
   "source": [
    "x_train, x_test, y_train, y_test = train_test_split(data_X, data_Y, random_state = 0, test_size=.2)"
   ]
  },
  {
   "cell_type": "code",
   "execution_count": 55,
   "id": "289d5e67",
   "metadata": {},
   "outputs": [
    {
     "name": "stdout",
     "output_type": "stream",
     "text": [
      "the length of data train is 2360 row\n",
      "the length of label train is 2360 row\n",
      "the length of data test is 591 row\n",
      "the length of label test is 591 row\n",
      "the length of total dataset is 2951 row\n"
     ]
    }
   ],
   "source": [
    "print(f'the length of data train is {len(x_train)} row',\n",
    "      f'the length of label train is {len(y_train)} row',\n",
    "      f'the length of data test is {len(x_test)} row',\n",
    "      f'the length of label test is {len(y_test)} row',\n",
    "      f'the length of total dataset is {len(df)} row',\n",
    "      sep='\\n')"
   ]
  },
  {
   "cell_type": "code",
   "execution_count": 43,
   "id": "856a3a00",
   "metadata": {},
   "outputs": [],
   "source": [
    "klasifikasi = GaussianNB()"
   ]
  },
  {
   "cell_type": "code",
   "execution_count": 44,
   "id": "f36f2b38",
   "metadata": {},
   "outputs": [
    {
     "data": {
      "text/html": [
       "<style>#sk-container-id-3 {color: black;background-color: white;}#sk-container-id-3 pre{padding: 0;}#sk-container-id-3 div.sk-toggleable {background-color: white;}#sk-container-id-3 label.sk-toggleable__label {cursor: pointer;display: block;width: 100%;margin-bottom: 0;padding: 0.3em;box-sizing: border-box;text-align: center;}#sk-container-id-3 label.sk-toggleable__label-arrow:before {content: \"▸\";float: left;margin-right: 0.25em;color: #696969;}#sk-container-id-3 label.sk-toggleable__label-arrow:hover:before {color: black;}#sk-container-id-3 div.sk-estimator:hover label.sk-toggleable__label-arrow:before {color: black;}#sk-container-id-3 div.sk-toggleable__content {max-height: 0;max-width: 0;overflow: hidden;text-align: left;background-color: #f0f8ff;}#sk-container-id-3 div.sk-toggleable__content pre {margin: 0.2em;color: black;border-radius: 0.25em;background-color: #f0f8ff;}#sk-container-id-3 input.sk-toggleable__control:checked~div.sk-toggleable__content {max-height: 200px;max-width: 100%;overflow: auto;}#sk-container-id-3 input.sk-toggleable__control:checked~label.sk-toggleable__label-arrow:before {content: \"▾\";}#sk-container-id-3 div.sk-estimator input.sk-toggleable__control:checked~label.sk-toggleable__label {background-color: #d4ebff;}#sk-container-id-3 div.sk-label input.sk-toggleable__control:checked~label.sk-toggleable__label {background-color: #d4ebff;}#sk-container-id-3 input.sk-hidden--visually {border: 0;clip: rect(1px 1px 1px 1px);clip: rect(1px, 1px, 1px, 1px);height: 1px;margin: -1px;overflow: hidden;padding: 0;position: absolute;width: 1px;}#sk-container-id-3 div.sk-estimator {font-family: monospace;background-color: #f0f8ff;border: 1px dotted black;border-radius: 0.25em;box-sizing: border-box;margin-bottom: 0.5em;}#sk-container-id-3 div.sk-estimator:hover {background-color: #d4ebff;}#sk-container-id-3 div.sk-parallel-item::after {content: \"\";width: 100%;border-bottom: 1px solid gray;flex-grow: 1;}#sk-container-id-3 div.sk-label:hover label.sk-toggleable__label {background-color: #d4ebff;}#sk-container-id-3 div.sk-serial::before {content: \"\";position: absolute;border-left: 1px solid gray;box-sizing: border-box;top: 0;bottom: 0;left: 50%;z-index: 0;}#sk-container-id-3 div.sk-serial {display: flex;flex-direction: column;align-items: center;background-color: white;padding-right: 0.2em;padding-left: 0.2em;position: relative;}#sk-container-id-3 div.sk-item {position: relative;z-index: 1;}#sk-container-id-3 div.sk-parallel {display: flex;align-items: stretch;justify-content: center;background-color: white;position: relative;}#sk-container-id-3 div.sk-item::before, #sk-container-id-3 div.sk-parallel-item::before {content: \"\";position: absolute;border-left: 1px solid gray;box-sizing: border-box;top: 0;bottom: 0;left: 50%;z-index: -1;}#sk-container-id-3 div.sk-parallel-item {display: flex;flex-direction: column;z-index: 1;position: relative;background-color: white;}#sk-container-id-3 div.sk-parallel-item:first-child::after {align-self: flex-end;width: 50%;}#sk-container-id-3 div.sk-parallel-item:last-child::after {align-self: flex-start;width: 50%;}#sk-container-id-3 div.sk-parallel-item:only-child::after {width: 0;}#sk-container-id-3 div.sk-dashed-wrapped {border: 1px dashed gray;margin: 0 0.4em 0.5em 0.4em;box-sizing: border-box;padding-bottom: 0.4em;background-color: white;}#sk-container-id-3 div.sk-label label {font-family: monospace;font-weight: bold;display: inline-block;line-height: 1.2em;}#sk-container-id-3 div.sk-label-container {text-align: center;}#sk-container-id-3 div.sk-container {/* jupyter's `normalize.less` sets `[hidden] { display: none; }` but bootstrap.min.css set `[hidden] { display: none !important; }` so we also need the `!important` here to be able to override the default hidden behavior on the sphinx rendered scikit-learn.org. See: https://github.com/scikit-learn/scikit-learn/issues/21755 */display: inline-block !important;position: relative;}#sk-container-id-3 div.sk-text-repr-fallback {display: none;}</style><div id=\"sk-container-id-3\" class=\"sk-top-container\"><div class=\"sk-text-repr-fallback\"><pre>GaussianNB()</pre><b>In a Jupyter environment, please rerun this cell to show the HTML representation or trust the notebook. <br />On GitHub, the HTML representation is unable to render, please try loading this page with nbviewer.org.</b></div><div class=\"sk-container\" hidden><div class=\"sk-item\"><div class=\"sk-estimator sk-toggleable\"><input class=\"sk-toggleable__control sk-hidden--visually\" id=\"sk-estimator-id-3\" type=\"checkbox\" checked><label for=\"sk-estimator-id-3\" class=\"sk-toggleable__label sk-toggleable__label-arrow\">GaussianNB</label><div class=\"sk-toggleable__content\"><pre>GaussianNB()</pre></div></div></div></div></div>"
      ],
      "text/plain": [
       "GaussianNB()"
      ]
     },
     "execution_count": 44,
     "metadata": {},
     "output_type": "execute_result"
    }
   ],
   "source": [
    "klasifikasi.fit(x_train, y_train)"
   ]
  },
  {
   "cell_type": "code",
   "execution_count": 45,
   "id": "3d16507f",
   "metadata": {},
   "outputs": [
    {
     "data": {
      "text/plain": [
       "0.01353637901861252"
      ]
     },
     "execution_count": 45,
     "metadata": {},
     "output_type": "execute_result"
    }
   ],
   "source": [
    "klasifikasi.score(x_test, y_test)"
   ]
  },
  {
   "cell_type": "code",
   "execution_count": 46,
   "id": "3ddaf445",
   "metadata": {},
   "outputs": [],
   "source": [
    "nilai_prediksi = klasifikasi.predict(x_test)\n",
    "akurasi = accuracy_score(y_test,nilai_prediksi)"
   ]
  },
  {
   "cell_type": "code",
   "execution_count": 16,
   "id": "5e9f2287",
   "metadata": {},
   "outputs": [
    {
     "name": "stdout",
     "output_type": "stream",
     "text": [
      "              precision    recall  f1-score   support\n",
      "\n",
      " (2016 FH60)       0.00      0.00      0.00         0\n",
      " (2016 FL60)       0.22      0.79      0.35        14\n",
      "(2020 RY129)       0.00      0.00      0.00         1\n",
      "  (2022 AA1)       0.00      0.00      0.00         1\n",
      "  (2022 AA4)       0.00      0.00      0.00         2\n",
      "   (2022 AB)       0.00      0.00      0.00         3\n",
      "  (2022 AB1)       0.00      0.00      0.00         1\n",
      "  (2022 AB2)       0.00      0.00      0.00         2\n",
      "  (2022 AB4)       0.00      0.00      0.00         1\n",
      "  (2022 AB5)       0.00      0.00      0.00         0\n",
      "  (2022 AB6)       0.00      0.00      0.00         1\n",
      "   (2022 AC)       0.00      0.00      0.00         2\n",
      "  (2022 AC4)       0.00      0.00      0.00         1\n",
      "  (2022 AC7)       0.00      0.00      0.00         1\n",
      "   (2022 AD)       0.00      0.00      0.00         1\n",
      "  (2022 AD1)       0.00      0.00      0.00         3\n",
      "  (2022 AD4)       0.00      0.00      0.00         1\n",
      "  (2022 AE1)       0.00      0.00      0.00         2\n",
      "  (2022 AE2)       0.00      0.00      0.00         1\n",
      "  (2022 AE4)       0.00      0.00      0.00         1\n",
      "  (2022 AF2)       0.00      0.00      0.00         0\n",
      "  (2022 AF5)       0.00      0.00      0.00         1\n",
      "   (2022 AG)       0.00      0.00      0.00         2\n",
      "  (2022 AG1)       0.00      0.00      0.00         1\n",
      "  (2022 AG2)       0.00      0.00      0.00         1\n",
      "  (2022 AH1)       0.00      0.00      0.00         1\n",
      "  (2022 AH2)       0.00      0.00      0.00         0\n",
      "  (2022 AH3)       0.00      0.00      0.00         1\n",
      "   (2022 AJ)       0.00      0.00      0.00         1\n",
      "  (2022 AJ3)       0.00      0.00      0.00         2\n",
      "  (2022 AJ5)       0.00      0.00      0.00         1\n",
      "   (2022 AK)       0.00      0.00      0.00         1\n",
      "  (2022 AK2)       0.00      0.00      0.00         3\n",
      "   (2022 AL)       0.00      0.00      0.00         2\n",
      "  (2022 AL2)       0.00      0.00      0.00         0\n",
      "  (2022 AL3)       0.00      0.00      0.00         4\n",
      "   (2022 AM)       0.00      0.00      0.00         2\n",
      "  (2022 AM5)       0.00      0.00      0.00         1\n",
      "  (2022 AN5)       0.00      0.00      0.00         1\n",
      "   (2022 AO)       0.00      0.00      0.00         1\n",
      "  (2022 AO1)       0.00      0.00      0.00         1\n",
      "  (2022 AO2)       0.00      0.00      0.00         2\n",
      "  (2022 AO3)       0.00      0.00      0.00         0\n",
      "  (2022 AO6)       0.00      0.00      0.00         1\n",
      "   (2022 AP)       0.00      0.00      0.00         0\n",
      "  (2022 AP1)       0.00      0.00      0.00         1\n",
      "  (2022 AP3)       0.00      0.00      0.00         1\n",
      "   (2022 AQ)       0.00      0.00      0.00         1\n",
      "  (2022 AQ2)       0.00      0.00      0.00         1\n",
      "   (2022 AR)       0.00      0.00      0.00         1\n",
      "  (2022 AR2)       0.00      0.00      0.00         1\n",
      "   (2022 AS)       0.00      0.00      0.00         0\n",
      "  (2022 AS2)       0.00      0.00      0.00         3\n",
      "  (2022 AS3)       0.00      0.00      0.00         1\n",
      "  (2022 AS6)       0.00      0.00      0.00         2\n",
      "  (2022 AT3)       0.00      0.00      0.00         1\n",
      "  (2022 AT4)       0.00      0.00      0.00         1\n",
      "  (2022 AT5)       0.00      0.00      0.00         3\n",
      "  (2022 AU2)       0.00      0.00      0.00         0\n",
      "   (2022 AV)       0.00      0.00      0.00         1\n",
      " (2022 AV13)       0.00      0.00      0.00         1\n",
      "  (2022 AV2)       0.00      0.00      0.00         0\n",
      "  (2022 AV4)       0.00      0.00      0.00         5\n",
      "  (2022 AW4)       0.00      0.00      0.00         1\n",
      "  (2022 AW6)       0.00      0.00      0.00         1\n",
      "   (2022 AX)       0.00      0.00      0.00         1\n",
      "  (2022 AX4)       0.00      0.00      0.00         1\n",
      "  (2022 AY3)       0.00      0.00      0.00         1\n",
      "  (2022 AZ1)       0.00      0.00      0.00         1\n",
      "  (2022 AZ2)       0.00      0.00      0.00         1\n",
      "  (2022 AZ3)       0.00      0.00      0.00         2\n",
      "  (2022 AZ4)       0.00      0.00      0.00         1\n",
      "   (2022 BA)       0.00      0.00      0.00         1\n",
      "  (2022 BA1)       0.00      0.00      0.00         2\n",
      "  (2022 BA3)       0.00      0.00      0.00         1\n",
      "  (2022 BA6)       0.00      0.00      0.00         0\n",
      "  (2022 BB2)       0.00      0.00      0.00         2\n",
      "  (2022 BB3)       0.00      0.00      0.00         3\n",
      "  (2022 BB5)       0.00      0.00      0.00         0\n",
      "   (2022 BC)       0.00      0.00      0.00         1\n",
      "  (2022 BC1)       0.00      0.00      0.00         1\n",
      "  (2022 BC2)       0.00      0.00      0.00         1\n",
      "  (2022 BC3)       0.00      0.00      0.00         0\n",
      "  (2022 BC5)       0.00      0.00      0.00         1\n",
      "   (2022 BD)       0.00      0.00      0.00         0\n",
      "  (2022 BD6)       0.00      0.00      0.00         1\n",
      "  (2022 BE1)       0.00      0.00      0.00         1\n",
      "   (2022 BF)       0.00      0.00      0.00         1\n",
      "  (2022 BF1)       0.00      0.00      0.00         1\n",
      "  (2022 BF3)       0.00      0.00      0.00         1\n",
      "  (2022 BG1)       0.00      0.00      0.00         1\n",
      "  (2022 BG2)       0.00      0.00      0.00         1\n",
      "  (2022 BG7)       0.00      0.00      0.00         1\n",
      "  (2022 BG9)       0.00      0.00      0.00         1\n",
      "   (2022 BH)       0.00      0.00      0.00         2\n",
      "  (2022 BH2)       0.00      0.00      0.00         1\n",
      "  (2022 BH3)       0.00      0.00      0.00         1\n",
      "  (2022 BH4)       0.00      0.00      0.00         0\n",
      "  (2022 BH7)       0.00      0.00      0.00         1\n",
      "  (2022 BH9)       0.00      0.00      0.00         1\n",
      "  (2022 BJ8)       0.00      0.00      0.00         1\n",
      "  (2022 BJ9)       0.00      0.00      0.00         1\n",
      "  (2022 BK3)       0.00      0.00      0.00         1\n",
      "  (2022 BL1)       0.00      0.00      0.00         1\n",
      "  (2022 BL2)       0.00      0.00      0.00         1\n",
      "  (2022 BL3)       0.00      0.00      0.00         0\n",
      "  (2022 BM2)       0.00      0.00      0.00         1\n",
      "  (2022 BM3)       0.00      0.00      0.00         3\n",
      "  (2022 BM5)       0.00      0.00      0.00         3\n",
      "   (2022 BN)       0.00      0.00      0.00         0\n",
      "  (2022 BN2)       0.00      0.00      0.00         1\n",
      "  (2022 BN5)       0.00      0.00      0.00         2\n",
      "  (2022 BN7)       0.00      0.00      0.00         1\n",
      "  (2022 BO3)       0.00      0.00      0.00         1\n",
      "  (2022 BO5)       0.00      0.00      0.00         1\n",
      "  (2022 BP3)       0.00      0.00      0.00         1\n",
      "  (2022 BP5)       0.00      0.00      0.00         0\n",
      "  (2022 BQ1)       0.00      0.00      0.00         1\n",
      "  (2022 BQ3)       0.00      0.00      0.00         1\n",
      "  (2022 BQ4)       0.00      0.00      0.00         1\n",
      "  (2022 BQ5)       0.00      0.00      0.00         1\n",
      "  (2022 BR2)       0.00      0.00      0.00         0\n",
      "   (2022 BS)       0.00      0.00      0.00         1\n",
      "  (2022 BT6)       0.00      0.00      0.00         1\n",
      "  (2022 BU2)       0.00      0.00      0.00         1\n",
      "  (2022 BU4)       0.00      0.00      0.00         4\n",
      "  (2022 BU6)       0.00      0.00      0.00         1\n",
      "   (2022 BV)       0.00      0.00      0.00         1\n",
      "  (2022 BV1)       0.00      0.00      0.00         1\n",
      "  (2022 BV3)       0.00      0.00      0.00         3\n",
      "  (2022 BV6)       0.00      0.00      0.00         2\n",
      "  (2022 BW1)       0.00      0.00      0.00         1\n",
      "  (2022 BW3)       0.00      0.00      0.00         0\n",
      "  (2022 BW6)       0.00      0.00      0.00         1\n",
      "  (2022 BX1)       0.00      0.00      0.00         1\n",
      "  (2022 BX4)       0.00      0.00      0.00         1\n",
      "  (2022 BX5)       0.00      0.00      0.00         0\n",
      "  (2022 BX6)       0.00      0.00      0.00         5\n",
      " (2022 BY12)       0.00      0.00      0.00         1\n",
      " (2022 BY39)       0.05      0.25      0.09         4\n",
      "  (2022 BY4)       0.00      0.00      0.00         1\n",
      "  (2022 BZ5)       0.00      0.00      0.00         1\n",
      "   (2022 CA)       0.00      0.00      0.00         1\n",
      "  (2022 CA1)       0.00      0.00      0.00         2\n",
      "  (2022 CA2)       0.00      0.00      0.00         1\n",
      "  (2022 CA5)       0.00      0.00      0.00         0\n",
      "   (2022 CB)       0.00      0.00      0.00         1\n",
      "  (2022 CB1)       0.00      0.00      0.00         3\n",
      "  (2022 CB2)       0.00      0.00      0.00         2\n",
      "  (2022 CB3)       0.00      0.00      0.00         2\n",
      "  (2022 CB5)       0.00      0.00      0.00         1\n",
      "  (2022 CC1)       0.00      0.00      0.00         1\n",
      "   (2022 CD)       0.00      0.00      0.00         4\n",
      "   (2022 CE)       0.00      0.00      0.00         2\n",
      "  (2022 CE1)       0.00      0.00      0.00         1\n",
      "  (2022 CE5)       0.00      0.00      0.00         1\n",
      "  (2022 CF3)       0.00      0.00      0.00         2\n",
      "  (2022 CF7)       0.00      0.00      0.00         2\n",
      "   (2022 CG)       0.00      0.00      0.00         1\n",
      "  (2022 CG1)       0.00      0.00      0.00         1\n",
      "  (2022 CG7)       0.00      0.00      0.00         1\n",
      "  (2022 CH3)       0.00      0.00      0.00         1\n",
      "  (2022 CH5)       0.00      0.00      0.00         3\n",
      "  (2022 CH7)       0.00      0.00      0.00         1\n",
      "  (2022 CJ1)       0.00      0.00      0.00         0\n",
      "  (2022 CJ5)       0.00      0.00      0.00         1\n",
      " (2022 CK10)       0.00      0.00      0.00         1\n",
      " (2022 CK18)       0.00      0.00      0.00         2\n",
      "  (2022 CK4)       0.00      0.00      0.00         1\n",
      "  (2022 CK6)       0.00      0.00      0.00         3\n",
      "  (2022 CK7)       0.00      0.00      0.00         1\n",
      "  (2022 CL1)       0.00      0.00      0.00         2\n",
      " (2022 CL12)       0.00      0.00      0.00         0\n",
      "  (2022 CL3)       0.00      0.00      0.00         1\n",
      "  (2022 CL5)       0.00      0.00      0.00         1\n",
      "  (2022 CL7)       0.00      0.00      0.00         1\n",
      "   (2022 CM)       0.00      0.00      0.00         2\n",
      "  (2022 CM1)       0.00      0.00      0.00         1\n",
      "  (2022 CM2)       0.00      0.00      0.00         2\n",
      "  (2022 CM3)       0.00      0.00      0.00         1\n",
      "  (2022 CM5)       0.00      0.00      0.00         2\n",
      "  (2022 CN2)       0.00      0.00      0.00         1\n",
      "  (2022 CN3)       0.00      0.00      0.00         1\n",
      "  (2022 CN5)       0.00      0.00      0.00         1\n",
      "   (2022 CO)       0.00      0.00      0.00         1\n",
      "  (2022 CO6)       0.00      0.00      0.00         3\n",
      "  (2022 CP1)       0.00      0.00      0.00         2\n",
      "  (2022 CP4)       0.00      0.00      0.00         1\n",
      "  (2022 CP7)       0.00      0.00      0.00         4\n",
      "  (2022 CQ1)       0.00      0.00      0.00         2\n",
      "  (2022 CQ3)       0.00      0.00      0.00         1\n",
      "  (2022 CQ4)       0.00      0.00      0.00         1\n",
      "  (2022 CQ5)       0.00      0.00      0.00         1\n",
      "  (2022 CR1)       0.00      0.00      0.00         1\n",
      "  (2022 CR2)       0.00      0.00      0.00         1\n",
      "  (2022 CR3)       0.00      0.00      0.00         1\n",
      "  (2022 CR4)       0.00      0.00      0.00         0\n",
      "  (2022 CR5)       0.00      0.00      0.00         1\n",
      "   (2022 CS)       0.00      0.00      0.00         1\n",
      "  (2022 CS5)       0.00      0.00      0.00         0\n",
      "   (2022 CT)       0.00      0.00      0.00         1\n",
      " (2022 CT19)       0.50      0.50      0.50         2\n",
      "  (2022 CT3)       0.00      0.00      0.00         1\n",
      "  (2022 CU1)       0.00      0.00      0.00         3\n",
      "  (2022 CU4)       0.00      0.00      0.00         1\n",
      "   (2022 CV)       0.00      0.00      0.00         0\n",
      "  (2022 CV2)       0.00      0.00      0.00         1\n",
      "  (2022 CV3)       0.00      0.00      0.00         1\n",
      "  (2022 CV4)       0.00      0.00      0.00         1\n",
      "   (2022 CW)       0.00      0.00      0.00         1\n",
      "  (2022 CW4)       0.00      0.00      0.00         3\n",
      "  (2022 CW5)       0.00      0.00      0.00         1\n",
      "  (2022 CW6)       0.00      0.00      0.00         1\n",
      "  (2022 CX1)       0.01      0.33      0.03         3\n",
      "  (2022 CX2)       0.00      0.00      0.00         1\n",
      "  (2022 CX4)       0.00      0.00      0.00         2\n",
      "  (2022 CX6)       0.00      0.00      0.00         1\n",
      "  (2022 CY1)       0.00      0.00      0.00         1\n",
      "   (2022 CZ)       0.00      0.00      0.00         1\n",
      "  (2022 CZ4)       0.00      0.00      0.00         0\n",
      "   (2022 DA)       0.00      0.00      0.00         1\n",
      "  (2022 DA2)       0.00      0.00      0.00         2\n",
      "  (2022 DA3)       0.00      0.00      0.00         1\n",
      "  (2022 DA4)       0.00      0.00      0.00         3\n",
      "   (2022 DB)       0.00      0.00      0.00         1\n",
      "  (2022 DB2)       0.00      0.00      0.00         1\n",
      "   (2022 DD)       0.00      0.00      0.00         1\n",
      "  (2022 DD1)       0.00      0.00      0.00         1\n",
      "  (2022 DD2)       0.50      1.00      0.67         1\n",
      "  (2022 DD3)       0.00      0.00      0.00         1\n",
      "  (2022 DD5)       0.00      0.00      0.00         1\n",
      "  (2022 DE2)       0.00      0.00      0.00         1\n",
      "   (2022 DF)       0.00      0.00      0.00         2\n",
      "  (2022 DF3)       0.00      0.00      0.00         1\n",
      "  (2022 DG2)       0.00      0.00      0.00         2\n",
      "  (2022 DH3)       0.00      0.00      0.00         0\n",
      "  (2022 DJ1)       0.00      0.00      0.00         1\n",
      "  (2022 DJ4)       0.00      0.00      0.00         4\n",
      "   (2022 DL)       0.00      0.00      0.00         2\n",
      "  (2022 DL4)       0.00      0.00      0.00         0\n",
      "  (2022 DM2)       0.00      0.00      0.00         1\n",
      "  (2022 DM4)       0.00      0.00      0.00         1\n",
      "   (2022 DN)       0.00      0.00      0.00         1\n",
      "  (2022 DN1)       0.00      0.00      0.00         2\n",
      "  (2022 DN3)       0.00      0.00      0.00         2\n",
      "  (2022 DN4)       0.00      0.00      0.00         1\n",
      "  (2022 DO2)       0.00      0.00      0.00         1\n",
      "  (2022 DO4)       0.00      0.00      0.00         1\n",
      "  (2022 DP8)       0.00      0.00      0.00         1\n",
      "  (2022 DQ2)       0.00      0.00      0.00         1\n",
      "   (2022 DR)       0.00      0.00      0.00         1\n",
      "  (2022 DS2)       0.00      0.00      0.00         1\n",
      "  (2022 DT1)       0.00      0.00      0.00         0\n",
      "  (2022 DT4)       0.00      0.00      0.00         3\n",
      "  (2022 DV1)       0.00      0.00      0.00         3\n",
      "  (2022 DV3)       0.00      0.00      0.00         0\n",
      "  (2022 DV4)       0.00      0.00      0.00         0\n",
      "   (2022 DW)       0.00      0.00      0.00         1\n",
      "  (2022 DW1)       0.00      0.00      0.00         4\n",
      "  (2022 DX4)       0.00      0.00      0.00         2\n",
      "  (2022 DY1)       0.00      0.00      0.00         5\n",
      "  (2022 DY2)       0.00      0.00      0.00         1\n",
      "  (2022 DZ2)       0.00      0.00      0.00         2\n",
      "  (2022 DZ3)       0.00      0.00      0.00         0\n",
      "   (2022 EA)       0.00      0.00      0.00         1\n",
      "  (2022 EA5)       0.00      0.00      0.00         1\n",
      "  (2022 EA6)       0.00      0.00      0.00         3\n",
      "  (2022 EB3)       0.00      0.00      0.00         2\n",
      "  (2022 EC1)       0.00      0.00      0.00         0\n",
      "  (2022 EC2)       0.00      0.00      0.00         0\n",
      "  (2022 EC3)       0.00      0.00      0.00         4\n",
      "  (2022 EC5)       0.00      0.00      0.00         1\n",
      "  (2022 EC6)       0.00      0.00      0.00         1\n",
      "  (2022 ED3)       0.00      0.00      0.00         3\n",
      "  (2022 EE5)       0.00      0.00      0.00         3\n",
      "  (2022 EE6)       0.00      0.00      0.00         1\n",
      "  (2022 EF1)       0.00      0.00      0.00         3\n",
      "  (2022 EF5)       0.00      0.00      0.00         2\n",
      "   (2022 EG)       0.00      0.00      0.00         1\n",
      "  (2022 EG1)       0.00      0.00      0.00         1\n",
      "  (2022 EH4)       0.00      0.00      0.00         1\n",
      "  (2022 EJ1)       0.00      0.00      0.00         1\n",
      "  (2022 EJ5)       0.00      0.00      0.00         0\n",
      "  (2022 EK1)       0.00      0.00      0.00         1\n",
      "  (2022 EK3)       0.00      0.00      0.00         2\n",
      "  (2022 EK4)       0.00      0.00      0.00         4\n",
      "  (2022 EK6)       0.00      0.00      0.00         5\n",
      "  (2022 EL4)       0.00      0.00      0.00         1\n",
      "  (2022 EL5)       0.00      0.00      0.00         3\n",
      "  (2022 EL6)       0.00      0.00      0.00         1\n",
      "   (2022 EM)       0.00      0.00      0.00         1\n",
      "  (2022 EM1)       0.00      0.00      0.00         1\n",
      "  (2022 EM4)       0.00      0.00      0.00         1\n",
      "  (2022 EM5)       0.00      0.00      0.00         1\n",
      "  (2022 EM6)       0.00      0.00      0.00         0\n",
      "   (2022 EN)       0.00      0.00      0.00         1\n",
      "  (2022 EN1)       0.00      0.00      0.00         0\n",
      "  (2022 EN2)       0.00      0.00      0.00         0\n",
      "  (2022 EN3)       0.00      0.00      0.00         1\n",
      "  (2022 EN5)       0.00      0.00      0.00         1\n",
      "  (2022 EO1)       0.00      0.00      0.00         1\n",
      "  (2022 EO4)       0.00      0.00      0.00         1\n",
      "   (2022 EP)       0.00      0.00      0.00         1\n",
      "  (2022 EQ4)       0.00      0.00      0.00         0\n",
      "  (2022 EQ6)       0.00      0.00      0.00         2\n",
      "   (2022 ER)       0.00      0.00      0.00         4\n",
      "  (2022 ER1)       0.00      0.00      0.00         0\n",
      "  (2022 ER2)       0.00      0.00      0.00         1\n",
      "  (2022 ES1)       0.00      0.00      0.00         2\n",
      " (2022 ES11)       0.00      0.00      0.00         1\n",
      "  (2022 ES4)       0.00      0.00      0.00         1\n",
      "  (2022 ET1)       0.00      0.00      0.00         1\n",
      "  (2022 ET2)       0.00      0.00      0.00         3\n",
      "  (2022 ET3)       0.00      0.00      0.00         1\n",
      "  (2022 ET4)       0.00      0.00      0.00         1\n",
      "  (2022 ET5)       0.00      0.00      0.00         1\n",
      "  (2022 EU1)       0.00      0.00      0.00         1\n",
      "  (2022 EU4)       0.00      0.00      0.00         2\n",
      "  (2022 EU5)       0.00      0.00      0.00         0\n",
      "  (2022 EV1)       0.00      0.00      0.00         1\n",
      "  (2022 EV2)       0.00      0.00      0.00         1\n",
      "  (2022 EV4)       0.00      0.00      0.00         1\n",
      "  (2022 EV5)       0.00      0.00      0.00         0\n",
      "  (2022 EW2)       0.00      0.00      0.00         1\n",
      "  (2022 EW3)       0.00      0.00      0.00         5\n",
      "  (2022 EW4)       0.00      0.00      0.00         2\n",
      "  (2022 EW5)       0.00      0.00      0.00         2\n",
      "   (2022 EX)       0.00      0.00      0.00         1\n",
      "  (2022 EX1)       0.00      0.00      0.00         1\n",
      "  (2022 EX6)       0.00      0.00      0.00         1\n",
      "  (2022 EY3)       0.00      0.00      0.00         1\n",
      "  (2022 EY5)       0.00      0.00      0.00         0\n",
      "  (2022 EY6)       0.00      0.00      0.00         0\n",
      "  (2022 EZ1)       0.00      0.00      0.00         1\n",
      "  (2022 EZ3)       0.00      0.00      0.00         0\n",
      "  (2022 EZ4)       0.00      0.00      0.00         1\n",
      "  (2022 EZ5)       0.00      0.00      0.00         1\n",
      "  (2022 EZ6)       0.00      0.00      0.00         2\n",
      "   (2022 FA)       0.00      0.00      0.00         1\n",
      "  (2022 FA1)       0.00      0.00      0.00         0\n",
      "  (2022 FA4)       0.00      0.00      0.00         1\n",
      "  (2022 FB3)       0.00      0.00      0.00         1\n",
      "   (2022 FC)       0.14      0.50      0.22         2\n",
      "  (2022 FC2)       0.00      0.00      0.00         1\n",
      "  (2022 FC3)       0.00      0.00      0.00         1\n",
      "  (2022 FC4)       0.00      0.00      0.00         1\n",
      "   (2022 FD)       0.00      0.00      0.00         1\n",
      "  (2022 FD1)       0.00      0.00      0.00         1\n",
      "  (2022 FD4)       0.00      0.00      0.00         3\n",
      "  (2022 FE1)       0.00      0.00      0.00         2\n",
      "  (2022 FE2)       0.00      0.00      0.00         2\n",
      "  (2022 FE3)       0.00      0.00      0.00         1\n",
      "  (2022 FF3)       0.00      0.00      0.00         1\n",
      "  (2022 FF4)       0.00      0.00      0.00         1\n",
      "  (2022 FG2)       0.00      0.00      0.00         1\n",
      "  (2022 FG3)       0.00      0.00      0.00         1\n",
      "  (2022 FG4)       0.00      0.00      0.00         1\n",
      "   (2022 FH)       0.00      0.00      0.00         1\n",
      "  (2022 FH2)       0.00      0.00      0.00         1\n",
      "   (2022 FJ)       0.00      0.00      0.00         1\n",
      "  (2022 FK1)       0.00      0.00      0.00         5\n",
      "  (2022 FK4)       0.00      0.00      0.00         1\n",
      "   (2022 FL)       0.00      0.00      0.00         1\n",
      "  (2022 FL1)       0.00      0.00      0.00         2\n",
      "  (2022 FL2)       0.00      0.00      0.00         1\n",
      "   (2022 FM)       0.00      0.00      0.00         1\n",
      "  (2022 FM2)       0.00      0.00      0.00         3\n",
      "  (2022 FM3)       0.00      0.00      0.00         1\n",
      "   (2022 FN)       0.00      0.00      0.00         2\n",
      "  (2022 FN1)       0.00      0.00      0.00         1\n",
      "  (2022 FO2)       0.00      0.00      0.00         1\n",
      "  (2022 FO3)       0.00      0.00      0.00         1\n",
      "   (2022 FP)       0.00      0.00      0.00         1\n",
      "  (2022 FP2)       0.00      0.00      0.00         1\n",
      "  (2022 FQ1)       0.00      0.00      0.00         2\n",
      "  (2022 FQ2)       0.00      0.00      0.00         1\n",
      "  (2022 FR1)       0.00      0.00      0.00         1\n",
      "  (2022 FR4)       0.00      0.00      0.00         2\n",
      "  (2022 FS2)       0.00      0.00      0.00         1\n",
      "   (2022 FT)       0.00      0.00      0.00         1\n",
      "  (2022 FT1)       0.00      0.00      0.00         1\n",
      "  (2022 FT2)       0.00      0.00      0.00         1\n",
      "  (2022 FT4)       0.00      0.00      0.00         1\n",
      "  (2022 FU2)       0.00      0.00      0.00         1\n",
      "  (2022 FU4)       0.00      0.00      0.00         2\n",
      "  (2022 FV2)       0.00      0.00      0.00         1\n",
      "  (2022 FV4)       0.00      0.00      0.00         1\n",
      "   (2022 FW)       0.00      0.00      0.00         1\n",
      "  (2022 FW1)       0.00      0.00      0.00         1\n",
      "   (2022 FX)       0.00      0.00      0.00         1\n",
      "  (2022 FX1)       0.00      0.00      0.00         1\n",
      "   (2022 FY)       0.00      0.00      0.00         2\n",
      "  (2022 FY1)       0.00      0.00      0.00         1\n",
      "  (2022 FY2)       0.00      0.00      0.00         2\n",
      "  (2022 FY4)       0.00      0.00      0.00         2\n",
      "   (2022 FZ)       0.00      0.00      0.00         0\n",
      "  (2022 FZ1)       0.00      0.00      0.00         2\n",
      "  (2022 FZ3)       0.00      0.00      0.00         0\n",
      "  (2022 GA1)       0.00      0.00      0.00         1\n",
      "   (2022 GB)       0.00      0.00      0.00         3\n",
      "  (2022 GC1)       0.00      0.00      0.00         2\n",
      "  (2022 GC3)       0.00      0.00      0.00         1\n",
      "   (2022 GD)       0.00      0.00      0.00         1\n",
      "   (2022 GE)       0.00      0.00      0.00         3\n",
      "  (2022 GE1)       0.00      0.00      0.00         1\n",
      "  (2022 GE2)       0.00      0.00      0.00         1\n",
      "  (2022 GE3)       0.00      0.00      0.00         1\n",
      "  (2022 GF1)       0.00      0.00      0.00         1\n",
      "  (2022 GF4)       0.00      0.00      0.00         1\n",
      "   (2022 GG)       0.00      0.00      0.00         1\n",
      "  (2022 GG1)       0.00      0.00      0.00         1\n",
      "  (2022 GG3)       0.00      0.00      0.00         1\n",
      "  (2022 GH2)       0.00      0.00      0.00         1\n",
      "  (2022 GJ1)       0.00      0.00      0.00         1\n",
      "  (2022 GJ2)       0.00      0.00      0.00         2\n",
      "   (2022 GK)       0.00      0.00      0.00         3\n",
      "   (2022 GL)       0.00      0.00      0.00         1\n",
      "  (2022 GL1)       0.00      0.00      0.00         2\n",
      "  (2022 GL2)       0.00      0.00      0.00         1\n",
      "  (2022 GL3)       0.00      0.00      0.00         2\n",
      "   (2022 GM)       0.00      0.00      0.00         1\n",
      "  (2022 GM1)       0.00      0.00      0.00         1\n",
      "  (2022 GM2)       0.00      0.00      0.00         1\n",
      "  (2022 GN2)       0.00      0.00      0.00         1\n",
      "   (2022 GO)       0.00      0.00      0.00         1\n",
      "  (2022 GO3)       0.00      0.00      0.00         2\n",
      "  (2022 GP2)       0.00      0.00      0.00         1\n",
      "  (2022 GP3)       0.00      0.00      0.00         1\n",
      "   (2022 GQ)       0.00      0.00      0.00         2\n",
      "  (2022 GQ1)       0.00      0.00      0.00         1\n",
      "  (2022 GQ2)       0.00      0.00      0.00         4\n",
      "  (2022 GQ5)       0.00      0.00      0.00         0\n",
      "  (2022 GR1)       0.00      0.00      0.00         1\n",
      "  (2022 GR2)       0.00      0.00      0.00         3\n",
      "  (2022 GS1)       0.00      0.00      0.00         1\n",
      "  (2022 GS3)       0.00      0.00      0.00         0\n",
      "  (2022 GT3)       0.00      0.00      0.00         3\n",
      "  (2022 GT5)       0.00      0.00      0.00         1\n",
      "  (2022 GU1)       0.00      0.00      0.00         1\n",
      "  (2022 GV3)       0.00      0.00      0.00         1\n",
      "   (2022 GW)       0.00      0.00      0.00         1\n",
      "  (2022 GW1)       0.00      0.00      0.00         0\n",
      "  (2022 GW2)       0.00      0.00      0.00         1\n",
      "   (2022 GY)       0.00      0.00      0.00         1\n",
      "\n",
      "    accuracy                           0.03       591\n",
      "   macro avg       0.00      0.01      0.00       591\n",
      "weighted avg       0.01      0.03      0.01       591\n",
      "\n"
     ]
    },
    {
     "name": "stderr",
     "output_type": "stream",
     "text": [
      "C:\\Users\\HP\\AppData\\Roaming\\Python\\Python39\\site-packages\\sklearn\\metrics\\_classification.py:1327: UndefinedMetricWarning: Precision and F-score are ill-defined and being set to 0.0 in labels with no predicted samples. Use `zero_division` parameter to control this behavior.\n",
      "  _warn_prf(average, modifier, msg_start, len(result))\n",
      "C:\\Users\\HP\\AppData\\Roaming\\Python\\Python39\\site-packages\\sklearn\\metrics\\_classification.py:1327: UndefinedMetricWarning: Recall and F-score are ill-defined and being set to 0.0 in labels with no true samples. Use `zero_division` parameter to control this behavior.\n",
      "  _warn_prf(average, modifier, msg_start, len(result))\n",
      "C:\\Users\\HP\\AppData\\Roaming\\Python\\Python39\\site-packages\\sklearn\\metrics\\_classification.py:1327: UndefinedMetricWarning: Precision and F-score are ill-defined and being set to 0.0 in labels with no predicted samples. Use `zero_division` parameter to control this behavior.\n",
      "  _warn_prf(average, modifier, msg_start, len(result))\n",
      "C:\\Users\\HP\\AppData\\Roaming\\Python\\Python39\\site-packages\\sklearn\\metrics\\_classification.py:1327: UndefinedMetricWarning: Recall and F-score are ill-defined and being set to 0.0 in labels with no true samples. Use `zero_division` parameter to control this behavior.\n",
      "  _warn_prf(average, modifier, msg_start, len(result))\n",
      "C:\\Users\\HP\\AppData\\Roaming\\Python\\Python39\\site-packages\\sklearn\\metrics\\_classification.py:1327: UndefinedMetricWarning: Precision and F-score are ill-defined and being set to 0.0 in labels with no predicted samples. Use `zero_division` parameter to control this behavior.\n",
      "  _warn_prf(average, modifier, msg_start, len(result))\n",
      "C:\\Users\\HP\\AppData\\Roaming\\Python\\Python39\\site-packages\\sklearn\\metrics\\_classification.py:1327: UndefinedMetricWarning: Recall and F-score are ill-defined and being set to 0.0 in labels with no true samples. Use `zero_division` parameter to control this behavior.\n",
      "  _warn_prf(average, modifier, msg_start, len(result))\n"
     ]
    }
   ],
   "source": [
    "print(classification_report(y_test,nilai_prediksi))"
   ]
  },
  {
   "cell_type": "code",
   "execution_count": 56,
   "id": "b6157b5a",
   "metadata": {},
   "outputs": [
    {
     "name": "stdout",
     "output_type": "stream",
     "text": [
      "hasil prediksi: ['(2022 CH2)' '(2022 BB5)' '(2022 CX1)' '(2016 FL60)' '(2022 DN1)'\n",
      " '(2022 BB5)' '(2022 DQ2)' '(2022 BX6)' '(2022 DN1)' '(2016 FL60)'\n",
      " '(2022 CX1)' '(2022 DN1)' '(2022 CL1)' '(2022 CV2)' '(2022 BX6)'\n",
      " '(2022 BG9)' '(2022 CX1)' '(2022 CV2)' '(2022 CX1)' '(2022 DL4)'\n",
      " '(2022 BQ3)' '(2022 DT1)' '(2022 EN1)' '(2022 BY39)' '(2022 EN1)'\n",
      " '(2022 BQ3)' '(2022 CA5)' '(2022 BW1)' '(2022 ER1)' '(2022 CJ1)'\n",
      " '(2016 FL60)' '(2022 CK6)' '(2022 DT1)' '(2022 CR1)' '(2022 BB5)'\n",
      " '(2022 CD)' '(2022 BD6)' '(2022 DN1)' '(2022 CX1)' '(2022 BY39)'\n",
      " '(2022 BG9)' '(2022 CX1)' '(2022 BY39)' '(2022 GA3)' '(2022 CU4)'\n",
      " '(2022 BG7)' '(2022 AS)' '(2022 AT3)' '(2016 FH60)' '(2022 EB3)'\n",
      " '(2022 CU4)' '(2022 CX1)' '(2022 CD)' '(2022 EX1)' '(2022 CO6)'\n",
      " '(2022 CD)' '(2022 DH3)' '(2022 EX1)' '(2022 CX1)' '(2022 BX6)'\n",
      " '(2022 DL4)' '(2022 CU)' '(2022 GU1)' '(2022 BX6)' '(2022 CX1)'\n",
      " '(2022 DN1)' '(2022 CX1)' '(2022 DN1)' '(2022 EL6)' '(2022 CB2)'\n",
      " '(2022 BH4)' '(2022 EX1)' '(2022 CT19)' '(2022 EX1)' '(2022 EX1)'\n",
      " '(2022 BX6)' '(2022 CX1)' '(2022 CX1)' '(2022 EQ4)' '(2022 CD)'\n",
      " '(2022 BG9)' '(2022 BY39)' '(2022 GU1)' '(2022 BG9)' '(2022 ET2)'\n",
      " '(2022 GQ5)' '(2022 CT19)' '(2022 AL2)' '(2022 AV2)' '(2022 BJ8)'\n",
      " '(2022 BW1)' '(2022 BY39)' '(2022 DH3)' '(2022 BW3)' '(2022 DN1)'\n",
      " '(2022 DA)' '(2022 DN1)' '(2022 CU4)' '(2022 CU)' '(2022 CO6)'\n",
      " '(2022 AF2)' '(2022 AS)' '(2022 CD)' '(2022 CL12)' '(2022 DN1)'\n",
      " '(2022 AS)' '(2022 ET2)' '(2022 BQ3)' '(2022 CX1)' '(2022 AF2)'\n",
      " '(2016 FL60)' '(2016 FH60)' '(2022 CB3)' '(2022 GJ4)' '(2022 CU4)'\n",
      " '(2022 CA2)' '(2022 DN1)' '(2022 CW4)' '(2022 GJ4)' '(2016 FL60)'\n",
      " '(2022 CB3)' '(2022 DA)' '(2022 BG9)' '(2022 CU4)' '(2022 AW4)'\n",
      " '(2022 AP)' '(2022 EQ4)' '(2016 FL60)' '(2022 CW4)' '(2022 ET2)'\n",
      " '(2022 BX6)' '(2022 FB3)' '(2022 CX1)' '(2022 GJ4)' '(2016 FL60)'\n",
      " '(2022 GE)' '(2022 BW1)' '(2022 CX1)' '(2022 EX1)' '(2022 BN)'\n",
      " '(2022 DN1)' '(2016 FL60)' '(2022 CL12)' '(2022 DS3)' '(2022 BQ3)'\n",
      " '(2022 CJ1)' '(2022 EY6)' '(2022 CX1)' '(2022 AO2)' '(2022 GQ5)'\n",
      " '(2022 EL6)' '(2022 DN1)' '(2022 AH2)' '(2022 EX1)' '(2022 EN1)'\n",
      " '(2022 EQ4)' '(2022 EN1)' '(2022 CK6)' '(2022 CA2)' '(2016 FL60)'\n",
      " '(2022 AD4)' '(2022 DN1)' '(2022 AV2)' '(2022 DN1)' '(2022 BU2)'\n",
      " '(2022 ER1)' '(2022 DS3)' '(2022 BU2)' '(2022 EC1)' '(2022 DN1)'\n",
      " '(2022 CW4)' '(2022 DZ3)' '(2022 CW4)' '(2022 ET2)' '(2022 DN1)'\n",
      " '(2022 EX1)' '(2022 EQ4)' '(2022 CX1)' '(2022 DN1)' '(2016 FL60)'\n",
      " '(2022 EB3)' '(2022 EB3)' '(2022 CA5)' '(2022 DR2)' '(2022 GW1)'\n",
      " '(2022 AV2)' '(2022 GJ4)' '(2022 CD)' '(2016 FH60)' '(2022 CU)'\n",
      " '(2022 EQ4)' '(2022 BR2)' '(2022 AR2)' '(2022 CX1)' '(2022 GV1)'\n",
      " '(2022 AT3)' '(2022 BG9)' '(2020 RY129)' '(2022 CV2)' '(2022 DA)'\n",
      " '(2022 CD)' '(2022 FZ)' '(2022 BR2)' '(2022 DN1)' '(2022 EX)'\n",
      " '(2016 FL60)' '(2022 DN3)' '(2022 BW3)' '(2022 CJ5)' '(2022 CU)'\n",
      " '(2022 FZ)' '(2022 AP)' '(2022 BU2)' '(2022 CU4)' '(2022 DN1)'\n",
      " '(2022 EB3)' '(2022 DN1)' '(2022 DR2)' '(2022 DN1)' '(2022 CK6)'\n",
      " '(2022 CJ1)' '(2022 GE)' '(2022 DN1)' '(2022 GJ4)' '(2022 FN1)'\n",
      " '(2022 CD)' '(2022 CK6)' '(2022 DN1)' '(2022 DS3)' '(2022 BX6)'\n",
      " '(2016 FL60)' '(2022 CB3)' '(2022 AL2)' '(2022 CX1)' '(2022 GJ4)'\n",
      " '(2022 DN1)' '(2022 BR2)' '(2022 CX1)' '(2022 CD)' '(2022 CR1)'\n",
      " '(2022 ET2)' '(2022 CT19)' '(2022 CK6)' '(2022 CJ5)' '(2022 BY39)'\n",
      " '(2022 GE)' '(2022 DN1)' '(2022 BD6)' '(2022 CX1)' '(2022 CT19)'\n",
      " '(2022 FB3)' '(2022 CW4)' '(2022 CJ5)' '(2022 DL4)' '(2022 BW1)'\n",
      " '(2022 CX1)' '(2022 DN1)' '(2022 GJ4)' '(2022 CW4)' '(2022 AS)'\n",
      " '(2022 EL6)' '(2022 DA)' '(2022 EL6)' '(2022 CT19)' '(2022 DS3)'\n",
      " '(2022 EB3)' '(2022 EX1)' '(2022 BN)' '(2022 GU1)' '(2022 AT3)'\n",
      " '(2022 EX1)' '(2022 EL6)' '(2016 FL60)' '(2022 BY39)' '(2022 BG9)'\n",
      " '(2022 BU2)' '(2022 CB2)' '(2022 BJ8)' '(2022 CK6)' '(2022 BG9)'\n",
      " '(2022 BY39)' '(2016 FL60)' '(2022 CX1)' '(2022 BY39)' '(2022 CK6)'\n",
      " '(2022 FC)' '(2016 FL60)' '(2022 CL12)' '(2022 CA5)' '(2022 BJ8)'\n",
      " '(2022 GQ5)' '(2022 BJ8)' '(2016 FL60)' '(2022 CT19)' '(2022 CD)'\n",
      " '(2022 BY39)' '(2022 BH4)' '(2022 CD)' '(2022 FG4)' '(2022 CD)'\n",
      " '(2022 GE)' '(2022 DS3)' '(2022 GQ5)' '(2022 CX1)' '(2016 FL60)'\n",
      " '(2022 CJ1)' '(2022 ET2)' '(2022 EX1)' '(2022 CW4)' '(2022 FN1)'\n",
      " '(2022 EB3)' '(2022 AD4)' '(2022 DN3)' '(2022 CD)' '(2022 BN)'\n",
      " '(2022 BX6)' '(2022 EQ4)' '(2022 CM5)' '(2022 GQ5)' '(2016 FL60)'\n",
      " '(2022 CK6)' '(2022 GQ5)' '(2022 DN1)' '(2022 CU)' '(2022 CX1)'\n",
      " '(2022 BQ3)' '(2022 BX6)' '(2022 CB3)' '(2022 CB2)' '(2022 CB2)'\n",
      " '(2022 CS5)' '(2022 ET2)' '(2022 CW4)' '(2022 DA)' '(2022 EB3)'\n",
      " '(2022 ET2)' '(2022 AH2)' '(2022 EZ4)' '(2022 BY39)' '(2022 BY39)'\n",
      " '(2022 AF2)' '(2022 CD)' '(2022 DN1)' '(2022 AL2)' '(2022 CH2)'\n",
      " '(2022 DT1)' '(2022 EB3)' '(2022 FB3)' '(2022 EX)' '(2016 FL60)'\n",
      " '(2022 CB3)' '(2022 AB5)' '(2022 ER1)' '(2022 BY39)' '(2020 RY129)'\n",
      " '(2022 CL12)' '(2022 DA)' '(2022 DT1)' '(2016 FL60)' '(2022 DA)'\n",
      " '(2022 CA5)' '(2016 FL60)' '(2022 CT19)' '(2022 FN1)' '(2022 CD)'\n",
      " '(2022 GU1)' '(2022 CU4)' '(2022 DA)' '(2022 CA5)' '(2022 CX1)'\n",
      " '(2022 CO6)' '(2022 DN1)' '(2022 AD4)' '(2022 BY39)' '(2022 BX6)'\n",
      " '(2022 CU4)' '(2022 BB5)' '(2022 CU)' '(2022 CB3)' '(2022 DS3)'\n",
      " '(2016 FL60)' '(2022 EX1)' '(2022 CT19)' '(2022 AF2)' '(2022 DN1)'\n",
      " '(2022 CX1)' '(2016 FL60)' '(2022 CX1)' '(2022 EN1)' '(2022 DZ3)'\n",
      " '(2022 ER1)' '(2022 DN1)' '(2022 EC1)' '(2022 BW3)' '(2022 CK6)'\n",
      " '(2022 CW4)' '(2022 BG9)' '(2022 CQ3)' '(2022 CX1)' '(2022 CU4)'\n",
      " '(2022 BH9)' '(2022 BY39)' '(2022 AV2)' '(2022 AV2)' '(2022 CR1)'\n",
      " '(2022 EB3)' '(2022 AS)' '(2022 BJ8)' '(2016 FL60)' '(2022 CU4)'\n",
      " '(2022 BG9)' '(2022 EC1)' '(2022 CH2)' '(2022 AR2)' '(2022 CX1)'\n",
      " '(2022 DN1)' '(2022 BY39)' '(2022 CX1)' '(2022 DL4)' '(2022 DZ3)'\n",
      " '(2016 FL60)' '(2016 FH60)' '(2022 CB3)' '(2022 FZ)' '(2022 GQ5)'\n",
      " '(2022 FG4)' '(2022 CB2)' '(2022 CW4)' '(2022 CB2)' '(2022 BD6)'\n",
      " '(2022 DN1)' '(2022 CA5)' '(2022 FC)' '(2022 BJ8)' '(2016 FL60)'\n",
      " '(2022 AB5)' '(2022 EY6)' '(2022 CT19)' '(2022 CH)' '(2016 FL60)'\n",
      " '(2016 FL60)' '(2016 FL60)' '(2022 DN1)' '(2022 DQ2)' '(2022 ET2)'\n",
      " '(2022 CX1)' '(2016 FL60)' '(2022 CW4)' '(2022 ET2)' '(2022 CX1)'\n",
      " '(2022 DN1)' '(2022 BW3)' '(2022 EX1)' '(2022 AL2)' '(2016 FH60)'\n",
      " '(2022 BW3)' '(2022 AH1)' '(2022 CX1)' '(2022 BU2)' '(2022 CQ3)'\n",
      " '(2016 FL60)' '(2022 CX1)' '(2022 GJ4)' '(2022 EC1)' '(2022 BX6)'\n",
      " '(2022 CX1)' '(2022 CK6)' '(2022 BY39)' '(2022 EX1)' '(2022 AW4)'\n",
      " '(2016 FH60)' '(2022 BY39)' '(2022 CX1)' '(2022 CQ3)' '(2016 FL60)'\n",
      " '(2022 DN1)' '(2022 BN)' '(2022 FX1)' '(2022 AB5)' '(2022 DN1)'\n",
      " '(2022 CX1)' '(2022 GJ4)' '(2022 EC1)' '(2022 AV2)' '(2022 DN1)'\n",
      " '(2022 DS3)' '(2022 BH4)' '(2022 CT19)' '(2016 FL60)' '(2022 CU4)'\n",
      " '(2022 CX1)' '(2022 AF2)' '(2022 CB3)' '(2022 DN1)' '(2022 BN)'\n",
      " '(2022 BX6)' '(2022 BG7)' '(2022 DN1)' '(2022 CB3)' '(2022 CM5)'\n",
      " '(2022 DN1)' '(2022 AR2)' '(2022 FZ)' '(2022 DN1)' '(2016 FL60)'\n",
      " '(2022 CX1)' '(2022 ER1)' '(2016 FL60)' '(2022 DE2)' '(2022 EZ4)'\n",
      " '(2022 DN1)' '(2022 FB3)' '(2016 FL60)' '(2022 CW4)' '(2016 FL60)'\n",
      " '(2022 EC1)' '(2022 BW1)' '(2022 DA)' '(2022 DZ3)' '(2022 AR2)'\n",
      " '(2022 GQ5)' '(2016 FL60)' '(2022 BX1)' '(2022 DZ3)' '(2016 FL60)'\n",
      " '(2022 FB3)' '(2022 EN2)' '(2022 CX1)' '(2022 BX6)' '(2022 CV2)'\n",
      " '(2022 CL1)' '(2022 DA)' '(2022 BJ8)' '(2022 BU2)' '(2016 FL60)'\n",
      " '(2022 CB2)' '(2022 BY39)' '(2022 EX)' '(2022 AV2)' '(2022 DN1)'\n",
      " '(2022 DT1)' '(2022 CK6)' '(2022 CX1)' '(2022 EX1)' '(2022 CW4)'\n",
      " '(2022 AP)' '(2022 CD)' '(2022 GQ5)' '(2022 GJ4)' '(2022 EN1)'\n",
      " '(2022 CX1)' '(2022 GQ5)' '(2022 AS)' '(2022 DN1)' '(2022 CZ4)'\n",
      " '(2016 FL60)' '(2022 BN)' '(2022 EN1)' '(2022 EB3)' '(2022 ET2)'\n",
      " '(2022 DA)' '(2022 CL12)' '(2022 EX)' '(2022 GJ4)' '(2022 CW4)'\n",
      " '(2022 EQ4)' '(2022 CX1)' '(2022 DN3)' '(2022 BX6)' '(2022 DA)'\n",
      " '(2022 EX1)' '(2022 AJ1)' '(2022 CX1)' '(2016 FL60)' '(2022 BY39)'\n",
      " '(2022 GJ4)' '(2022 CT19)' '(2022 EN1)' '(2022 DA)' '(2022 BQ3)'\n",
      " '(2022 AF2)' '(2016 FL60)' '(2022 BQ3)' '(2022 BU2)' '(2022 FN1)'\n",
      " '(2022 CQ3)' '(2022 GQ5)' '(2022 CX1)' '(2022 DN1)' '(2022 AS)'\n",
      " '(2016 FL60)']\n",
      "Class: 97       (2022 AX)\n",
      "2917    (2022 GP3)\n",
      "233     (2022 AH3)\n",
      "2665     (2022 GK)\n",
      "1293    (2022 CK6)\n",
      "           ...    \n",
      "1798     (2022 ER)\n",
      "2761    (2022 GR1)\n",
      "2202    (2022 EY6)\n",
      "2447    (2022 FE2)\n",
      "2531    (2022 FC3)\n",
      "Name: name, Length: 591, dtype: object\n",
      "akurasi: 0.01353637901861252\n"
     ]
    }
   ],
   "source": [
    "print(f'hasil prediksi: {nilai_prediksi}',\n",
    "f'Class: {y_test}',\n",
    "f'akurasi: {akurasi}',\n",
    "sep = '\\n'\n",
    ")"
   ]
  },
  {
   "cell_type": "code",
   "execution_count": null,
   "id": "f5eb2721",
   "metadata": {},
   "outputs": [],
   "source": []
  }
 ],
 "metadata": {
  "kernelspec": {
   "display_name": "Python 3 (ipykernel)",
   "language": "python",
   "name": "python3"
  },
  "language_info": {
   "codemirror_mode": {
    "name": "ipython",
    "version": 3
   },
   "file_extension": ".py",
   "mimetype": "text/x-python",
   "name": "python",
   "nbconvert_exporter": "python",
   "pygments_lexer": "ipython3",
   "version": "3.9.12"
  }
 },
 "nbformat": 4,
 "nbformat_minor": 5
}
