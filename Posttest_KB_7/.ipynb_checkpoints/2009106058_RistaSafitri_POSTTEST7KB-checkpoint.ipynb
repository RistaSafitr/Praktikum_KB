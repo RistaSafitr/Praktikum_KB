{
 "cells": [
  {
   "cell_type": "markdown",
   "id": "fdd765bc",
   "metadata": {},
   "source": [
    "# Posttest 7 Kecerdasan Buatan"
   ]
  },
  {
   "cell_type": "markdown",
   "id": "005d2118",
   "metadata": {},
   "source": [
    "Nama : Rista Safitri\n",
    "\n",
    "NIM  : 2009106058"
   ]
  },
  {
   "cell_type": "markdown",
   "id": "47c9bb30",
   "metadata": {},
   "source": [
    "Import library yang dibutuhkan"
   ]
  },
  {
   "cell_type": "code",
   "execution_count": 1,
   "id": "23b98f66",
   "metadata": {},
   "outputs": [],
   "source": [
    "import tensorflow as tf"
   ]
  },
  {
   "cell_type": "markdown",
   "id": "dccef5d3",
   "metadata": {},
   "source": [
    "Membuat sebuah tensor dengan nilai random yang disimpan dalam variabel random_tensor dengan shape(5,5)"
   ]
  },
  {
   "cell_type": "code",
   "execution_count": 2,
   "id": "e0c64446",
   "metadata": {},
   "outputs": [
    {
     "data": {
      "text/plain": [
       "array([[-0.85811085, -0.19662298,  0.13895045, -1.2212768 , -0.40341285],\n",
       "       [-1.1454041 ,  0.63982403, -1.5766119 , -1.0260106 ,  0.6285083 ],\n",
       "       [-0.82822376,  0.34667715,  1.3986593 ,  1.0717978 ,  1.2229327 ],\n",
       "       [-0.07289016,  0.416036  ,  0.597757  ,  0.6337952 ,  0.41772613],\n",
       "       [ 0.82624793, -1.1613202 ,  0.84496194, -0.89267987,  1.3516173 ]],\n",
       "      dtype=float32)"
      ]
     },
     "execution_count": 2,
     "metadata": {},
     "output_type": "execute_result"
    }
   ],
   "source": [
    "random_tensor = tf.random.normal([5,5], mean = 0, stddev = 1, seed = 2).numpy()\n",
    "random_tensor"
   ]
  },
  {
   "cell_type": "markdown",
   "id": "0257cac4",
   "metadata": {},
   "source": [
    "Membuat sebuah tensor dengan nilai bilangan prima yang disimpan dalam variabel prime_tensor dengan shape(5,5)"
   ]
  },
  {
   "cell_type": "code",
   "execution_count": 3,
   "id": "1c0e4ff7",
   "metadata": {},
   "outputs": [
    {
     "data": {
      "text/plain": [
       "[[3, 13, 2, 23, 31],\n",
       " [41, 61, 73, 11, 89],\n",
       " [37, 29, 79, 97, 83],\n",
       " [67, 73, 83, 7, 2],\n",
       " [2, 19, 13, 23, 59]]"
      ]
     },
     "execution_count": 3,
     "metadata": {},
     "output_type": "execute_result"
    }
   ],
   "source": [
    "prime_tensor = [[3,13,2,23,31], [41,61,73,11,89], [37,29,79,97,83], [67,73,83,7,2],[2,19,13,23,59]]\n",
    "prime_tensor"
   ]
  },
  {
   "cell_type": "code",
   "execution_count": 4,
   "id": "38f81d9e",
   "metadata": {},
   "outputs": [],
   "source": [
    "primeTensor_dimension = tf.convert_to_tensor(prime_tensor, dtype = tf.int64)"
   ]
  },
  {
   "cell_type": "markdown",
   "id": "759ed70b",
   "metadata": {},
   "source": [
    "Menampilkan Dimensi kedua variabel yg telah dibuat sebelumnya"
   ]
  },
  {
   "cell_type": "code",
   "execution_count": 5,
   "id": "fc6fe050",
   "metadata": {},
   "outputs": [
    {
     "data": {
      "text/plain": [
       "(5, 5)"
      ]
     },
     "execution_count": 5,
     "metadata": {},
     "output_type": "execute_result"
    }
   ],
   "source": [
    "random_tensor.shape"
   ]
  },
  {
   "cell_type": "code",
   "execution_count": 6,
   "id": "6f271d0a",
   "metadata": {},
   "outputs": [
    {
     "data": {
      "text/plain": [
       "TensorShape([5, 5])"
      ]
     },
     "execution_count": 6,
     "metadata": {},
     "output_type": "execute_result"
    }
   ],
   "source": [
    "primeTensor_dimension.shape"
   ]
  },
  {
   "cell_type": "markdown",
   "id": "bb6e1e18",
   "metadata": {},
   "source": [
    "Menampilkan hasil dari perhitungan aritmetika 2 variable yg telah dibuat sebelumnya"
   ]
  },
  {
   "cell_type": "code",
   "execution_count": 7,
   "id": "93e7db22",
   "metadata": {},
   "outputs": [
    {
     "data": {
      "text/plain": [
       "<tf.Tensor: shape=(5, 5), dtype=float32, numpy=\n",
       "array([[ 2.141889 , 12.803377 ,  2.1389503, 21.778723 , 30.596586 ],\n",
       "       [39.854595 , 61.639824 , 71.423386 ,  9.9739895, 89.62851  ],\n",
       "       [36.171776 , 29.346678 , 80.39866  , 98.0718   , 84.22293  ],\n",
       "       [66.92711  , 73.41604  , 83.597755 ,  7.6337953,  2.417726 ],\n",
       "       [ 2.826248 , 17.83868  , 13.844962 , 22.10732  , 60.351616 ]],\n",
       "      dtype=float32)>"
      ]
     },
     "execution_count": 7,
     "metadata": {},
     "output_type": "execute_result"
    }
   ],
   "source": [
    "tf.add(random_tensor, prime_tensor)"
   ]
  },
  {
   "cell_type": "code",
   "execution_count": 8,
   "id": "386d9648",
   "metadata": {},
   "outputs": [
    {
     "data": {
      "text/plain": [
       "<tf.Tensor: shape=(5, 5), dtype=float32, numpy=\n",
       "array([[ -3.858111 , -13.196623 ,  -1.8610495, -24.221277 , -31.403414 ],\n",
       "       [-42.145405 , -60.360176 , -74.576614 , -12.0260105, -88.37149  ],\n",
       "       [-37.828224 , -28.653322 , -77.60134  , -95.9282   , -81.77707  ],\n",
       "       [-67.07289  , -72.58396  , -82.402245 ,  -6.3662047,  -1.5822738],\n",
       "       [ -1.1737521, -20.16132  , -12.155038 , -23.89268  , -57.648384 ]],\n",
       "      dtype=float32)>"
      ]
     },
     "execution_count": 8,
     "metadata": {},
     "output_type": "execute_result"
    }
   ],
   "source": [
    "tf.subtract(random_tensor, prime_tensor)"
   ]
  },
  {
   "cell_type": "code",
   "execution_count": 9,
   "id": "c127abfd",
   "metadata": {},
   "outputs": [
    {
     "data": {
      "text/plain": [
       "<tf.Tensor: shape=(5, 5), dtype=float32, numpy=\n",
       "array([[  -2.5743325 ,   -2.5560987 ,    0.2779009 ,  -28.089365  ,\n",
       "         -12.505798  ],\n",
       "       [ -46.961567  ,   39.029266  , -115.09267   ,  -11.286117  ,\n",
       "          55.93724   ],\n",
       "       [ -30.64428   ,   10.0536375 ,  110.49409   ,  103.96439   ,\n",
       "         101.50341   ],\n",
       "       [  -4.883641  ,   30.370628  ,   49.61383   ,    4.4365664 ,\n",
       "           0.83545226],\n",
       "       [   1.6524959 ,  -22.065084  ,   10.984506  ,  -20.531637  ,\n",
       "          79.74542   ]], dtype=float32)>"
      ]
     },
     "execution_count": 9,
     "metadata": {},
     "output_type": "execute_result"
    }
   ],
   "source": [
    "tf.multiply(random_tensor, prime_tensor)"
   ]
  },
  {
   "cell_type": "code",
   "execution_count": 10,
   "id": "5150fc9e",
   "metadata": {},
   "outputs": [
    {
     "data": {
      "text/plain": [
       "<tf.Tensor: shape=(5, 5), dtype=float32, numpy=\n",
       "array([[-0.28603694, -0.01512484,  0.06947523, -0.05309899, -0.01301332],\n",
       "       [-0.02793669,  0.01048892, -0.02159742, -0.09327369,  0.00706189],\n",
       "       [-0.02238443,  0.01195438,  0.01770455,  0.01104946,  0.01473413],\n",
       "       [-0.00108791,  0.00569912,  0.00720189,  0.09054217,  0.20886306],\n",
       "       [ 0.41312397, -0.06112212,  0.06499707, -0.03881217,  0.02290877]],\n",
       "      dtype=float32)>"
      ]
     },
     "execution_count": 10,
     "metadata": {},
     "output_type": "execute_result"
    }
   ],
   "source": [
    "tf.divide(random_tensor, prime_tensor)"
   ]
  },
  {
   "cell_type": "code",
   "execution_count": 11,
   "id": "3dc8d955",
   "metadata": {},
   "outputs": [
    {
     "data": {
      "text/plain": [
       "<tf.Tensor: shape=(5, 5), dtype=float32, numpy=\n",
       "array([[-6.31873548e-01, -6.56516508e-10,  1.93072278e-02,\n",
       "        -9.92485428e+01, -6.00124713e-13],\n",
       "       [-2.61401489e+02,  1.47806485e-12, -2.71587610e+14,\n",
       "        -1.32638764e+00,  1.12119814e-18],\n",
       "       [-9.36406548e-04,  4.54811529e-14,  3.24522082e+11,\n",
       "         8.33584106e+02,  1.79643780e+07],\n",
       "       [-0.00000000e+00,  1.57237940e-28,  2.82843735e-19,\n",
       "         4.10811529e-02,  1.74495116e-01],\n",
       "       [ 6.82685614e-01, -1.71430340e+01,  1.11913614e-01,\n",
       "        -7.34517351e-02,  5.25256520e+07]], dtype=float32)>"
      ]
     },
     "execution_count": 11,
     "metadata": {},
     "output_type": "execute_result"
    }
   ],
   "source": [
    "tf.pow(random_tensor, prime_tensor)"
   ]
  },
  {
   "cell_type": "code",
   "execution_count": 12,
   "id": "c5c3028c",
   "metadata": {},
   "outputs": [
    {
     "data": {
      "text/plain": [
       "<tf.Tensor: shape=(5, 5), dtype=float32, numpy=\n",
       "array([[ -88.127075, -115.93792 , -111.70296 ,  -26.248642,  -58.81191 ],\n",
       "       [-103.02376 ,  -84.53985 , -157.12427 , -164.96396 ,  -74.392006],\n",
       "       [ 137.73581 ,  152.41849 ,  239.00243 ,  156.0643  ,  195.56468 ],\n",
       "       [  82.25554 ,   95.96942 ,  135.48308 ,   74.92662 ,  110.294876],\n",
       "       [ -70.97811 ,  -75.080315,  -72.893295,  113.02893 ,   70.34809 ]],\n",
       "      dtype=float32)>"
      ]
     },
     "execution_count": 12,
     "metadata": {},
     "output_type": "execute_result"
    }
   ],
   "source": [
    "tf.matmul(random_tensor, prime_tensor)"
   ]
  },
  {
   "cell_type": "markdown",
   "id": "21f39b50",
   "metadata": {},
   "source": [
    "Menampilkan nilai maksimal dan minimal dari variable random_tensor"
   ]
  },
  {
   "cell_type": "code",
   "execution_count": 13,
   "id": "466e226e",
   "metadata": {},
   "outputs": [
    {
     "data": {
      "text/plain": [
       "<tf.Tensor: shape=(5,), dtype=int64, numpy=array([4, 1, 2, 2, 4], dtype=int64)>"
      ]
     },
     "execution_count": 13,
     "metadata": {},
     "output_type": "execute_result"
    }
   ],
   "source": [
    "tf.argmax(random_tensor, axis = 0)"
   ]
  },
  {
   "cell_type": "code",
   "execution_count": 14,
   "id": "ed3ef0ee",
   "metadata": {},
   "outputs": [
    {
     "data": {
      "text/plain": [
       "<tf.Tensor: shape=(5,), dtype=int64, numpy=array([1, 4, 1, 0, 0], dtype=int64)>"
      ]
     },
     "execution_count": 14,
     "metadata": {},
     "output_type": "execute_result"
    }
   ],
   "source": [
    "tf.argmin(random_tensor, axis = 0)"
   ]
  },
  {
   "cell_type": "markdown",
   "id": "36f93458",
   "metadata": {},
   "source": [
    "Menampilkan hasil dari penggabungan variable random_tensor dengan prime_tensor"
   ]
  },
  {
   "cell_type": "code",
   "execution_count": 15,
   "id": "fce22b02",
   "metadata": {},
   "outputs": [
    {
     "name": "stdout",
     "output_type": "stream",
     "text": [
      "hasil penggabungan variable random_tensor dengan prime_tensoR :  tf.Tensor(\n",
      "[[-8.5811085e-01 -1.9662298e-01  1.3895045e-01 -1.2212768e+00\n",
      "  -4.0341285e-01]\n",
      " [-1.1454041e+00  6.3982403e-01 -1.5766119e+00 -1.0260106e+00\n",
      "   6.2850833e-01]\n",
      " [-8.2822376e-01  3.4667715e-01  1.3986593e+00  1.0717978e+00\n",
      "   1.2229327e+00]\n",
      " [-7.2890162e-02  4.1603601e-01  5.9775698e-01  6.3379520e-01\n",
      "   4.1772613e-01]\n",
      " [ 8.2624793e-01 -1.1613202e+00  8.4496194e-01 -8.9267987e-01\n",
      "   1.3516173e+00]\n",
      " [ 3.0000000e+00  1.3000000e+01  2.0000000e+00  2.3000000e+01\n",
      "   3.1000000e+01]\n",
      " [ 4.1000000e+01  6.1000000e+01  7.3000000e+01  1.1000000e+01\n",
      "   8.9000000e+01]\n",
      " [ 3.7000000e+01  2.9000000e+01  7.9000000e+01  9.7000000e+01\n",
      "   8.3000000e+01]\n",
      " [ 6.7000000e+01  7.3000000e+01  8.3000000e+01  7.0000000e+00\n",
      "   2.0000000e+00]\n",
      " [ 2.0000000e+00  1.9000000e+01  1.3000000e+01  2.3000000e+01\n",
      "   5.9000000e+01]], shape=(10, 5), dtype=float32)\n"
     ]
    }
   ],
   "source": [
    "concatenation1 = tf.concat([random_tensor, prime_tensor], axis = 0)\n",
    "print(\"hasil penggabungan variable random_tensor dengan prime_tensoR : \", concatenation1)"
   ]
  },
  {
   "cell_type": "markdown",
   "id": "fee896be",
   "metadata": {},
   "source": [
    "Menampilkan hasil sorting (descending) dari kedua variable yg telah dibuat sebelumnya. "
   ]
  },
  {
   "cell_type": "code",
   "execution_count": 16,
   "id": "b7132c8e",
   "metadata": {},
   "outputs": [
    {
     "data": {
      "text/plain": [
       "<tf.Tensor: shape=(5, 5), dtype=int32, numpy=\n",
       "array([[4, 3, 1, 0, 2],\n",
       "       [4, 2, 1, 0, 3],\n",
       "       [3, 4, 2, 0, 1],\n",
       "       [2, 1, 0, 3, 4],\n",
       "       [4, 3, 1, 2, 0]])>"
      ]
     },
     "execution_count": 16,
     "metadata": {},
     "output_type": "execute_result"
    }
   ],
   "source": [
    "tf.argsort(prime_tensor, direction = \"DESCENDING\")"
   ]
  },
  {
   "cell_type": "code",
   "execution_count": 17,
   "id": "80e347dd",
   "metadata": {},
   "outputs": [
    {
     "data": {
      "text/plain": [
       "<tf.Tensor: shape=(5, 5), dtype=int32, numpy=\n",
       "array([[2, 1, 4, 0, 3],\n",
       "       [1, 4, 3, 0, 2],\n",
       "       [2, 4, 3, 1, 0],\n",
       "       [3, 2, 4, 1, 0],\n",
       "       [4, 2, 0, 3, 1]])>"
      ]
     },
     "execution_count": 17,
     "metadata": {},
     "output_type": "execute_result"
    }
   ],
   "source": [
    "tf.argsort(random_tensor, direction = \"DESCENDING\")"
   ]
  },
  {
   "cell_type": "code",
   "execution_count": null,
   "id": "46d7f9c9",
   "metadata": {},
   "outputs": [],
   "source": []
  }
 ],
 "metadata": {
  "kernelspec": {
   "display_name": "Python 3 (ipykernel)",
   "language": "python",
   "name": "python3"
  },
  "language_info": {
   "codemirror_mode": {
    "name": "ipython",
    "version": 3
   },
   "file_extension": ".py",
   "mimetype": "text/x-python",
   "name": "python",
   "nbconvert_exporter": "python",
   "pygments_lexer": "ipython3",
   "version": "3.9.12"
  }
 },
 "nbformat": 4,
 "nbformat_minor": 5
}
