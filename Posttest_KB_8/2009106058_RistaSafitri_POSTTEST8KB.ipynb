{
 "cells": [
  {
   "cell_type": "markdown",
   "id": "559fca80",
   "metadata": {},
   "source": [
    "# POSTTEST 8 KECERDASAN BUATAN"
   ]
  },
  {
   "cell_type": "markdown",
   "id": "815c795e",
   "metadata": {},
   "source": [
    "Nama : Rista Safitri\n",
    "\n",
    "NIM  : 2009106058"
   ]
  },
  {
   "cell_type": "markdown",
   "id": "b237586f",
   "metadata": {},
   "source": [
    "Import library yang diperlukan"
   ]
  },
  {
   "cell_type": "code",
   "execution_count": 135,
   "id": "97de2af0",
   "metadata": {},
   "outputs": [],
   "source": [
    "import tensorflow as tf\n",
    "from tensorflow.keras.utils import to_categorical\n",
    "from tensorflow.keras.optimizers import Adam\n",
    "from tensorflow.keras.losses import categorical_crossentropy\n",
    "from tensorflow.keras.callbacks import EarlyStopping\n",
    "from tensorflow.keras import Sequential\n",
    "from tensorflow.keras.layers import Dense\n",
    "from sklearn.model_selection import train_test_split\n",
    "from sklearn.preprocessing import StandardScaler\n",
    "import numpy as np\n",
    "import pandas as pd"
   ]
  },
  {
   "cell_type": "markdown",
   "id": "8ff7e165",
   "metadata": {},
   "source": [
    "import dataset yg dibutuhkan"
   ]
  },
  {
   "cell_type": "code",
   "execution_count": 79,
   "id": "52957650",
   "metadata": {},
   "outputs": [],
   "source": [
    "df = pd.read_csv(\"Nasa_neo_2022.csv\")"
   ]
  },
  {
   "cell_type": "code",
   "execution_count": 82,
   "id": "acdba19a",
   "metadata": {},
   "outputs": [],
   "source": [
    "std = StandardScaler()"
   ]
  },
  {
   "cell_type": "markdown",
   "id": "c2996cc2",
   "metadata": {},
   "source": [
    "Mendaklarasikan data_X dan data_Y"
   ]
  },
  {
   "cell_type": "code",
   "execution_count": 122,
   "id": "fe857723",
   "metadata": {},
   "outputs": [],
   "source": [
    "data_X = df[['est_diameter_min', 'est_diameter_max', 'relative_velocity', 'miss_distance','absolute_magnitude']]\n",
    "data_Y = df['hazardous']"
   ]
  },
  {
   "cell_type": "markdown",
   "id": "7145a1c6",
   "metadata": {},
   "source": [
    "Split data / Membagi data training data dan testing data"
   ]
  },
  {
   "cell_type": "code",
   "execution_count": 123,
   "id": "2ce8a9c5",
   "metadata": {},
   "outputs": [],
   "source": [
    "x_train, x_test, y_train, y_test = train_test_split(data_X, data_Y, test_size = 0.2)"
   ]
  },
  {
   "cell_type": "code",
   "execution_count": 124,
   "id": "c2cf3720",
   "metadata": {},
   "outputs": [
    {
     "name": "stdout",
     "output_type": "stream",
     "text": [
      " Panjang X Train : 2319\n",
      " Panjang Y Train : 2319\n",
      " Panjang X Test  : 580\n",
      " Panjang Y Test  : 580\n",
      "\n"
     ]
    }
   ],
   "source": [
    "print(f' Panjang X Train : {len(x_train)}\\n',\n",
    "f'Panjang Y Train : {len(y_train)}\\n',\n",
    "f'Panjang X Test  : {len(x_test)}\\n',\n",
    "f'Panjang Y Test  : {len(y_test)}\\n')"
   ]
  },
  {
   "cell_type": "markdown",
   "id": "9454ff77",
   "metadata": {},
   "source": [
    "Melihat shape dari x_train dan x_test, serta unique dari y_test"
   ]
  },
  {
   "cell_type": "code",
   "execution_count": 125,
   "id": "090e3bb7",
   "metadata": {},
   "outputs": [
    {
     "data": {
      "text/plain": [
       "(2319, 5)"
      ]
     },
     "execution_count": 125,
     "metadata": {},
     "output_type": "execute_result"
    }
   ],
   "source": [
    "x_train.shape"
   ]
  },
  {
   "cell_type": "code",
   "execution_count": 126,
   "id": "c361db42",
   "metadata": {},
   "outputs": [
    {
     "data": {
      "text/plain": [
       "(580, 5)"
      ]
     },
     "execution_count": 126,
     "metadata": {},
     "output_type": "execute_result"
    }
   ],
   "source": [
    "x_test.shape"
   ]
  },
  {
   "cell_type": "code",
   "execution_count": 127,
   "id": "317633c4",
   "metadata": {},
   "outputs": [
    {
     "data": {
      "text/plain": [
       "array([False,  True])"
      ]
     },
     "execution_count": 127,
     "metadata": {},
     "output_type": "execute_result"
    }
   ],
   "source": [
    "np.unique(y_test)"
   ]
  },
  {
   "cell_type": "markdown",
   "id": "31a97302",
   "metadata": {},
   "source": [
    "Mendeklarasikan y_train dan y_test"
   ]
  },
  {
   "cell_type": "code",
   "execution_count": 128,
   "id": "9235d366",
   "metadata": {},
   "outputs": [],
   "source": [
    "x_scaled_train = std.fit_transform(x_train)\n",
    "x_scaled_test = std.fit_transform(x_test)\n",
    "y_train = to_categorical(y_train, 5)\n",
    "y_test = to_categorical(y_test, 5)"
   ]
  },
  {
   "cell_type": "markdown",
   "id": "bce184fe",
   "metadata": {},
   "source": [
    "Membuat Model Sequential"
   ]
  },
  {
   "cell_type": "code",
   "execution_count": 129,
   "id": "66c77d49",
   "metadata": {},
   "outputs": [
    {
     "name": "stdout",
     "output_type": "stream",
     "text": [
      "Model: \"sequential_8\"\n",
      "_________________________________________________________________\n",
      " Layer (type)                Output Shape              Param #   \n",
      "=================================================================\n",
      " dense_24 (Dense)            (None, 50)                300       \n",
      "                                                                 \n",
      " dense_25 (Dense)            (None, 50)                2550      \n",
      "                                                                 \n",
      " dense_26 (Dense)            (None, 5)                 255       \n",
      "                                                                 \n",
      "=================================================================\n",
      "Total params: 3,105\n",
      "Trainable params: 3,105\n",
      "Non-trainable params: 0\n",
      "_________________________________________________________________\n"
     ]
    }
   ],
   "source": [
    "model = Sequential()\n",
    "\n",
    "#Input Layer\n",
    "model.add(Dense(50, activation = 'relu', input_dim = 5))\n",
    "\n",
    "#Hidden Layer\n",
    "model.add(Dense(50, activation = 'relu'))\n",
    "\n",
    "#Output Layer\n",
    "model.add(Dense(5, activation = 'softmax'))\n",
    "\n",
    "model.summary()"
   ]
  },
  {
   "cell_type": "markdown",
   "id": "7c7fd303",
   "metadata": {},
   "source": [
    "Optimizer"
   ]
  },
  {
   "cell_type": "code",
   "execution_count": 130,
   "id": "e3127c04",
   "metadata": {},
   "outputs": [],
   "source": [
    "model.compile(\n",
    "    optimizer=Adam(),\n",
    "    loss = 'categorical_crossentropy',\n",
    "    metrics = ['accuracy']\n",
    ")"
   ]
  },
  {
   "cell_type": "code",
   "execution_count": 131,
   "id": "8c44d314",
   "metadata": {},
   "outputs": [],
   "source": [
    "monitor_val_acc = EarlyStopping(monitor = 'accuracy', patience = 150)"
   ]
  },
  {
   "cell_type": "markdown",
   "id": "652055c9",
   "metadata": {},
   "source": [
    "Training data"
   ]
  },
  {
   "cell_type": "code",
   "execution_count": 132,
   "id": "66c2690d",
   "metadata": {},
   "outputs": [
    {
     "name": "stdout",
     "output_type": "stream",
     "text": [
      "Epoch 1/250\n",
      "73/73 [==============================] - 1s 3ms/step - loss: 69147.9688 - accuracy: 0.9306 - val_loss: 90103.6016 - val_accuracy: 0.9724\n",
      "Epoch 2/250\n",
      "73/73 [==============================] - 0s 1ms/step - loss: 54885.3945 - accuracy: 0.9483 - val_loss: 82355.1406 - val_accuracy: 0.9724\n",
      "Epoch 3/250\n",
      "73/73 [==============================] - 0s 2ms/step - loss: 66424.2266 - accuracy: 0.9435 - val_loss: 42721.2422 - val_accuracy: 0.9724\n",
      "Epoch 4/250\n",
      "73/73 [==============================] - 0s 2ms/step - loss: 42270.7031 - accuracy: 0.9332 - val_loss: 72370.5625 - val_accuracy: 0.9724\n",
      "Epoch 5/250\n",
      "73/73 [==============================] - 0s 2ms/step - loss: 40217.6016 - accuracy: 0.9349 - val_loss: 70649.8438 - val_accuracy: 0.9724\n",
      "Epoch 6/250\n",
      "73/73 [==============================] - 0s 2ms/step - loss: 48193.2148 - accuracy: 0.9487 - val_loss: 103615.4062 - val_accuracy: 0.9724\n",
      "Epoch 7/250\n",
      "73/73 [==============================] - 0s 2ms/step - loss: 29745.0840 - accuracy: 0.9452 - val_loss: 105232.1484 - val_accuracy: 0.0362\n",
      "Epoch 8/250\n",
      "73/73 [==============================] - 0s 2ms/step - loss: 42924.6172 - accuracy: 0.9345 - val_loss: 59201.5508 - val_accuracy: 0.9724\n",
      "Epoch 9/250\n",
      "73/73 [==============================] - 0s 2ms/step - loss: 44152.8125 - accuracy: 0.9478 - val_loss: 24494.9023 - val_accuracy: 0.9690\n",
      "Epoch 10/250\n",
      "73/73 [==============================] - 0s 2ms/step - loss: 55170.8789 - accuracy: 0.9241 - val_loss: 21585.7715 - val_accuracy: 0.9655\n",
      "Epoch 11/250\n",
      "73/73 [==============================] - 0s 2ms/step - loss: 36762.4961 - accuracy: 0.9362 - val_loss: 37072.9023 - val_accuracy: 0.9724\n",
      "Epoch 12/250\n",
      "73/73 [==============================] - 0s 2ms/step - loss: 35642.6289 - accuracy: 0.9276 - val_loss: 39981.5859 - val_accuracy: 0.9724\n",
      "Epoch 13/250\n",
      "73/73 [==============================] - 0s 2ms/step - loss: 32190.2168 - accuracy: 0.9435 - val_loss: 30123.0508 - val_accuracy: 0.9724\n",
      "Epoch 14/250\n",
      "73/73 [==============================] - 0s 2ms/step - loss: 34671.6172 - accuracy: 0.9414 - val_loss: 25077.8301 - val_accuracy: 0.9724\n",
      "Epoch 15/250\n",
      "73/73 [==============================] - 0s 2ms/step - loss: 28396.3789 - accuracy: 0.9288 - val_loss: 54953.7578 - val_accuracy: 0.9724\n",
      "Epoch 16/250\n",
      "73/73 [==============================] - 0s 2ms/step - loss: 38874.9688 - accuracy: 0.9418 - val_loss: 36547.2891 - val_accuracy: 0.9724\n",
      "Epoch 17/250\n",
      "73/73 [==============================] - 0s 2ms/step - loss: 30595.1074 - accuracy: 0.9306 - val_loss: 50733.0234 - val_accuracy: 0.9724\n",
      "Epoch 18/250\n",
      "73/73 [==============================] - 0s 2ms/step - loss: 42515.6445 - accuracy: 0.9409 - val_loss: 44639.8945 - val_accuracy: 0.9724\n",
      "Epoch 19/250\n",
      "73/73 [==============================] - 0s 2ms/step - loss: 26297.1797 - accuracy: 0.9276 - val_loss: 41409.0430 - val_accuracy: 0.9724\n",
      "Epoch 20/250\n",
      "73/73 [==============================] - 0s 2ms/step - loss: 28423.1836 - accuracy: 0.9439 - val_loss: 12784.8867 - val_accuracy: 0.9724\n",
      "Epoch 21/250\n",
      "73/73 [==============================] - 0s 2ms/step - loss: 31828.3496 - accuracy: 0.9323 - val_loss: 50101.4023 - val_accuracy: 0.9724\n",
      "Epoch 22/250\n",
      "73/73 [==============================] - 0s 2ms/step - loss: 24891.9121 - accuracy: 0.9405 - val_loss: 81290.8359 - val_accuracy: 0.0448\n",
      "Epoch 23/250\n",
      "73/73 [==============================] - 0s 2ms/step - loss: 24191.3145 - accuracy: 0.9349 - val_loss: 20211.3223 - val_accuracy: 0.9724\n",
      "Epoch 24/250\n",
      "73/73 [==============================] - 0s 2ms/step - loss: 26213.0703 - accuracy: 0.9293 - val_loss: 25416.5664 - val_accuracy: 0.9724\n",
      "Epoch 25/250\n",
      "73/73 [==============================] - 0s 2ms/step - loss: 32124.4941 - accuracy: 0.9439 - val_loss: 69957.1641 - val_accuracy: 0.9724\n",
      "Epoch 26/250\n",
      "73/73 [==============================] - 0s 1ms/step - loss: 28504.6309 - accuracy: 0.9280 - val_loss: 22668.7031 - val_accuracy: 0.9724\n",
      "Epoch 27/250\n",
      "73/73 [==============================] - 0s 1ms/step - loss: 28595.5645 - accuracy: 0.9422 - val_loss: 30851.4590 - val_accuracy: 0.9724\n",
      "Epoch 28/250\n",
      "73/73 [==============================] - 0s 1ms/step - loss: 28011.0469 - accuracy: 0.9301 - val_loss: 3213.4656 - val_accuracy: 0.8828\n",
      "Epoch 29/250\n",
      "73/73 [==============================] - 0s 1ms/step - loss: 21849.5000 - accuracy: 0.9301 - val_loss: 8526.2148 - val_accuracy: 0.9724\n",
      "Epoch 30/250\n",
      "73/73 [==============================] - 0s 2ms/step - loss: 23133.3340 - accuracy: 0.9306 - val_loss: 34048.4727 - val_accuracy: 0.9724\n",
      "Epoch 31/250\n",
      "73/73 [==============================] - 0s 2ms/step - loss: 27996.9668 - accuracy: 0.9461 - val_loss: 26554.1777 - val_accuracy: 0.9724\n",
      "Epoch 32/250\n",
      "73/73 [==============================] - 0s 2ms/step - loss: 22837.2695 - accuracy: 0.9276 - val_loss: 55357.7422 - val_accuracy: 0.9724\n",
      "Epoch 33/250\n",
      "73/73 [==============================] - 0s 2ms/step - loss: 29299.2832 - accuracy: 0.9478 - val_loss: 32616.1523 - val_accuracy: 0.9724\n",
      "Epoch 34/250\n",
      "73/73 [==============================] - 0s 2ms/step - loss: 36351.5039 - accuracy: 0.9414 - val_loss: 28639.9551 - val_accuracy: 0.9724\n",
      "Epoch 35/250\n",
      "73/73 [==============================] - 0s 2ms/step - loss: 20772.9375 - accuracy: 0.9288 - val_loss: 19070.2715 - val_accuracy: 0.9724\n",
      "Epoch 36/250\n",
      "73/73 [==============================] - 0s 2ms/step - loss: 22605.8398 - accuracy: 0.9452 - val_loss: 41888.9141 - val_accuracy: 0.9724\n",
      "Epoch 37/250\n",
      "73/73 [==============================] - 0s 2ms/step - loss: 26832.5098 - accuracy: 0.9435 - val_loss: 14013.0332 - val_accuracy: 0.9724\n",
      "Epoch 38/250\n",
      "73/73 [==============================] - 0s 2ms/step - loss: 22463.0254 - accuracy: 0.9310 - val_loss: 35432.6562 - val_accuracy: 0.9724\n",
      "Epoch 39/250\n",
      "73/73 [==============================] - 0s 2ms/step - loss: 23188.4160 - accuracy: 0.9439 - val_loss: 18913.0840 - val_accuracy: 0.9724\n",
      "Epoch 40/250\n",
      "73/73 [==============================] - 0s 2ms/step - loss: 19705.7285 - accuracy: 0.9306 - val_loss: 34195.8477 - val_accuracy: 0.9724\n",
      "Epoch 41/250\n",
      "73/73 [==============================] - 0s 2ms/step - loss: 47136.5078 - accuracy: 0.9357 - val_loss: 7542.8550 - val_accuracy: 0.9724\n",
      "Epoch 42/250\n",
      "73/73 [==============================] - 0s 2ms/step - loss: 16378.5479 - accuracy: 0.9232 - val_loss: 47084.5742 - val_accuracy: 0.9724\n",
      "Epoch 43/250\n",
      "73/73 [==============================] - 0s 2ms/step - loss: 19342.1328 - accuracy: 0.9288 - val_loss: 20111.9043 - val_accuracy: 0.9724\n",
      "Epoch 44/250\n",
      "73/73 [==============================] - 0s 2ms/step - loss: 31396.2441 - accuracy: 0.9487 - val_loss: 34677.5703 - val_accuracy: 0.0448\n",
      "Epoch 45/250\n",
      "73/73 [==============================] - 0s 2ms/step - loss: 20302.4648 - accuracy: 0.9129 - val_loss: 2581.5200 - val_accuracy: 0.9431\n",
      "Epoch 46/250\n",
      "73/73 [==============================] - 0s 2ms/step - loss: 12979.6172 - accuracy: 0.9181 - val_loss: 9454.1787 - val_accuracy: 0.9724\n",
      "Epoch 47/250\n",
      "73/73 [==============================] - 0s 2ms/step - loss: 30379.9434 - accuracy: 0.9452 - val_loss: 4405.9111 - val_accuracy: 0.9724\n",
      "Epoch 48/250\n",
      "73/73 [==============================] - 0s 2ms/step - loss: 21956.3164 - accuracy: 0.9310 - val_loss: 23644.6406 - val_accuracy: 0.9724\n",
      "Epoch 49/250\n",
      "73/73 [==============================] - 0s 2ms/step - loss: 17189.2598 - accuracy: 0.9414 - val_loss: 10649.9590 - val_accuracy: 0.9724\n",
      "Epoch 50/250\n",
      "73/73 [==============================] - 0s 2ms/step - loss: 16816.2734 - accuracy: 0.9276 - val_loss: 41470.2656 - val_accuracy: 0.9724\n",
      "Epoch 51/250\n",
      "73/73 [==============================] - 0s 2ms/step - loss: 9576.2871 - accuracy: 0.9155 - val_loss: 46340.4453 - val_accuracy: 0.9724\n",
      "Epoch 52/250\n",
      "73/73 [==============================] - 0s 2ms/step - loss: 23718.3223 - accuracy: 0.9465 - val_loss: 7085.2334 - val_accuracy: 0.9724\n",
      "Epoch 53/250\n",
      "73/73 [==============================] - 0s 2ms/step - loss: 21600.0176 - accuracy: 0.9301 - val_loss: 3878.7048 - val_accuracy: 0.9724\n",
      "Epoch 54/250\n",
      "73/73 [==============================] - 0s 2ms/step - loss: 21919.7773 - accuracy: 0.9461 - val_loss: 20412.9043 - val_accuracy: 0.9724\n",
      "Epoch 55/250\n",
      "73/73 [==============================] - 0s 2ms/step - loss: 25432.6484 - accuracy: 0.9392 - val_loss: 27440.6504 - val_accuracy: 0.9724\n"
     ]
    },
    {
     "name": "stdout",
     "output_type": "stream",
     "text": [
      "Epoch 56/250\n",
      "73/73 [==============================] - 0s 2ms/step - loss: 16988.1465 - accuracy: 0.9276 - val_loss: 9116.9131 - val_accuracy: 0.9724\n",
      "Epoch 57/250\n",
      "73/73 [==============================] - 0s 2ms/step - loss: 17056.1387 - accuracy: 0.9431 - val_loss: 7697.3062 - val_accuracy: 0.9724\n",
      "Epoch 58/250\n",
      "73/73 [==============================] - 0s 2ms/step - loss: 22325.9746 - accuracy: 0.9383 - val_loss: 1319.3323 - val_accuracy: 0.7931\n",
      "Epoch 59/250\n",
      "73/73 [==============================] - 0s 2ms/step - loss: 14943.2480 - accuracy: 0.9267 - val_loss: 4731.8843 - val_accuracy: 0.9207\n",
      "Epoch 60/250\n",
      "73/73 [==============================] - 0s 2ms/step - loss: 25045.7930 - accuracy: 0.9353 - val_loss: 1889.8488 - val_accuracy: 0.8397\n",
      "Epoch 61/250\n",
      "73/73 [==============================] - 0s 2ms/step - loss: 15796.2090 - accuracy: 0.9237 - val_loss: 1468.7404 - val_accuracy: 0.8207\n",
      "Epoch 62/250\n",
      "73/73 [==============================] - 0s 2ms/step - loss: 17231.0957 - accuracy: 0.9323 - val_loss: 41077.9570 - val_accuracy: 0.9724\n",
      "Epoch 63/250\n",
      "73/73 [==============================] - 0s 2ms/step - loss: 17885.6074 - accuracy: 0.9357 - val_loss: 5507.9429 - val_accuracy: 0.9724\n",
      "Epoch 64/250\n",
      "73/73 [==============================] - 0s 2ms/step - loss: 14704.4297 - accuracy: 0.9426 - val_loss: 16455.6738 - val_accuracy: 0.9724\n",
      "Epoch 65/250\n",
      "73/73 [==============================] - 0s 2ms/step - loss: 20018.8418 - accuracy: 0.9452 - val_loss: 6389.6484 - val_accuracy: 0.9724\n",
      "Epoch 66/250\n",
      "73/73 [==============================] - 0s 2ms/step - loss: 19373.5605 - accuracy: 0.9267 - val_loss: 34770.6094 - val_accuracy: 0.9724\n",
      "Epoch 67/250\n",
      "73/73 [==============================] - 0s 2ms/step - loss: 19844.0547 - accuracy: 0.9448 - val_loss: 20173.2305 - val_accuracy: 0.9724\n",
      "Epoch 68/250\n",
      "73/73 [==============================] - 0s 2ms/step - loss: 20458.2207 - accuracy: 0.9401 - val_loss: 10601.0205 - val_accuracy: 0.9724\n",
      "Epoch 69/250\n",
      "73/73 [==============================] - 0s 1ms/step - loss: 8939.8691 - accuracy: 0.9159 - val_loss: 13874.9521 - val_accuracy: 0.9724\n",
      "Epoch 70/250\n",
      "73/73 [==============================] - 0s 1ms/step - loss: 13220.2480 - accuracy: 0.9465 - val_loss: 8500.8223 - val_accuracy: 0.9724\n",
      "Epoch 71/250\n",
      "73/73 [==============================] - 0s 1ms/step - loss: 16570.0605 - accuracy: 0.9284 - val_loss: 20741.5703 - val_accuracy: 0.9724\n",
      "Epoch 72/250\n",
      "73/73 [==============================] - 0s 2ms/step - loss: 22821.7930 - accuracy: 0.9271 - val_loss: 15729.1865 - val_accuracy: 0.9724\n",
      "Epoch 73/250\n",
      "73/73 [==============================] - 0s 2ms/step - loss: 28269.0605 - accuracy: 0.9426 - val_loss: 12994.5186 - val_accuracy: 0.9724\n",
      "Epoch 74/250\n",
      "73/73 [==============================] - 0s 2ms/step - loss: 10744.7539 - accuracy: 0.9224 - val_loss: 17236.5996 - val_accuracy: 0.9724\n",
      "Epoch 75/250\n",
      "73/73 [==============================] - 0s 2ms/step - loss: 7318.1318 - accuracy: 0.9125 - val_loss: 6981.3218 - val_accuracy: 0.9724\n",
      "Epoch 76/250\n",
      "73/73 [==============================] - 0s 2ms/step - loss: 16643.1992 - accuracy: 0.9401 - val_loss: 33458.2539 - val_accuracy: 0.9724\n",
      "Epoch 77/250\n",
      "73/73 [==============================] - 0s 2ms/step - loss: 17304.6992 - accuracy: 0.9418 - val_loss: 15039.6055 - val_accuracy: 0.9724\n",
      "Epoch 78/250\n",
      "73/73 [==============================] - 0s 2ms/step - loss: 6854.6279 - accuracy: 0.9211 - val_loss: 18426.7402 - val_accuracy: 0.9724\n",
      "Epoch 79/250\n",
      "73/73 [==============================] - 0s 1ms/step - loss: 13115.0049 - accuracy: 0.9241 - val_loss: 12206.1758 - val_accuracy: 0.9534\n",
      "Epoch 80/250\n",
      "73/73 [==============================] - 0s 2ms/step - loss: 11609.9141 - accuracy: 0.9133 - val_loss: 5602.8428 - val_accuracy: 0.9190\n",
      "Epoch 81/250\n",
      "73/73 [==============================] - 0s 2ms/step - loss: 11096.6074 - accuracy: 0.8827 - val_loss: 12243.0840 - val_accuracy: 0.9724\n",
      "Epoch 82/250\n",
      "73/73 [==============================] - 0s 3ms/step - loss: 16617.4668 - accuracy: 0.9293 - val_loss: 15563.0068 - val_accuracy: 0.9724\n",
      "Epoch 83/250\n",
      "73/73 [==============================] - 0s 3ms/step - loss: 13844.0576 - accuracy: 0.9448 - val_loss: 9206.6729 - val_accuracy: 0.9724\n",
      "Epoch 84/250\n",
      "73/73 [==============================] - 0s 2ms/step - loss: 16009.7969 - accuracy: 0.9185 - val_loss: 28264.3535 - val_accuracy: 0.9724\n",
      "Epoch 85/250\n",
      "73/73 [==============================] - 0s 2ms/step - loss: 16870.0742 - accuracy: 0.9375 - val_loss: 10914.0635 - val_accuracy: 0.9724\n",
      "Epoch 86/250\n",
      "73/73 [==============================] - 0s 2ms/step - loss: 11798.2314 - accuracy: 0.9189 - val_loss: 32680.9492 - val_accuracy: 0.9724\n",
      "Epoch 87/250\n",
      "73/73 [==============================] - 0s 2ms/step - loss: 21242.6055 - accuracy: 0.9405 - val_loss: 25312.2012 - val_accuracy: 0.9724\n",
      "Epoch 88/250\n",
      "73/73 [==============================] - 0s 2ms/step - loss: 11938.9180 - accuracy: 0.9224 - val_loss: 24659.4609 - val_accuracy: 0.9724\n",
      "Epoch 89/250\n",
      "73/73 [==============================] - 0s 1ms/step - loss: 18734.5742 - accuracy: 0.9457 - val_loss: 1389.0642 - val_accuracy: 0.8534\n",
      "Epoch 90/250\n",
      "73/73 [==============================] - 0s 2ms/step - loss: 14731.0889 - accuracy: 0.9314 - val_loss: 24448.4258 - val_accuracy: 0.9724\n",
      "Epoch 91/250\n",
      "73/73 [==============================] - 0s 2ms/step - loss: 15125.5918 - accuracy: 0.9414 - val_loss: 6030.1812 - val_accuracy: 0.9724\n",
      "Epoch 92/250\n",
      "73/73 [==============================] - 0s 2ms/step - loss: 9498.4473 - accuracy: 0.9284 - val_loss: 3502.3906 - val_accuracy: 0.9397\n",
      "Epoch 93/250\n",
      "73/73 [==============================] - 0s 2ms/step - loss: 10307.7246 - accuracy: 0.9245 - val_loss: 18504.2207 - val_accuracy: 0.9724\n",
      "Epoch 94/250\n",
      "73/73 [==============================] - 0s 2ms/step - loss: 14113.2139 - accuracy: 0.9401 - val_loss: 10070.0518 - val_accuracy: 0.9724\n",
      "Epoch 95/250\n",
      "73/73 [==============================] - 0s 2ms/step - loss: 10335.8662 - accuracy: 0.9194 - val_loss: 22691.0508 - val_accuracy: 0.9724\n",
      "Epoch 96/250\n",
      "73/73 [==============================] - 0s 1ms/step - loss: 15342.4238 - accuracy: 0.9435 - val_loss: 30886.3652 - val_accuracy: 0.9724\n",
      "Epoch 97/250\n",
      "73/73 [==============================] - 0s 2ms/step - loss: 12467.9863 - accuracy: 0.9383 - val_loss: 1777.1677 - val_accuracy: 0.8810\n",
      "Epoch 98/250\n",
      "73/73 [==============================] - 0s 2ms/step - loss: 8971.0586 - accuracy: 0.9319 - val_loss: 14443.5117 - val_accuracy: 0.9724\n",
      "Epoch 99/250\n",
      "73/73 [==============================] - 0s 2ms/step - loss: 15226.3027 - accuracy: 0.9396 - val_loss: 18410.4590 - val_accuracy: 0.9724\n",
      "Epoch 100/250\n",
      "73/73 [==============================] - 0s 2ms/step - loss: 10706.8223 - accuracy: 0.9301 - val_loss: 3896.1165 - val_accuracy: 0.9724\n",
      "Epoch 101/250\n",
      "73/73 [==============================] - 0s 2ms/step - loss: 12524.2441 - accuracy: 0.9401 - val_loss: 8782.5205 - val_accuracy: 0.9724\n",
      "Epoch 102/250\n",
      "73/73 [==============================] - 0s 2ms/step - loss: 13218.7578 - accuracy: 0.9254 - val_loss: 15662.4619 - val_accuracy: 0.9724\n",
      "Epoch 103/250\n",
      "73/73 [==============================] - 0s 2ms/step - loss: 14495.6758 - accuracy: 0.9414 - val_loss: 24650.2812 - val_accuracy: 0.9724\n",
      "Epoch 104/250\n",
      "73/73 [==============================] - 0s 2ms/step - loss: 13741.1328 - accuracy: 0.9375 - val_loss: 17099.4473 - val_accuracy: 0.9724\n",
      "Epoch 105/250\n",
      "73/73 [==============================] - 0s 2ms/step - loss: 11667.5449 - accuracy: 0.9414 - val_loss: 5524.6694 - val_accuracy: 0.9724\n",
      "Epoch 106/250\n",
      "73/73 [==============================] - 0s 2ms/step - loss: 9284.3672 - accuracy: 0.9332 - val_loss: 13558.0566 - val_accuracy: 0.9724\n",
      "Epoch 107/250\n",
      "73/73 [==============================] - 0s 2ms/step - loss: 9724.1406 - accuracy: 0.9267 - val_loss: 10348.1445 - val_accuracy: 0.9724\n",
      "Epoch 108/250\n",
      "73/73 [==============================] - 0s 2ms/step - loss: 7380.2803 - accuracy: 0.9452 - val_loss: 1126.5348 - val_accuracy: 0.6483\n",
      "Epoch 109/250\n",
      "73/73 [==============================] - 0s 1ms/step - loss: 9826.3750 - accuracy: 0.9310 - val_loss: 1091.6606 - val_accuracy: 0.8690\n",
      "Epoch 110/250\n",
      "73/73 [==============================] - 0s 2ms/step - loss: 9476.6719 - accuracy: 0.9263 - val_loss: 21181.2324 - val_accuracy: 0.9724\n"
     ]
    },
    {
     "name": "stdout",
     "output_type": "stream",
     "text": [
      "Epoch 111/250\n",
      "73/73 [==============================] - 0s 2ms/step - loss: 8374.2988 - accuracy: 0.9254 - val_loss: 7436.6792 - val_accuracy: 0.9724\n",
      "Epoch 112/250\n",
      "73/73 [==============================] - 0s 2ms/step - loss: 9873.0430 - accuracy: 0.9431 - val_loss: 10246.8936 - val_accuracy: 0.9724\n",
      "Epoch 113/250\n",
      "73/73 [==============================] - 0s 2ms/step - loss: 7032.1406 - accuracy: 0.9207 - val_loss: 9437.6211 - val_accuracy: 0.9724\n",
      "Epoch 114/250\n",
      "73/73 [==============================] - 0s 2ms/step - loss: 11105.1045 - accuracy: 0.9461 - val_loss: 13479.6621 - val_accuracy: 0.9724\n",
      "Epoch 115/250\n",
      "73/73 [==============================] - 0s 2ms/step - loss: 11645.2412 - accuracy: 0.9388 - val_loss: 10942.3223 - val_accuracy: 0.9724\n",
      "Epoch 116/250\n",
      "73/73 [==============================] - 0s 2ms/step - loss: 7757.9067 - accuracy: 0.9314 - val_loss: 3742.3457 - val_accuracy: 0.9724\n",
      "Epoch 117/250\n",
      "73/73 [==============================] - 0s 2ms/step - loss: 11628.2803 - accuracy: 0.9271 - val_loss: 26395.5410 - val_accuracy: 0.9724\n",
      "Epoch 118/250\n",
      "73/73 [==============================] - 0s 2ms/step - loss: 9912.5264 - accuracy: 0.9401 - val_loss: 7493.4834 - val_accuracy: 0.9724\n",
      "Epoch 119/250\n",
      "73/73 [==============================] - 0s 2ms/step - loss: 7907.0186 - accuracy: 0.9254 - val_loss: 11590.8105 - val_accuracy: 0.9724\n",
      "Epoch 120/250\n",
      "73/73 [==============================] - 0s 2ms/step - loss: 7004.2642 - accuracy: 0.9293 - val_loss: 20849.2266 - val_accuracy: 0.9724\n",
      "Epoch 121/250\n",
      "73/73 [==============================] - 0s 2ms/step - loss: 9561.8545 - accuracy: 0.9444 - val_loss: 4219.6040 - val_accuracy: 0.9724\n",
      "Epoch 122/250\n",
      "73/73 [==============================] - 0s 1ms/step - loss: 10316.7480 - accuracy: 0.9215 - val_loss: 13609.7383 - val_accuracy: 0.9724\n",
      "Epoch 123/250\n",
      "73/73 [==============================] - 0s 2ms/step - loss: 10829.1602 - accuracy: 0.9297 - val_loss: 10554.3350 - val_accuracy: 0.9724\n",
      "Epoch 124/250\n",
      "73/73 [==============================] - 0s 2ms/step - loss: 17129.9043 - accuracy: 0.9547 - val_loss: 5180.8765 - val_accuracy: 0.9724\n",
      "Epoch 125/250\n",
      "73/73 [==============================] - 0s 2ms/step - loss: 9678.2686 - accuracy: 0.9267 - val_loss: 16219.7002 - val_accuracy: 0.9724\n",
      "Epoch 126/250\n",
      "73/73 [==============================] - 0s 2ms/step - loss: 9422.9922 - accuracy: 0.9414 - val_loss: 14324.7734 - val_accuracy: 0.9724\n",
      "Epoch 127/250\n",
      "73/73 [==============================] - 0s 2ms/step - loss: 15912.2207 - accuracy: 0.9297 - val_loss: 39381.5898 - val_accuracy: 0.9724\n",
      "Epoch 128/250\n",
      "73/73 [==============================] - 0s 2ms/step - loss: 13289.4854 - accuracy: 0.9461 - val_loss: 7141.6973 - val_accuracy: 0.9724\n",
      "Epoch 129/250\n",
      "73/73 [==============================] - 0s 2ms/step - loss: 9481.5166 - accuracy: 0.9396 - val_loss: 7901.6611 - val_accuracy: 0.9724\n",
      "Epoch 130/250\n",
      "73/73 [==============================] - 0s 2ms/step - loss: 8479.5225 - accuracy: 0.9271 - val_loss: 9161.0068 - val_accuracy: 0.9724\n",
      "Epoch 131/250\n",
      "73/73 [==============================] - 0s 1ms/step - loss: 11032.1670 - accuracy: 0.9444 - val_loss: 8292.8125 - val_accuracy: 0.9724\n",
      "Epoch 132/250\n",
      "73/73 [==============================] - 0s 2ms/step - loss: 11286.2637 - accuracy: 0.9379 - val_loss: 3694.1250 - val_accuracy: 0.9724\n",
      "Epoch 133/250\n",
      "73/73 [==============================] - 0s 2ms/step - loss: 9492.8193 - accuracy: 0.9245 - val_loss: 10803.2979 - val_accuracy: 0.9724\n",
      "Epoch 134/250\n",
      "73/73 [==============================] - 0s 2ms/step - loss: 7118.6528 - accuracy: 0.9461 - val_loss: 4106.9146 - val_accuracy: 0.9724\n",
      "Epoch 135/250\n",
      "73/73 [==============================] - 0s 2ms/step - loss: 4397.0034 - accuracy: 0.9172 - val_loss: 268.8780 - val_accuracy: 0.8345\n",
      "Epoch 136/250\n",
      "73/73 [==============================] - 0s 2ms/step - loss: 5525.2231 - accuracy: 0.9060 - val_loss: 7523.2183 - val_accuracy: 0.9724\n",
      "Epoch 137/250\n",
      "73/73 [==============================] - 0s 1ms/step - loss: 8210.5693 - accuracy: 0.9405 - val_loss: 5818.8345 - val_accuracy: 0.9724\n",
      "Epoch 138/250\n",
      "73/73 [==============================] - 0s 2ms/step - loss: 6820.5991 - accuracy: 0.9280 - val_loss: 1897.3038 - val_accuracy: 0.9724\n",
      "Epoch 139/250\n",
      "73/73 [==============================] - 0s 2ms/step - loss: 7560.5830 - accuracy: 0.9301 - val_loss: 9971.1670 - val_accuracy: 0.9724\n",
      "Epoch 140/250\n",
      "73/73 [==============================] - 0s 2ms/step - loss: 7532.5977 - accuracy: 0.9435 - val_loss: 10883.9795 - val_accuracy: 0.0862\n",
      "Epoch 141/250\n",
      "73/73 [==============================] - 0s 2ms/step - loss: 8726.4697 - accuracy: 0.9293 - val_loss: 4667.8916 - val_accuracy: 0.9724\n",
      "Epoch 142/250\n",
      "73/73 [==============================] - 0s 2ms/step - loss: 3794.4497 - accuracy: 0.9232 - val_loss: 7569.1724 - val_accuracy: 0.9724\n",
      "Epoch 143/250\n",
      "73/73 [==============================] - 0s 2ms/step - loss: 5833.5605 - accuracy: 0.9314 - val_loss: 6368.9136 - val_accuracy: 0.9724\n",
      "Epoch 144/250\n",
      "73/73 [==============================] - 0s 1ms/step - loss: 8611.8701 - accuracy: 0.9414 - val_loss: 5701.6802 - val_accuracy: 0.9724\n",
      "Epoch 145/250\n",
      "73/73 [==============================] - 0s 2ms/step - loss: 4029.7722 - accuracy: 0.9301 - val_loss: 6811.2607 - val_accuracy: 0.1207\n",
      "Epoch 146/250\n",
      "73/73 [==============================] - 0s 2ms/step - loss: 5141.5234 - accuracy: 0.9293 - val_loss: 2248.9873 - val_accuracy: 0.9500\n",
      "Epoch 147/250\n",
      "73/73 [==============================] - 0s 2ms/step - loss: 7538.8394 - accuracy: 0.9422 - val_loss: 2710.4773 - val_accuracy: 0.9724\n",
      "Epoch 148/250\n",
      "73/73 [==============================] - 0s 2ms/step - loss: 4743.3760 - accuracy: 0.9060 - val_loss: 3498.3994 - val_accuracy: 0.9724\n",
      "Epoch 149/250\n",
      "73/73 [==============================] - 0s 2ms/step - loss: 8353.7617 - accuracy: 0.9431 - val_loss: 4712.0703 - val_accuracy: 0.9724\n",
      "Epoch 150/250\n",
      "73/73 [==============================] - 0s 2ms/step - loss: 7584.7954 - accuracy: 0.9418 - val_loss: 3463.8752 - val_accuracy: 0.9724\n",
      "Epoch 151/250\n",
      "73/73 [==============================] - 0s 2ms/step - loss: 6993.8467 - accuracy: 0.9276 - val_loss: 5726.2139 - val_accuracy: 0.9724\n",
      "Epoch 152/250\n",
      "73/73 [==============================] - 0s 1ms/step - loss: 7112.7778 - accuracy: 0.9418 - val_loss: 4082.1841 - val_accuracy: 0.9724\n",
      "Epoch 153/250\n",
      "73/73 [==============================] - 0s 1ms/step - loss: 7762.5830 - accuracy: 0.9392 - val_loss: 9072.8066 - val_accuracy: 0.0638\n",
      "Epoch 154/250\n",
      "73/73 [==============================] - 0s 2ms/step - loss: 5781.1147 - accuracy: 0.9276 - val_loss: 8315.2900 - val_accuracy: 0.9724\n",
      "Epoch 155/250\n",
      "73/73 [==============================] - 0s 2ms/step - loss: 5107.6631 - accuracy: 0.9237 - val_loss: 6737.5015 - val_accuracy: 0.9724\n",
      "Epoch 156/250\n",
      "73/73 [==============================] - 0s 1ms/step - loss: 5961.0181 - accuracy: 0.9271 - val_loss: 2005.8604 - val_accuracy: 0.9724\n",
      "Epoch 157/250\n",
      "73/73 [==============================] - 0s 1ms/step - loss: 3383.0701 - accuracy: 0.9353 - val_loss: 1886.6450 - val_accuracy: 0.9724\n",
      "Epoch 158/250\n",
      "73/73 [==============================] - 0s 1ms/step - loss: 5309.2734 - accuracy: 0.9370 - val_loss: 6993.8550 - val_accuracy: 0.9724\n",
      "Epoch 159/250\n",
      "73/73 [==============================] - 0s 2ms/step - loss: 7698.6392 - accuracy: 0.9267 - val_loss: 6657.1094 - val_accuracy: 0.9724\n",
      "Epoch 160/250\n",
      "73/73 [==============================] - 0s 1ms/step - loss: 6156.1235 - accuracy: 0.9396 - val_loss: 5553.2397 - val_accuracy: 0.9724\n",
      "Epoch 161/250\n",
      "73/73 [==============================] - 0s 2ms/step - loss: 3840.9893 - accuracy: 0.9189 - val_loss: 3330.5642 - val_accuracy: 0.9724\n",
      "Epoch 162/250\n",
      "73/73 [==============================] - 0s 2ms/step - loss: 6710.0815 - accuracy: 0.9409 - val_loss: 10091.8086 - val_accuracy: 0.9724\n",
      "Epoch 163/250\n",
      "73/73 [==============================] - 0s 2ms/step - loss: 6623.9624 - accuracy: 0.9340 - val_loss: 7540.7847 - val_accuracy: 0.9724\n",
      "Epoch 164/250\n",
      "73/73 [==============================] - 0s 2ms/step - loss: 5957.6519 - accuracy: 0.9396 - val_loss: 734.6552 - val_accuracy: 0.8690\n",
      "Epoch 165/250\n",
      "73/73 [==============================] - 0s 2ms/step - loss: 5221.3418 - accuracy: 0.9207 - val_loss: 474.8502 - val_accuracy: 0.9310\n"
     ]
    },
    {
     "name": "stdout",
     "output_type": "stream",
     "text": [
      "Epoch 166/250\n",
      "73/73 [==============================] - 0s 2ms/step - loss: 4770.9023 - accuracy: 0.9077 - val_loss: 5466.0718 - val_accuracy: 0.9724\n",
      "Epoch 167/250\n",
      "73/73 [==============================] - 0s 2ms/step - loss: 5086.1426 - accuracy: 0.9370 - val_loss: 2925.2476 - val_accuracy: 0.9724\n",
      "Epoch 168/250\n",
      "73/73 [==============================] - 0s 2ms/step - loss: 4662.3433 - accuracy: 0.9168 - val_loss: 10535.9492 - val_accuracy: 0.9724\n",
      "Epoch 169/250\n",
      "73/73 [==============================] - 0s 2ms/step - loss: 6754.9141 - accuracy: 0.9388 - val_loss: 7886.1553 - val_accuracy: 0.9724\n",
      "Epoch 170/250\n",
      "73/73 [==============================] - 0s 2ms/step - loss: 6234.6548 - accuracy: 0.9396 - val_loss: 4570.1919 - val_accuracy: 0.9724\n",
      "Epoch 171/250\n",
      "73/73 [==============================] - 0s 2ms/step - loss: 6055.1934 - accuracy: 0.9172 - val_loss: 5331.8218 - val_accuracy: 0.9724\n",
      "Epoch 172/250\n",
      "73/73 [==============================] - 0s 2ms/step - loss: 3615.1990 - accuracy: 0.9198 - val_loss: 5741.8950 - val_accuracy: 0.9724\n",
      "Epoch 173/250\n",
      "73/73 [==============================] - 0s 1ms/step - loss: 3960.4412 - accuracy: 0.9448 - val_loss: 541.3880 - val_accuracy: 0.7276\n",
      "Epoch 174/250\n",
      "73/73 [==============================] - 0s 2ms/step - loss: 4819.3301 - accuracy: 0.9219 - val_loss: 9581.8379 - val_accuracy: 0.9724\n",
      "Epoch 175/250\n",
      "73/73 [==============================] - 0s 2ms/step - loss: 3487.7534 - accuracy: 0.9297 - val_loss: 4191.5288 - val_accuracy: 0.9724\n",
      "Epoch 176/250\n",
      "73/73 [==============================] - 0s 2ms/step - loss: 6446.3818 - accuracy: 0.9392 - val_loss: 7474.0498 - val_accuracy: 0.9724\n",
      "Epoch 177/250\n",
      "73/73 [==============================] - 0s 2ms/step - loss: 5037.4419 - accuracy: 0.9327 - val_loss: 915.6329 - val_accuracy: 0.9500\n",
      "Epoch 178/250\n",
      "73/73 [==============================] - 0s 2ms/step - loss: 5685.9004 - accuracy: 0.9254 - val_loss: 9044.9971 - val_accuracy: 0.9724\n",
      "Epoch 179/250\n",
      "73/73 [==============================] - 0s 2ms/step - loss: 5566.2090 - accuracy: 0.9444 - val_loss: 4378.8623 - val_accuracy: 0.9724\n",
      "Epoch 180/250\n",
      "73/73 [==============================] - 0s 2ms/step - loss: 5250.9014 - accuracy: 0.9422 - val_loss: 2519.4165 - val_accuracy: 0.9724\n",
      "Epoch 181/250\n",
      "73/73 [==============================] - 0s 1ms/step - loss: 3395.2993 - accuracy: 0.9241 - val_loss: 4283.3555 - val_accuracy: 0.9724\n",
      "Epoch 182/250\n",
      "73/73 [==============================] - 0s 1ms/step - loss: 4475.7915 - accuracy: 0.9422 - val_loss: 578.3799 - val_accuracy: 0.9000\n",
      "Epoch 183/250\n",
      "73/73 [==============================] - 0s 1ms/step - loss: 4495.7710 - accuracy: 0.9250 - val_loss: 4786.7134 - val_accuracy: 0.9724\n",
      "Epoch 184/250\n",
      "73/73 [==============================] - 0s 2ms/step - loss: 4783.6475 - accuracy: 0.9457 - val_loss: 1493.7523 - val_accuracy: 0.9724\n",
      "Epoch 185/250\n",
      "73/73 [==============================] - 0s 2ms/step - loss: 4115.3550 - accuracy: 0.9094 - val_loss: 12558.4795 - val_accuracy: 0.9724\n",
      "Epoch 186/250\n",
      "73/73 [==============================] - 0s 2ms/step - loss: 5080.4658 - accuracy: 0.9353 - val_loss: 533.6675 - val_accuracy: 0.8431\n",
      "Epoch 187/250\n",
      "73/73 [==============================] - 0s 2ms/step - loss: 3294.4246 - accuracy: 0.9219 - val_loss: 312.2270 - val_accuracy: 0.8190\n",
      "Epoch 188/250\n",
      "73/73 [==============================] - 0s 2ms/step - loss: 2921.3391 - accuracy: 0.9120 - val_loss: 2150.3574 - val_accuracy: 0.9724\n",
      "Epoch 189/250\n",
      "73/73 [==============================] - 0s 2ms/step - loss: 1785.2627 - accuracy: 0.9258 - val_loss: 1058.3015 - val_accuracy: 0.9724\n",
      "Epoch 190/250\n",
      "73/73 [==============================] - 0s 2ms/step - loss: 4051.1086 - accuracy: 0.9461 - val_loss: 4512.4678 - val_accuracy: 0.9724\n",
      "Epoch 191/250\n",
      "73/73 [==============================] - 0s 2ms/step - loss: 4502.1631 - accuracy: 0.9452 - val_loss: 2326.6531 - val_accuracy: 0.9724\n",
      "Epoch 192/250\n",
      "73/73 [==============================] - 0s 2ms/step - loss: 3164.1909 - accuracy: 0.9172 - val_loss: 4702.6562 - val_accuracy: 0.9724\n",
      "Epoch 193/250\n",
      "73/73 [==============================] - 0s 2ms/step - loss: 3437.7288 - accuracy: 0.9470 - val_loss: 653.8367 - val_accuracy: 0.9724\n",
      "Epoch 194/250\n",
      "73/73 [==============================] - 0s 2ms/step - loss: 4764.0830 - accuracy: 0.9288 - val_loss: 1317.3419 - val_accuracy: 0.9724\n",
      "Epoch 195/250\n",
      "73/73 [==============================] - 0s 2ms/step - loss: 4335.9565 - accuracy: 0.9435 - val_loss: 355.0065 - val_accuracy: 0.7241\n",
      "Epoch 196/250\n",
      "73/73 [==============================] - 0s 2ms/step - loss: 3267.5691 - accuracy: 0.9280 - val_loss: 6091.1045 - val_accuracy: 0.9724\n",
      "Epoch 197/250\n",
      "73/73 [==============================] - 0s 2ms/step - loss: 4022.4446 - accuracy: 0.9323 - val_loss: 4754.6074 - val_accuracy: 0.9724\n",
      "Epoch 198/250\n",
      "73/73 [==============================] - 0s 2ms/step - loss: 3822.1406 - accuracy: 0.9345 - val_loss: 349.8692 - val_accuracy: 0.9172\n",
      "Epoch 199/250\n",
      "73/73 [==============================] - 0s 2ms/step - loss: 3192.2156 - accuracy: 0.9189 - val_loss: 1497.7284 - val_accuracy: 0.9724\n",
      "Epoch 200/250\n",
      "73/73 [==============================] - 0s 2ms/step - loss: 2293.1047 - accuracy: 0.9314 - val_loss: 3177.1108 - val_accuracy: 0.9724\n",
      "Epoch 201/250\n",
      "73/73 [==============================] - 0s 2ms/step - loss: 4161.6660 - accuracy: 0.9396 - val_loss: 6970.0112 - val_accuracy: 0.9724\n",
      "Epoch 202/250\n",
      "73/73 [==============================] - 0s 2ms/step - loss: 3638.9453 - accuracy: 0.9435 - val_loss: 3165.4587 - val_accuracy: 0.9724\n",
      "Epoch 203/250\n",
      "73/73 [==============================] - 0s 2ms/step - loss: 3347.1431 - accuracy: 0.9392 - val_loss: 2689.5198 - val_accuracy: 0.0862\n",
      "Epoch 204/250\n",
      "73/73 [==============================] - 0s 2ms/step - loss: 4618.6367 - accuracy: 0.9293 - val_loss: 2398.2207 - val_accuracy: 0.9724\n",
      "Epoch 205/250\n",
      "73/73 [==============================] - 0s 2ms/step - loss: 3326.6777 - accuracy: 0.9465 - val_loss: 3351.7766 - val_accuracy: 0.9724\n",
      "Epoch 206/250\n",
      "73/73 [==============================] - 0s 2ms/step - loss: 4261.7993 - accuracy: 0.9396 - val_loss: 2101.1792 - val_accuracy: 0.9724\n",
      "Epoch 207/250\n",
      "73/73 [==============================] - 0s 2ms/step - loss: 2911.0000 - accuracy: 0.9228 - val_loss: 2017.0323 - val_accuracy: 0.9724\n",
      "Epoch 208/250\n",
      "73/73 [==============================] - 0s 1ms/step - loss: 2229.8577 - accuracy: 0.9349 - val_loss: 357.2585 - val_accuracy: 0.8293\n",
      "Epoch 209/250\n",
      "73/73 [==============================] - 0s 1ms/step - loss: 2853.8596 - accuracy: 0.9293 - val_loss: 1330.2137 - val_accuracy: 0.2638\n",
      "Epoch 210/250\n",
      "73/73 [==============================] - 0s 1ms/step - loss: 3451.3359 - accuracy: 0.9314 - val_loss: 5291.4453 - val_accuracy: 0.9724\n",
      "Epoch 211/250\n",
      "73/73 [==============================] - 0s 1ms/step - loss: 4893.5850 - accuracy: 0.9332 - val_loss: 6699.4995 - val_accuracy: 0.9724\n",
      "Epoch 212/250\n",
      "73/73 [==============================] - 0s 2ms/step - loss: 3215.6545 - accuracy: 0.9293 - val_loss: 3086.5120 - val_accuracy: 0.9724\n",
      "Epoch 213/250\n",
      "73/73 [==============================] - 0s 2ms/step - loss: 3028.7126 - accuracy: 0.9345 - val_loss: 599.4955 - val_accuracy: 0.9724\n",
      "Epoch 214/250\n",
      "73/73 [==============================] - 0s 2ms/step - loss: 1821.8740 - accuracy: 0.9396 - val_loss: 2957.9573 - val_accuracy: 0.9724\n",
      "Epoch 215/250\n",
      "73/73 [==============================] - 0s 2ms/step - loss: 2749.3923 - accuracy: 0.9215 - val_loss: 5155.6250 - val_accuracy: 0.9724\n",
      "Epoch 216/250\n",
      "73/73 [==============================] - 0s 2ms/step - loss: 3295.8254 - accuracy: 0.9327 - val_loss: 1729.4335 - val_accuracy: 0.9724\n",
      "Epoch 217/250\n",
      "73/73 [==============================] - 0s 2ms/step - loss: 3706.5437 - accuracy: 0.9276 - val_loss: 290.3164 - val_accuracy: 0.9724\n",
      "Epoch 218/250\n",
      "73/73 [==============================] - 0s 2ms/step - loss: 3503.3469 - accuracy: 0.9332 - val_loss: 4761.5332 - val_accuracy: 0.9724\n",
      "Epoch 219/250\n",
      "73/73 [==============================] - 0s 2ms/step - loss: 2277.1284 - accuracy: 0.9168 - val_loss: 540.5571 - val_accuracy: 0.8500\n",
      "Epoch 220/250\n",
      "73/73 [==============================] - 0s 2ms/step - loss: 1725.8208 - accuracy: 0.9172 - val_loss: 772.7448 - val_accuracy: 0.9724\n",
      "Epoch 221/250\n"
     ]
    },
    {
     "name": "stdout",
     "output_type": "stream",
     "text": [
      "73/73 [==============================] - 0s 2ms/step - loss: 1800.3861 - accuracy: 0.9241 - val_loss: 847.3140 - val_accuracy: 0.9724\n",
      "Epoch 222/250\n",
      "73/73 [==============================] - 0s 2ms/step - loss: 900.0244 - accuracy: 0.9150 - val_loss: 1821.5364 - val_accuracy: 0.9724\n",
      "Epoch 223/250\n",
      "73/73 [==============================] - 0s 1ms/step - loss: 2502.5869 - accuracy: 0.9457 - val_loss: 2713.8264 - val_accuracy: 0.9724\n",
      "Epoch 224/250\n",
      "73/73 [==============================] - 0s 1ms/step - loss: 1895.4344 - accuracy: 0.9422 - val_loss: 205.1065 - val_accuracy: 0.8207\n",
      "Epoch 225/250\n",
      "73/73 [==============================] - 0s 1ms/step - loss: 1552.6003 - accuracy: 0.9103 - val_loss: 1891.7784 - val_accuracy: 0.9724\n",
      "Epoch 226/250\n",
      "73/73 [==============================] - 0s 1ms/step - loss: 1729.0936 - accuracy: 0.9280 - val_loss: 2026.4296 - val_accuracy: 0.9724\n",
      "Epoch 227/250\n",
      "73/73 [==============================] - 0s 1ms/step - loss: 2548.2427 - accuracy: 0.9444 - val_loss: 2741.8914 - val_accuracy: 0.9724\n",
      "Epoch 228/250\n",
      "73/73 [==============================] - 0s 1ms/step - loss: 2381.0100 - accuracy: 0.9301 - val_loss: 4011.6277 - val_accuracy: 0.9724\n",
      "Epoch 229/250\n",
      "73/73 [==============================] - 0s 1ms/step - loss: 2331.8813 - accuracy: 0.9396 - val_loss: 465.8119 - val_accuracy: 0.9724\n",
      "Epoch 230/250\n",
      "73/73 [==============================] - 0s 1ms/step - loss: 2469.7947 - accuracy: 0.9370 - val_loss: 2548.7732 - val_accuracy: 0.9724\n",
      "Epoch 231/250\n",
      "73/73 [==============================] - 0s 1ms/step - loss: 2088.1541 - accuracy: 0.9271 - val_loss: 4863.6602 - val_accuracy: 0.9724\n",
      "Epoch 232/250\n",
      "73/73 [==============================] - 0s 1ms/step - loss: 1870.0586 - accuracy: 0.9310 - val_loss: 2417.4746 - val_accuracy: 0.9724\n",
      "Epoch 233/250\n",
      "73/73 [==============================] - 0s 1ms/step - loss: 1992.0352 - accuracy: 0.9297 - val_loss: 760.9712 - val_accuracy: 0.9724\n",
      "Epoch 234/250\n",
      "73/73 [==============================] - 0s 2ms/step - loss: 1235.1370 - accuracy: 0.9202 - val_loss: 906.5502 - val_accuracy: 0.9724\n",
      "Epoch 235/250\n",
      "73/73 [==============================] - 0s 2ms/step - loss: 2323.3369 - accuracy: 0.9306 - val_loss: 3339.5667 - val_accuracy: 0.9724\n",
      "Epoch 236/250\n",
      "73/73 [==============================] - 0s 1ms/step - loss: 2046.6477 - accuracy: 0.9418 - val_loss: 1469.3363 - val_accuracy: 0.9724\n",
      "Epoch 237/250\n",
      "73/73 [==============================] - 0s 2ms/step - loss: 1525.6388 - accuracy: 0.9297 - val_loss: 3824.1926 - val_accuracy: 0.9724\n",
      "Epoch 238/250\n",
      "73/73 [==============================] - 0s 1ms/step - loss: 2300.1218 - accuracy: 0.9357 - val_loss: 3031.7810 - val_accuracy: 0.9724\n",
      "Epoch 239/250\n",
      "73/73 [==============================] - 0s 1ms/step - loss: 1158.9130 - accuracy: 0.9319 - val_loss: 208.9686 - val_accuracy: 0.9724\n",
      "Epoch 240/250\n",
      "73/73 [==============================] - 0s 1ms/step - loss: 1326.5974 - accuracy: 0.9379 - val_loss: 1390.8203 - val_accuracy: 0.9724\n",
      "Epoch 241/250\n",
      "73/73 [==============================] - 0s 1ms/step - loss: 1457.0608 - accuracy: 0.9323 - val_loss: 8533.2979 - val_accuracy: 0.0569\n",
      "Epoch 242/250\n",
      "73/73 [==============================] - 0s 2ms/step - loss: 2584.0288 - accuracy: 0.9323 - val_loss: 1466.8365 - val_accuracy: 0.9724\n",
      "Epoch 243/250\n",
      "73/73 [==============================] - 0s 1ms/step - loss: 2275.3225 - accuracy: 0.9250 - val_loss: 150.8344 - val_accuracy: 0.8621\n",
      "Epoch 244/250\n",
      "73/73 [==============================] - 0s 1ms/step - loss: 4847.6797 - accuracy: 0.9181 - val_loss: 9453.9229 - val_accuracy: 0.9724\n",
      "Epoch 245/250\n",
      "73/73 [==============================] - 0s 2ms/step - loss: 3031.8533 - accuracy: 0.9276 - val_loss: 1897.0963 - val_accuracy: 0.9724\n",
      "Epoch 246/250\n",
      "73/73 [==============================] - 0s 2ms/step - loss: 2450.1216 - accuracy: 0.9418 - val_loss: 2186.4216 - val_accuracy: 0.9724\n",
      "Epoch 247/250\n",
      "73/73 [==============================] - 0s 2ms/step - loss: 1402.4185 - accuracy: 0.9310 - val_loss: 138.3847 - val_accuracy: 0.9138\n",
      "Epoch 248/250\n",
      "73/73 [==============================] - 0s 2ms/step - loss: 1620.0022 - accuracy: 0.9306 - val_loss: 2890.2891 - val_accuracy: 0.9724\n",
      "Epoch 249/250\n",
      "73/73 [==============================] - 0s 2ms/step - loss: 1545.7164 - accuracy: 0.9366 - val_loss: 1618.3407 - val_accuracy: 0.9724\n",
      "Epoch 250/250\n",
      "73/73 [==============================] - 0s 2ms/step - loss: 1981.0347 - accuracy: 0.9435 - val_loss: 186.8165 - val_accuracy: 0.8828\n"
     ]
    },
    {
     "data": {
      "text/plain": [
       "<keras.callbacks.History at 0x1f46ad56f10>"
      ]
     },
     "execution_count": 132,
     "metadata": {},
     "output_type": "execute_result"
    }
   ],
   "source": [
    "model.fit(x_train, y_train,\n",
    "    validation_data = (x_test, y_test),\n",
    "    epochs = 250,\n",
    "    verbose = 1,\n",
    "    callbacks = [monitor_val_acc]\n",
    ")"
   ]
  },
  {
   "cell_type": "markdown",
   "id": "cd93e8f8",
   "metadata": {},
   "source": [
    "Mengecek Akurasi Data"
   ]
  },
  {
   "cell_type": "code",
   "execution_count": 133,
   "id": "2d8b445a",
   "metadata": {},
   "outputs": [
    {
     "name": "stdout",
     "output_type": "stream",
     "text": [
      "Test loss: 186.8164520263672\n",
      "Test accuracy: 0.882758617401123\n"
     ]
    }
   ],
   "source": [
    "score = model.evaluate(x_test, y_test, verbose = 0)\n",
    "print('Test loss:', score[0])\n",
    "print('Test accuracy:', score[1])"
   ]
  }
 ],
 "metadata": {
  "kernelspec": {
   "display_name": "Python 3 (ipykernel)",
   "language": "python",
   "name": "python3"
  },
  "language_info": {
   "codemirror_mode": {
    "name": "ipython",
    "version": 3
   },
   "file_extension": ".py",
   "mimetype": "text/x-python",
   "name": "python",
   "nbconvert_exporter": "python",
   "pygments_lexer": "ipython3",
   "version": "3.9.12"
  }
 },
 "nbformat": 4,
 "nbformat_minor": 5
}
